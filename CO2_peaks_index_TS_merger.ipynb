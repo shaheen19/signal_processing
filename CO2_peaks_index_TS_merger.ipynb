{
 "cells": [
  {
   "cell_type": "code",
   "execution_count": 1,
   "id": "front-daughter",
   "metadata": {
    "ExecuteTime": {
     "end_time": "2022-11-28T13:13:27.408125Z",
     "start_time": "2022-11-28T13:13:25.948665Z"
    }
   },
   "outputs": [
    {
     "data": {
      "text/plain": [
       "'C:\\\\Users\\\\bina_\\\\Dropbox\\\\Robina Shaheen_PEMS2022\\\\PEMS_NOx_BC_CO2_ALPR\\\\ii.dwt'"
      ]
     },
     "execution_count": 1,
     "metadata": {},
     "output_type": "execute_result"
    }
   ],
   "source": [
    "%matplotlib inline\n",
    "import os\n",
    "import glob\n",
    "import csv\n",
    "import re\n",
    "import numpy as np\n",
    "import pandas as pd\n",
    "from scipy import signal\n",
    "import matplotlib.pyplot as plt\n",
    "import pywt\n",
    "import matplotlib.dates as mdates\n",
    "from matplotlib.dates import DateFormatter\n",
    "from mpl_toolkits.mplot3d import Axes3D \n",
    "from scipy import signal\n",
    "from scipy.signal import find_peaks\n",
    "from scipy import optimize\n",
    "from scipy.stats import linregress, stats\n",
    "import seaborn as sns\n",
    "\n",
    "import datetime as dt\n",
    "from textwrap import wrap\n",
    "\n",
    "\n",
    "# Handle date time conversions between pandas and matplotlib\n",
    "from pandas.plotting import register_matplotlib_converters\n",
    "register_matplotlib_converters()\n",
    "os.getcwd()"
   ]
  },
  {
   "cell_type": "code",
   "execution_count": 2,
   "id": "devoted-grenada",
   "metadata": {
    "ExecuteTime": {
     "end_time": "2022-11-28T13:13:27.734240Z",
     "start_time": "2022-11-28T13:13:27.673163Z"
    }
   },
   "outputs": [
    {
     "name": "stdout",
     "output_type": "stream",
     "text": [
      "       HW_CO2  peak_height          Ti          Tf      Area_CO2   CO2 (ug/m3)\n",
      "0  126.247273   368.902634  230.964721  357.211993  46572.951467  83812.264399\n",
      "1   38.526629   367.884608  406.558750  445.085379  14173.353748  25506.239873\n",
      "2  113.538243   367.910378  541.237969  654.776212  41771.897940  75172.331671\n",
      "3   69.130348   376.305601  798.237072  867.367420  26014.137202  46814.807235\n",
      "4   11.339629   373.332662  928.733648  940.073276   4233.453754   7618.485284\n",
      "   index  Conc. CO2     time2\n",
      "0      0  380.262333  0:00:01\n",
      "1      1  380.194802  0:00:02\n",
      "2      2  380.116353  0:00:03\n",
      "3      3  380.028352  0:00:04\n",
      "4      4  379.931131  0:00:05\n",
      "486\n",
      "71054\n",
      "index           int64\n",
      "Conc. CO2     float64\n",
      "time2          object\n",
      "dtype: object\n"
     ]
    }
   ],
   "source": [
    "df1 = pd.read_csv('./Results2/CO2_peakarea_index.csv',)\n",
    "df2 = pd.read_csv('./Results2/CO2_s6_index_time.csv',)\n",
    "# df2=df.transpose()\n",
    "del df1[df1.columns[0]]\n",
    "print(df1.head())\n",
    "print(df2.head())\n",
    "print(len(df1))\n",
    "print(len(df2))\n",
    "print(df2.dtypes)"
   ]
  },
  {
   "cell_type": "code",
   "execution_count": 3,
   "id": "smart-trunk",
   "metadata": {
    "ExecuteTime": {
     "end_time": "2022-11-28T13:13:28.018003Z",
     "start_time": "2022-11-28T13:13:28.004003Z"
    }
   },
   "outputs": [
    {
     "name": "stdout",
     "output_type": "stream",
     "text": [
      "HW_CO2         float64\n",
      "peak_height    float64\n",
      "t1_indexed     float64\n",
      "Tf             float64\n",
      "Area_CO2       float64\n",
      "CO2 (ug/m3)    float64\n",
      "dtype: object\n"
     ]
    }
   ],
   "source": [
    "df1.rename(columns={'Ti':'t1_indexed'}, inplace=True)\n",
    "# df1.columns\n",
    "print(df1.dtypes)"
   ]
  },
  {
   "cell_type": "code",
   "execution_count": 4,
   "id": "exterior-andrews",
   "metadata": {
    "ExecuteTime": {
     "end_time": "2022-11-28T13:13:28.316446Z",
     "start_time": "2022-11-28T13:13:28.297494Z"
    }
   },
   "outputs": [
    {
     "name": "stdout",
     "output_type": "stream",
     "text": [
      "t1_indexed      int64\n",
      "Conc. CO2     float64\n",
      "time2          object\n",
      "dtype: object\n"
     ]
    }
   ],
   "source": [
    "\n",
    "df2.rename(columns={'index':'t1_indexed'}, inplace=True)\n",
    "# df1.columns\n",
    "print(df2.dtypes)"
   ]
  },
  {
   "cell_type": "code",
   "execution_count": 5,
   "id": "attached-belgium",
   "metadata": {
    "ExecuteTime": {
     "end_time": "2022-11-28T13:13:29.059756Z",
     "start_time": "2022-11-28T13:13:29.046821Z"
    }
   },
   "outputs": [
    {
     "data": {
      "text/html": [
       "<div>\n",
       "<style scoped>\n",
       "    .dataframe tbody tr th:only-of-type {\n",
       "        vertical-align: middle;\n",
       "    }\n",
       "\n",
       "    .dataframe tbody tr th {\n",
       "        vertical-align: top;\n",
       "    }\n",
       "\n",
       "    .dataframe thead th {\n",
       "        text-align: right;\n",
       "    }\n",
       "</style>\n",
       "<table border=\"1\" class=\"dataframe\">\n",
       "  <thead>\n",
       "    <tr style=\"text-align: right;\">\n",
       "      <th></th>\n",
       "      <th>t1_indexed</th>\n",
       "      <th>Conc. CO2</th>\n",
       "      <th>time2</th>\n",
       "    </tr>\n",
       "  </thead>\n",
       "  <tbody>\n",
       "    <tr>\n",
       "      <th>0</th>\n",
       "      <td>0</td>\n",
       "      <td>380.262333</td>\n",
       "      <td>0:00:01</td>\n",
       "    </tr>\n",
       "    <tr>\n",
       "      <th>1</th>\n",
       "      <td>1</td>\n",
       "      <td>380.194802</td>\n",
       "      <td>0:00:02</td>\n",
       "    </tr>\n",
       "    <tr>\n",
       "      <th>2</th>\n",
       "      <td>2</td>\n",
       "      <td>380.116353</td>\n",
       "      <td>0:00:03</td>\n",
       "    </tr>\n",
       "    <tr>\n",
       "      <th>3</th>\n",
       "      <td>3</td>\n",
       "      <td>380.028352</td>\n",
       "      <td>0:00:04</td>\n",
       "    </tr>\n",
       "    <tr>\n",
       "      <th>4</th>\n",
       "      <td>4</td>\n",
       "      <td>379.931131</td>\n",
       "      <td>0:00:05</td>\n",
       "    </tr>\n",
       "  </tbody>\n",
       "</table>\n",
       "</div>"
      ],
      "text/plain": [
       "   t1_indexed  Conc. CO2     time2\n",
       "0           0  380.262333  0:00:01\n",
       "1           1  380.194802  0:00:02\n",
       "2           2  380.116353  0:00:03\n",
       "3           3  380.028352  0:00:04\n",
       "4           4  379.931131  0:00:05"
      ]
     },
     "execution_count": 5,
     "metadata": {},
     "output_type": "execute_result"
    }
   ],
   "source": [
    "df2.head()"
   ]
  },
  {
   "cell_type": "code",
   "execution_count": 6,
   "id": "alive-bailey",
   "metadata": {
    "ExecuteTime": {
     "end_time": "2022-11-28T13:13:29.774162Z",
     "start_time": "2022-11-28T13:13:29.756288Z"
    }
   },
   "outputs": [
    {
     "data": {
      "text/html": [
       "<div>\n",
       "<style scoped>\n",
       "    .dataframe tbody tr th:only-of-type {\n",
       "        vertical-align: middle;\n",
       "    }\n",
       "\n",
       "    .dataframe tbody tr th {\n",
       "        vertical-align: top;\n",
       "    }\n",
       "\n",
       "    .dataframe thead th {\n",
       "        text-align: right;\n",
       "    }\n",
       "</style>\n",
       "<table border=\"1\" class=\"dataframe\">\n",
       "  <thead>\n",
       "    <tr style=\"text-align: right;\">\n",
       "      <th></th>\n",
       "      <th>HW_CO2</th>\n",
       "      <th>peak_height</th>\n",
       "      <th>t1_indexed</th>\n",
       "      <th>Tf</th>\n",
       "      <th>Area_CO2</th>\n",
       "      <th>CO2 (ug/m3)</th>\n",
       "    </tr>\n",
       "  </thead>\n",
       "  <tbody>\n",
       "    <tr>\n",
       "      <th>0</th>\n",
       "      <td>126.247273</td>\n",
       "      <td>368.902634</td>\n",
       "      <td>230.964721</td>\n",
       "      <td>357.211993</td>\n",
       "      <td>46572.951467</td>\n",
       "      <td>83812.264399</td>\n",
       "    </tr>\n",
       "    <tr>\n",
       "      <th>1</th>\n",
       "      <td>38.526629</td>\n",
       "      <td>367.884608</td>\n",
       "      <td>406.558750</td>\n",
       "      <td>445.085379</td>\n",
       "      <td>14173.353748</td>\n",
       "      <td>25506.239873</td>\n",
       "    </tr>\n",
       "    <tr>\n",
       "      <th>2</th>\n",
       "      <td>113.538243</td>\n",
       "      <td>367.910378</td>\n",
       "      <td>541.237969</td>\n",
       "      <td>654.776212</td>\n",
       "      <td>41771.897940</td>\n",
       "      <td>75172.331671</td>\n",
       "    </tr>\n",
       "    <tr>\n",
       "      <th>3</th>\n",
       "      <td>69.130348</td>\n",
       "      <td>376.305601</td>\n",
       "      <td>798.237072</td>\n",
       "      <td>867.367420</td>\n",
       "      <td>26014.137202</td>\n",
       "      <td>46814.807235</td>\n",
       "    </tr>\n",
       "    <tr>\n",
       "      <th>4</th>\n",
       "      <td>11.339629</td>\n",
       "      <td>373.332662</td>\n",
       "      <td>928.733648</td>\n",
       "      <td>940.073276</td>\n",
       "      <td>4233.453754</td>\n",
       "      <td>7618.485284</td>\n",
       "    </tr>\n",
       "  </tbody>\n",
       "</table>\n",
       "</div>"
      ],
      "text/plain": [
       "       HW_CO2  peak_height  t1_indexed          Tf      Area_CO2   CO2 (ug/m3)\n",
       "0  126.247273   368.902634  230.964721  357.211993  46572.951467  83812.264399\n",
       "1   38.526629   367.884608  406.558750  445.085379  14173.353748  25506.239873\n",
       "2  113.538243   367.910378  541.237969  654.776212  41771.897940  75172.331671\n",
       "3   69.130348   376.305601  798.237072  867.367420  26014.137202  46814.807235\n",
       "4   11.339629   373.332662  928.733648  940.073276   4233.453754   7618.485284"
      ]
     },
     "execution_count": 6,
     "metadata": {},
     "output_type": "execute_result"
    }
   ],
   "source": [
    "df1.head()"
   ]
  },
  {
   "cell_type": "code",
   "execution_count": 7,
   "id": "brazilian-individual",
   "metadata": {
    "ExecuteTime": {
     "end_time": "2022-11-28T13:13:30.538558Z",
     "start_time": "2022-11-28T13:13:30.507607Z"
    }
   },
   "outputs": [
    {
     "data": {
      "text/html": [
       "<div>\n",
       "<style scoped>\n",
       "    .dataframe tbody tr th:only-of-type {\n",
       "        vertical-align: middle;\n",
       "    }\n",
       "\n",
       "    .dataframe tbody tr th {\n",
       "        vertical-align: top;\n",
       "    }\n",
       "\n",
       "    .dataframe thead th {\n",
       "        text-align: right;\n",
       "    }\n",
       "</style>\n",
       "<table border=\"1\" class=\"dataframe\">\n",
       "  <thead>\n",
       "    <tr style=\"text-align: right;\">\n",
       "      <th></th>\n",
       "      <th>HW_CO2</th>\n",
       "      <th>peak_height</th>\n",
       "      <th>t1_indexed</th>\n",
       "      <th>Tf</th>\n",
       "      <th>Area_CO2</th>\n",
       "      <th>CO2 (ug/m3)</th>\n",
       "      <th>CO2 EF</th>\n",
       "    </tr>\n",
       "  </thead>\n",
       "  <tbody>\n",
       "    <tr>\n",
       "      <th>0</th>\n",
       "      <td>126.247273</td>\n",
       "      <td>368.902634</td>\n",
       "      <td>230.964721</td>\n",
       "      <td>357.211993</td>\n",
       "      <td>46572.951467</td>\n",
       "      <td>83812.264399</td>\n",
       "      <td>264285.213329</td>\n",
       "    </tr>\n",
       "    <tr>\n",
       "      <th>1</th>\n",
       "      <td>38.526629</td>\n",
       "      <td>367.884608</td>\n",
       "      <td>406.558750</td>\n",
       "      <td>445.085379</td>\n",
       "      <td>14173.353748</td>\n",
       "      <td>25506.239873</td>\n",
       "      <td>80428.826192</td>\n",
       "    </tr>\n",
       "    <tr>\n",
       "      <th>2</th>\n",
       "      <td>113.538243</td>\n",
       "      <td>367.910378</td>\n",
       "      <td>541.237969</td>\n",
       "      <td>654.776212</td>\n",
       "      <td>41771.897940</td>\n",
       "      <td>75172.331671</td>\n",
       "      <td>237040.913457</td>\n",
       "    </tr>\n",
       "    <tr>\n",
       "      <th>3</th>\n",
       "      <td>69.130348</td>\n",
       "      <td>376.305601</td>\n",
       "      <td>798.237072</td>\n",
       "      <td>867.367420</td>\n",
       "      <td>26014.137202</td>\n",
       "      <td>46814.807235</td>\n",
       "      <td>147621.131654</td>\n",
       "    </tr>\n",
       "    <tr>\n",
       "      <th>4</th>\n",
       "      <td>11.339629</td>\n",
       "      <td>373.332662</td>\n",
       "      <td>928.733648</td>\n",
       "      <td>940.073276</td>\n",
       "      <td>4233.453754</td>\n",
       "      <td>7618.485284</td>\n",
       "      <td>24023.369645</td>\n",
       "    </tr>\n",
       "  </tbody>\n",
       "</table>\n",
       "</div>"
      ],
      "text/plain": [
       "       HW_CO2  peak_height  t1_indexed          Tf      Area_CO2  \\\n",
       "0  126.247273   368.902634  230.964721  357.211993  46572.951467   \n",
       "1   38.526629   367.884608  406.558750  445.085379  14173.353748   \n",
       "2  113.538243   367.910378  541.237969  654.776212  41771.897940   \n",
       "3   69.130348   376.305601  798.237072  867.367420  26014.137202   \n",
       "4   11.339629   373.332662  928.733648  940.073276   4233.453754   \n",
       "\n",
       "    CO2 (ug/m3)         CO2 EF  \n",
       "0  83812.264399  264285.213329  \n",
       "1  25506.239873   80428.826192  \n",
       "2  75172.331671  237040.913457  \n",
       "3  46814.807235  147621.131654  \n",
       "4   7618.485284   24023.369645  "
      ]
     },
     "execution_count": 7,
     "metadata": {},
     "output_type": "execute_result"
    }
   ],
   "source": [
    "df1[\"CO2 EF\"] = (df1[\"CO2 (ug/m3)\"]*3.1533)\n",
    "df1.head()"
   ]
  },
  {
   "cell_type": "code",
   "execution_count": 8,
   "id": "alike-knitting",
   "metadata": {
    "ExecuteTime": {
     "end_time": "2022-11-28T13:13:31.255304Z",
     "start_time": "2022-11-28T13:13:31.236338Z"
    }
   },
   "outputs": [
    {
     "name": "stdout",
     "output_type": "stream",
     "text": [
      "t1_indexed      int64\n",
      "Conc. CO2     float64\n",
      "time2          object\n",
      "dtype: object\n"
     ]
    }
   ],
   "source": [
    "print(df2.dtypes)\n",
    "# print(df1.dtypes)"
   ]
  },
  {
   "cell_type": "code",
   "execution_count": 9,
   "id": "administrative-stewart",
   "metadata": {
    "ExecuteTime": {
     "end_time": "2022-11-28T13:13:32.063101Z",
     "start_time": "2022-11-28T13:13:32.045125Z"
    }
   },
   "outputs": [
    {
     "data": {
      "text/plain": [
       "t1_indexed    float64\n",
       "Conc. CO2     float64\n",
       "time2          object\n",
       "dtype: object"
      ]
     },
     "execution_count": 9,
     "metadata": {},
     "output_type": "execute_result"
    }
   ],
   "source": [
    "df2['t1_indexed'] = df2['t1_indexed'].astype(float)\n",
    "df2.dtypes"
   ]
  },
  {
   "cell_type": "code",
   "execution_count": 10,
   "id": "focal-violin",
   "metadata": {
    "ExecuteTime": {
     "end_time": "2022-11-28T13:13:32.842219Z",
     "start_time": "2022-11-28T13:13:32.832247Z"
    }
   },
   "outputs": [],
   "source": [
    "df1.sort_values(by='t1_indexed', inplace=True)\n",
    "df2.sort_values(by='t1_indexed', inplace=True)"
   ]
  },
  {
   "cell_type": "code",
   "execution_count": 11,
   "id": "narrow-bahrain",
   "metadata": {
    "ExecuteTime": {
     "end_time": "2022-11-28T13:13:33.633205Z",
     "start_time": "2022-11-28T13:13:33.611307Z"
    }
   },
   "outputs": [
    {
     "name": "stdout",
     "output_type": "stream",
     "text": [
      "486\n"
     ]
    },
    {
     "data": {
      "text/html": [
       "<div>\n",
       "<style scoped>\n",
       "    .dataframe tbody tr th:only-of-type {\n",
       "        vertical-align: middle;\n",
       "    }\n",
       "\n",
       "    .dataframe tbody tr th {\n",
       "        vertical-align: top;\n",
       "    }\n",
       "\n",
       "    .dataframe thead th {\n",
       "        text-align: right;\n",
       "    }\n",
       "</style>\n",
       "<table border=\"1\" class=\"dataframe\">\n",
       "  <thead>\n",
       "    <tr style=\"text-align: right;\">\n",
       "      <th></th>\n",
       "      <th>HW_CO2</th>\n",
       "      <th>peak_height</th>\n",
       "      <th>t1_indexed</th>\n",
       "      <th>Tf</th>\n",
       "      <th>Area_CO2</th>\n",
       "      <th>CO2 (ug/m3)</th>\n",
       "      <th>CO2 EF</th>\n",
       "      <th>Conc. CO2</th>\n",
       "      <th>time2</th>\n",
       "    </tr>\n",
       "  </thead>\n",
       "  <tbody>\n",
       "    <tr>\n",
       "      <th>0</th>\n",
       "      <td>126.247273</td>\n",
       "      <td>368.902634</td>\n",
       "      <td>230.964721</td>\n",
       "      <td>357.211993</td>\n",
       "      <td>46572.951467</td>\n",
       "      <td>83812.264399</td>\n",
       "      <td>264285.213329</td>\n",
       "      <td>368.904678</td>\n",
       "      <td>0:05:40</td>\n",
       "    </tr>\n",
       "    <tr>\n",
       "      <th>1</th>\n",
       "      <td>38.526629</td>\n",
       "      <td>367.884608</td>\n",
       "      <td>406.558750</td>\n",
       "      <td>445.085379</td>\n",
       "      <td>14173.353748</td>\n",
       "      <td>25506.239873</td>\n",
       "      <td>80428.826192</td>\n",
       "      <td>367.897092</td>\n",
       "      <td>0:08:36</td>\n",
       "    </tr>\n",
       "    <tr>\n",
       "      <th>2</th>\n",
       "      <td>113.538243</td>\n",
       "      <td>367.910378</td>\n",
       "      <td>541.237969</td>\n",
       "      <td>654.776212</td>\n",
       "      <td>41771.897940</td>\n",
       "      <td>75172.331671</td>\n",
       "      <td>237040.913457</td>\n",
       "      <td>367.887545</td>\n",
       "      <td>0:10:50</td>\n",
       "    </tr>\n",
       "    <tr>\n",
       "      <th>3</th>\n",
       "      <td>69.130348</td>\n",
       "      <td>376.305601</td>\n",
       "      <td>798.237072</td>\n",
       "      <td>867.367420</td>\n",
       "      <td>26014.137202</td>\n",
       "      <td>46814.807235</td>\n",
       "      <td>147621.131654</td>\n",
       "      <td>376.272816</td>\n",
       "      <td>0:15:07</td>\n",
       "    </tr>\n",
       "    <tr>\n",
       "      <th>4</th>\n",
       "      <td>11.339629</td>\n",
       "      <td>373.332662</td>\n",
       "      <td>928.733648</td>\n",
       "      <td>940.073276</td>\n",
       "      <td>4233.453754</td>\n",
       "      <td>7618.485284</td>\n",
       "      <td>24023.369645</td>\n",
       "      <td>373.336148</td>\n",
       "      <td>0:17:18</td>\n",
       "    </tr>\n",
       "  </tbody>\n",
       "</table>\n",
       "</div>"
      ],
      "text/plain": [
       "       HW_CO2  peak_height  t1_indexed          Tf      Area_CO2  \\\n",
       "0  126.247273   368.902634  230.964721  357.211993  46572.951467   \n",
       "1   38.526629   367.884608  406.558750  445.085379  14173.353748   \n",
       "2  113.538243   367.910378  541.237969  654.776212  41771.897940   \n",
       "3   69.130348   376.305601  798.237072  867.367420  26014.137202   \n",
       "4   11.339629   373.332662  928.733648  940.073276   4233.453754   \n",
       "\n",
       "    CO2 (ug/m3)         CO2 EF  Conc. CO2     time2  \n",
       "0  83812.264399  264285.213329  368.904678  0:05:40  \n",
       "1  25506.239873   80428.826192  367.897092  0:08:36  \n",
       "2  75172.331671  237040.913457  367.887545  0:10:50  \n",
       "3  46814.807235  147621.131654  376.272816  0:15:07  \n",
       "4   7618.485284   24023.369645  373.336148  0:17:18  "
      ]
     },
     "execution_count": 11,
     "metadata": {},
     "output_type": "execute_result"
    }
   ],
   "source": [
    "df3= pd.merge_asof(\n",
    "    df1, df2, on=\"t1_indexed\",direction=\"nearest\",  \n",
    "        allow_exact_matches=False)\n",
    "print(len(df3))\n",
    "df3.head()"
   ]
  },
  {
   "cell_type": "code",
   "execution_count": 12,
   "id": "royal-reviewer",
   "metadata": {
    "ExecuteTime": {
     "end_time": "2022-11-28T13:13:34.532461Z",
     "start_time": "2022-11-28T13:13:34.511511Z"
    }
   },
   "outputs": [],
   "source": [
    "df3.to_csv('./Results2/merged_CO2_EF_index.csv')"
   ]
  },
  {
   "cell_type": "code",
   "execution_count": null,
   "id": "illegal-scroll",
   "metadata": {
    "ExecuteTime": {
     "end_time": "2022-11-09T22:44:34.447663Z",
     "start_time": "2022-11-09T22:44:34.427717Z"
    }
   },
   "outputs": [],
   "source": [
    "\n"
   ]
  },
  {
   "cell_type": "code",
   "execution_count": null,
   "id": "assured-retention",
   "metadata": {},
   "outputs": [],
   "source": []
  },
  {
   "cell_type": "code",
   "execution_count": null,
   "id": "radical-tennessee",
   "metadata": {},
   "outputs": [],
   "source": []
  },
  {
   "cell_type": "code",
   "execution_count": null,
   "id": "downtown-raise",
   "metadata": {},
   "outputs": [],
   "source": [
    "\n",
    "\n"
   ]
  },
  {
   "cell_type": "code",
   "execution_count": null,
   "id": "beneficial-suite",
   "metadata": {},
   "outputs": [],
   "source": []
  },
  {
   "cell_type": "code",
   "execution_count": null,
   "id": "developing-closing",
   "metadata": {},
   "outputs": [],
   "source": []
  },
  {
   "cell_type": "code",
   "execution_count": null,
   "id": "assisted-butterfly",
   "metadata": {},
   "outputs": [],
   "source": [
    "\n",
    "\n"
   ]
  }
 ],
 "metadata": {
  "kernelspec": {
   "display_name": "Python 3",
   "language": "python",
   "name": "python3"
  },
  "language_info": {
   "codemirror_mode": {
    "name": "ipython",
    "version": 3
   },
   "file_extension": ".py",
   "mimetype": "text/x-python",
   "name": "python",
   "nbconvert_exporter": "python",
   "pygments_lexer": "ipython3",
   "version": "3.7.9"
  },
  "toc": {
   "base_numbering": 1,
   "nav_menu": {},
   "number_sections": true,
   "sideBar": true,
   "skip_h1_title": false,
   "title_cell": "Table of Contents",
   "title_sidebar": "Contents",
   "toc_cell": false,
   "toc_position": {},
   "toc_section_display": true,
   "toc_window_display": false
  },
  "varInspector": {
   "cols": {
    "lenName": 16,
    "lenType": 16,
    "lenVar": 40
   },
   "kernels_config": {
    "python": {
     "delete_cmd_postfix": "",
     "delete_cmd_prefix": "del ",
     "library": "var_list.py",
     "varRefreshCmd": "print(var_dic_list())"
    },
    "r": {
     "delete_cmd_postfix": ") ",
     "delete_cmd_prefix": "rm(",
     "library": "var_list.r",
     "varRefreshCmd": "cat(var_dic_list()) "
    }
   },
   "types_to_exclude": [
    "module",
    "function",
    "builtin_function_or_method",
    "instance",
    "_Feature"
   ],
   "window_display": false
  }
 },
 "nbformat": 4,
 "nbformat_minor": 5
}
