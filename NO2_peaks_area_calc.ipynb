{
 "cells": [
  {
   "cell_type": "code",
   "execution_count": 1,
   "id": "front-daughter",
   "metadata": {
    "ExecuteTime": {
     "end_time": "2022-11-23T23:35:28.062114Z",
     "start_time": "2022-11-23T23:35:26.535301Z"
    }
   },
   "outputs": [
    {
     "data": {
      "text/plain": [
       "'C:\\\\Users\\\\bina_\\\\Dropbox\\\\Robina Shaheen_PEMS2022\\\\PEMS_NOx_BC_CO2_ALPR\\\\ii.dwt'"
      ]
     },
     "execution_count": 1,
     "metadata": {},
     "output_type": "execute_result"
    }
   ],
   "source": [
    "%matplotlib inline\n",
    "import os\n",
    "import glob\n",
    "import csv\n",
    "import re\n",
    "import numpy as np\n",
    "import pandas as pd\n",
    "from scipy import signal\n",
    "import matplotlib.pyplot as plt\n",
    "import pywt\n",
    "import matplotlib.dates as mdates\n",
    "from matplotlib.dates import DateFormatter\n",
    "from mpl_toolkits.mplot3d import Axes3D \n",
    "from scipy import signal\n",
    "from scipy.signal import find_peaks\n",
    "from scipy import optimize\n",
    "from scipy.stats import linregress, stats\n",
    "import seaborn as sns\n",
    "\n",
    "import datetime as dt\n",
    "from textwrap import wrap\n",
    "\n",
    "\n",
    "# Handle date time conversions between pandas and matplotlib\n",
    "from pandas.plotting import register_matplotlib_converters\n",
    "register_matplotlib_converters()\n",
    "os.getcwd()"
   ]
  },
  {
   "cell_type": "code",
   "execution_count": 2,
   "id": "devoted-grenada",
   "metadata": {
    "ExecuteTime": {
     "end_time": "2022-11-23T23:35:28.250010Z",
     "start_time": "2022-11-23T23:35:28.174014Z"
    }
   },
   "outputs": [
    {
     "data": {
      "text/html": [
       "<div>\n",
       "<style scoped>\n",
       "    .dataframe tbody tr th:only-of-type {\n",
       "        vertical-align: middle;\n",
       "    }\n",
       "\n",
       "    .dataframe tbody tr th {\n",
       "        vertical-align: top;\n",
       "    }\n",
       "\n",
       "    .dataframe thead th {\n",
       "        text-align: right;\n",
       "    }\n",
       "</style>\n",
       "<table border=\"1\" class=\"dataframe\">\n",
       "  <thead>\n",
       "    <tr style=\"text-align: right;\">\n",
       "      <th></th>\n",
       "      <th>0</th>\n",
       "      <th>1</th>\n",
       "      <th>2</th>\n",
       "      <th>3</th>\n",
       "      <th>4</th>\n",
       "      <th>5</th>\n",
       "      <th>6</th>\n",
       "      <th>7</th>\n",
       "      <th>8</th>\n",
       "      <th>9</th>\n",
       "      <th>...</th>\n",
       "      <th>1012</th>\n",
       "      <th>1013</th>\n",
       "      <th>1014</th>\n",
       "      <th>1015</th>\n",
       "      <th>1016</th>\n",
       "      <th>1017</th>\n",
       "      <th>1018</th>\n",
       "      <th>1019</th>\n",
       "      <th>1020</th>\n",
       "      <th>1021</th>\n",
       "    </tr>\n",
       "  </thead>\n",
       "  <tbody>\n",
       "    <tr>\n",
       "      <th>0</th>\n",
       "      <td>63.302494</td>\n",
       "      <td>53.738099</td>\n",
       "      <td>10.494250</td>\n",
       "      <td>24.884789</td>\n",
       "      <td>8.373713</td>\n",
       "      <td>87.581633</td>\n",
       "      <td>55.749488</td>\n",
       "      <td>33.188837</td>\n",
       "      <td>51.747280</td>\n",
       "      <td>25.846455</td>\n",
       "      <td>...</td>\n",
       "      <td>74.596635</td>\n",
       "      <td>114.916017</td>\n",
       "      <td>55.067632</td>\n",
       "      <td>57.821061</td>\n",
       "      <td>141.011931</td>\n",
       "      <td>225.099301</td>\n",
       "      <td>61.275678</td>\n",
       "      <td>60.153093</td>\n",
       "      <td>67.578423</td>\n",
       "      <td>9.629466</td>\n",
       "    </tr>\n",
       "    <tr>\n",
       "      <th>1</th>\n",
       "      <td>1.033081</td>\n",
       "      <td>1.007554</td>\n",
       "      <td>0.999950</td>\n",
       "      <td>1.002024</td>\n",
       "      <td>1.001126</td>\n",
       "      <td>1.006777</td>\n",
       "      <td>1.008563</td>\n",
       "      <td>1.006683</td>\n",
       "      <td>1.035778</td>\n",
       "      <td>1.061580</td>\n",
       "      <td>...</td>\n",
       "      <td>0.999404</td>\n",
       "      <td>1.157926</td>\n",
       "      <td>1.054013</td>\n",
       "      <td>1.030845</td>\n",
       "      <td>1.037865</td>\n",
       "      <td>1.030563</td>\n",
       "      <td>1.025611</td>\n",
       "      <td>1.001729</td>\n",
       "      <td>0.999735</td>\n",
       "      <td>1.013513</td>\n",
       "    </tr>\n",
       "    <tr>\n",
       "      <th>2</th>\n",
       "      <td>22.336441</td>\n",
       "      <td>162.145859</td>\n",
       "      <td>240.868285</td>\n",
       "      <td>284.548500</td>\n",
       "      <td>336.838200</td>\n",
       "      <td>397.011620</td>\n",
       "      <td>533.439700</td>\n",
       "      <td>692.569225</td>\n",
       "      <td>940.073184</td>\n",
       "      <td>1152.572277</td>\n",
       "      <td>...</td>\n",
       "      <td>144251.147220</td>\n",
       "      <td>144413.834927</td>\n",
       "      <td>144602.317803</td>\n",
       "      <td>144735.816932</td>\n",
       "      <td>144894.360349</td>\n",
       "      <td>145291.511615</td>\n",
       "      <td>145616.811621</td>\n",
       "      <td>145762.928338</td>\n",
       "      <td>145953.494911</td>\n",
       "      <td>146175.450004</td>\n",
       "    </tr>\n",
       "    <tr>\n",
       "      <th>3</th>\n",
       "      <td>85.638936</td>\n",
       "      <td>215.883958</td>\n",
       "      <td>251.362535</td>\n",
       "      <td>309.433289</td>\n",
       "      <td>345.211913</td>\n",
       "      <td>484.593253</td>\n",
       "      <td>589.189188</td>\n",
       "      <td>725.758062</td>\n",
       "      <td>991.820465</td>\n",
       "      <td>1178.418732</td>\n",
       "      <td>...</td>\n",
       "      <td>144325.743856</td>\n",
       "      <td>144528.750944</td>\n",
       "      <td>144657.385435</td>\n",
       "      <td>144793.637993</td>\n",
       "      <td>145035.372280</td>\n",
       "      <td>145516.610917</td>\n",
       "      <td>145678.087299</td>\n",
       "      <td>145823.081432</td>\n",
       "      <td>146021.073334</td>\n",
       "      <td>146185.079471</td>\n",
       "    </tr>\n",
       "  </tbody>\n",
       "</table>\n",
       "<p>4 rows × 1022 columns</p>\n",
       "</div>"
      ],
      "text/plain": [
       "           0           1           2           3           4           5  \\\n",
       "0  63.302494   53.738099   10.494250   24.884789    8.373713   87.581633   \n",
       "1   1.033081    1.007554    0.999950    1.002024    1.001126    1.006777   \n",
       "2  22.336441  162.145859  240.868285  284.548500  336.838200  397.011620   \n",
       "3  85.638936  215.883958  251.362535  309.433289  345.211913  484.593253   \n",
       "\n",
       "            6           7           8            9  ...           1012  \\\n",
       "0   55.749488   33.188837   51.747280    25.846455  ...      74.596635   \n",
       "1    1.008563    1.006683    1.035778     1.061580  ...       0.999404   \n",
       "2  533.439700  692.569225  940.073184  1152.572277  ...  144251.147220   \n",
       "3  589.189188  725.758062  991.820465  1178.418732  ...  144325.743856   \n",
       "\n",
       "            1013           1014           1015           1016           1017  \\\n",
       "0     114.916017      55.067632      57.821061     141.011931     225.099301   \n",
       "1       1.157926       1.054013       1.030845       1.037865       1.030563   \n",
       "2  144413.834927  144602.317803  144735.816932  144894.360349  145291.511615   \n",
       "3  144528.750944  144657.385435  144793.637993  145035.372280  145516.610917   \n",
       "\n",
       "            1018           1019           1020           1021  \n",
       "0      61.275678      60.153093      67.578423       9.629466  \n",
       "1       1.025611       1.001729       0.999735       1.013513  \n",
       "2  145616.811621  145762.928338  145953.494911  146175.450004  \n",
       "3  145678.087299  145823.081432  146021.073334  146185.079471  \n",
       "\n",
       "[4 rows x 1022 columns]"
      ]
     },
     "execution_count": 2,
     "metadata": {},
     "output_type": "execute_result"
    }
   ],
   "source": [
    "df1 = pd.read_csv('./Results2/full_NO2_HWpeak.csv')\n",
    "del df1[df1.columns[0]]\n",
    "df1.head()\n",
    "# # df1.drop(['unnamed'], axis=1)\n",
    "# del df1[df1.columns[0]]\n",
    "# df1.drop(df1.columns[[0, 7]], axis=1, inplace=True)\n",
    "# print(df1.head())\n",
    "# print(df2.head())\n",
    "# print(len(df1))\n",
    "# print(len(df2))\n",
    "# print(df2.dtypes)"
   ]
  },
  {
   "cell_type": "code",
   "execution_count": 3,
   "id": "surprised-color",
   "metadata": {
    "ExecuteTime": {
     "end_time": "2022-11-23T23:35:28.514484Z",
     "start_time": "2022-11-23T23:35:28.500521Z"
    }
   },
   "outputs": [
    {
     "data": {
      "text/html": [
       "<div>\n",
       "<style scoped>\n",
       "    .dataframe tbody tr th:only-of-type {\n",
       "        vertical-align: middle;\n",
       "    }\n",
       "\n",
       "    .dataframe tbody tr th {\n",
       "        vertical-align: top;\n",
       "    }\n",
       "\n",
       "    .dataframe thead th {\n",
       "        text-align: right;\n",
       "    }\n",
       "</style>\n",
       "<table border=\"1\" class=\"dataframe\">\n",
       "  <thead>\n",
       "    <tr style=\"text-align: right;\">\n",
       "      <th></th>\n",
       "      <th>0</th>\n",
       "      <th>1</th>\n",
       "      <th>2</th>\n",
       "      <th>3</th>\n",
       "    </tr>\n",
       "  </thead>\n",
       "  <tbody>\n",
       "    <tr>\n",
       "      <th>0</th>\n",
       "      <td>63.302494</td>\n",
       "      <td>1.033081</td>\n",
       "      <td>22.336441</td>\n",
       "      <td>85.638936</td>\n",
       "    </tr>\n",
       "    <tr>\n",
       "      <th>1</th>\n",
       "      <td>53.738099</td>\n",
       "      <td>1.007554</td>\n",
       "      <td>162.145859</td>\n",
       "      <td>215.883958</td>\n",
       "    </tr>\n",
       "    <tr>\n",
       "      <th>2</th>\n",
       "      <td>10.494250</td>\n",
       "      <td>0.999950</td>\n",
       "      <td>240.868285</td>\n",
       "      <td>251.362535</td>\n",
       "    </tr>\n",
       "    <tr>\n",
       "      <th>3</th>\n",
       "      <td>24.884789</td>\n",
       "      <td>1.002024</td>\n",
       "      <td>284.548500</td>\n",
       "      <td>309.433289</td>\n",
       "    </tr>\n",
       "    <tr>\n",
       "      <th>4</th>\n",
       "      <td>8.373713</td>\n",
       "      <td>1.001126</td>\n",
       "      <td>336.838200</td>\n",
       "      <td>345.211913</td>\n",
       "    </tr>\n",
       "  </tbody>\n",
       "</table>\n",
       "</div>"
      ],
      "text/plain": [
       "           0         1           2           3\n",
       "0  63.302494  1.033081   22.336441   85.638936\n",
       "1  53.738099  1.007554  162.145859  215.883958\n",
       "2  10.494250  0.999950  240.868285  251.362535\n",
       "3  24.884789  1.002024  284.548500  309.433289\n",
       "4   8.373713  1.001126  336.838200  345.211913"
      ]
     },
     "execution_count": 3,
     "metadata": {},
     "output_type": "execute_result"
    }
   ],
   "source": [
    "df2=df1.transpose()\n",
    "df2.head()"
   ]
  },
  {
   "cell_type": "code",
   "execution_count": 4,
   "id": "million-affiliation",
   "metadata": {
    "ExecuteTime": {
     "end_time": "2022-11-23T23:35:28.750178Z",
     "start_time": "2022-11-23T23:35:28.735222Z"
    }
   },
   "outputs": [
    {
     "data": {
      "text/html": [
       "<div>\n",
       "<style scoped>\n",
       "    .dataframe tbody tr th:only-of-type {\n",
       "        vertical-align: middle;\n",
       "    }\n",
       "\n",
       "    .dataframe tbody tr th {\n",
       "        vertical-align: top;\n",
       "    }\n",
       "\n",
       "    .dataframe thead th {\n",
       "        text-align: right;\n",
       "    }\n",
       "</style>\n",
       "<table border=\"1\" class=\"dataframe\">\n",
       "  <thead>\n",
       "    <tr style=\"text-align: right;\">\n",
       "      <th></th>\n",
       "      <th>HW_NO2</th>\n",
       "      <th>peak_height</th>\n",
       "      <th>Ti</th>\n",
       "      <th>Tf</th>\n",
       "    </tr>\n",
       "  </thead>\n",
       "  <tbody>\n",
       "    <tr>\n",
       "      <th>0</th>\n",
       "      <td>63.302494</td>\n",
       "      <td>1.033081</td>\n",
       "      <td>22.336441</td>\n",
       "      <td>85.638936</td>\n",
       "    </tr>\n",
       "    <tr>\n",
       "      <th>1</th>\n",
       "      <td>53.738099</td>\n",
       "      <td>1.007554</td>\n",
       "      <td>162.145859</td>\n",
       "      <td>215.883958</td>\n",
       "    </tr>\n",
       "    <tr>\n",
       "      <th>2</th>\n",
       "      <td>10.494250</td>\n",
       "      <td>0.999950</td>\n",
       "      <td>240.868285</td>\n",
       "      <td>251.362535</td>\n",
       "    </tr>\n",
       "  </tbody>\n",
       "</table>\n",
       "</div>"
      ],
      "text/plain": [
       "      HW_NO2  peak_height          Ti          Tf\n",
       "0  63.302494     1.033081   22.336441   85.638936\n",
       "1  53.738099     1.007554  162.145859  215.883958\n",
       "2  10.494250     0.999950  240.868285  251.362535"
      ]
     },
     "execution_count": 4,
     "metadata": {},
     "output_type": "execute_result"
    }
   ],
   "source": [
    "df2.rename(columns={0:'HW_NO2', 1:'peak_height', \n",
    "                    2: 'Ti',3: 'Tf'  }, inplace=True)\n",
    "df2.head(3)"
   ]
  },
  {
   "cell_type": "code",
   "execution_count": 5,
   "id": "hidden-economy",
   "metadata": {
    "ExecuteTime": {
     "end_time": "2022-11-23T23:35:29.829477Z",
     "start_time": "2022-11-23T23:35:29.804544Z"
    }
   },
   "outputs": [
    {
     "data": {
      "text/html": [
       "<div>\n",
       "<style scoped>\n",
       "    .dataframe tbody tr th:only-of-type {\n",
       "        vertical-align: middle;\n",
       "    }\n",
       "\n",
       "    .dataframe tbody tr th {\n",
       "        vertical-align: top;\n",
       "    }\n",
       "\n",
       "    .dataframe thead th {\n",
       "        text-align: right;\n",
       "    }\n",
       "</style>\n",
       "<table border=\"1\" class=\"dataframe\">\n",
       "  <thead>\n",
       "    <tr style=\"text-align: right;\">\n",
       "      <th></th>\n",
       "      <th>HW_NO2</th>\n",
       "      <th>peak_height</th>\n",
       "      <th>Ti</th>\n",
       "      <th>Tf</th>\n",
       "      <th>Area_NO2</th>\n",
       "    </tr>\n",
       "  </thead>\n",
       "  <tbody>\n",
       "    <tr>\n",
       "      <th>0</th>\n",
       "      <td>63.302494</td>\n",
       "      <td>1.033081</td>\n",
       "      <td>22.336441</td>\n",
       "      <td>85.638936</td>\n",
       "      <td>65.396600</td>\n",
       "    </tr>\n",
       "    <tr>\n",
       "      <th>1</th>\n",
       "      <td>53.738099</td>\n",
       "      <td>1.007554</td>\n",
       "      <td>162.145859</td>\n",
       "      <td>215.883958</td>\n",
       "      <td>54.144052</td>\n",
       "    </tr>\n",
       "    <tr>\n",
       "      <th>2</th>\n",
       "      <td>10.494250</td>\n",
       "      <td>0.999950</td>\n",
       "      <td>240.868285</td>\n",
       "      <td>251.362535</td>\n",
       "      <td>10.493724</td>\n",
       "    </tr>\n",
       "    <tr>\n",
       "      <th>3</th>\n",
       "      <td>24.884789</td>\n",
       "      <td>1.002024</td>\n",
       "      <td>284.548500</td>\n",
       "      <td>309.433289</td>\n",
       "      <td>24.935164</td>\n",
       "    </tr>\n",
       "    <tr>\n",
       "      <th>4</th>\n",
       "      <td>8.373713</td>\n",
       "      <td>1.001126</td>\n",
       "      <td>336.838200</td>\n",
       "      <td>345.211913</td>\n",
       "      <td>8.383146</td>\n",
       "    </tr>\n",
       "  </tbody>\n",
       "</table>\n",
       "</div>"
      ],
      "text/plain": [
       "      HW_NO2  peak_height          Ti          Tf   Area_NO2\n",
       "0  63.302494     1.033081   22.336441   85.638936  65.396600\n",
       "1  53.738099     1.007554  162.145859  215.883958  54.144052\n",
       "2  10.494250     0.999950  240.868285  251.362535  10.493724\n",
       "3  24.884789     1.002024  284.548500  309.433289  24.935164\n",
       "4   8.373713     1.001126  336.838200  345.211913   8.383146"
      ]
     },
     "execution_count": 5,
     "metadata": {},
     "output_type": "execute_result"
    }
   ],
   "source": [
    "df2[\"Area_NO2\"] = df2[\"HW_NO2\"] * df2['peak_height']\n",
    "df2.head()"
   ]
  },
  {
   "cell_type": "code",
   "execution_count": 38,
   "id": "driven-cowboy",
   "metadata": {
    "ExecuteTime": {
     "end_time": "2022-11-28T14:03:01.243465Z",
     "start_time": "2022-11-28T14:03:01.211518Z"
    }
   },
   "outputs": [
    {
     "name": "stdout",
     "output_type": "stream",
     "text": [
      "1022\n",
      "HW_NO2         float64\n",
      "peak_height    float64\n",
      "t1_indexed     float64\n",
      "Tf             float64\n",
      "Area_NO2       float64\n",
      "NO2 ng/m3      float64\n",
      "NO2 (ng/m3)    float64\n",
      "NO2 (ug/m3)    float64\n",
      "dtype: object\n"
     ]
    },
    {
     "data": {
      "text/html": [
       "<div>\n",
       "<style scoped>\n",
       "    .dataframe tbody tr th:only-of-type {\n",
       "        vertical-align: middle;\n",
       "    }\n",
       "\n",
       "    .dataframe tbody tr th {\n",
       "        vertical-align: top;\n",
       "    }\n",
       "\n",
       "    .dataframe thead th {\n",
       "        text-align: right;\n",
       "    }\n",
       "</style>\n",
       "<table border=\"1\" class=\"dataframe\">\n",
       "  <thead>\n",
       "    <tr style=\"text-align: right;\">\n",
       "      <th></th>\n",
       "      <th>HW_NO2</th>\n",
       "      <th>peak_height</th>\n",
       "      <th>t1_indexed</th>\n",
       "      <th>Tf</th>\n",
       "      <th>Area_NO2</th>\n",
       "      <th>NO2 ng/m3</th>\n",
       "      <th>NO2 (ng/m3)</th>\n",
       "      <th>NO2 (ug/m3)</th>\n",
       "    </tr>\n",
       "  </thead>\n",
       "  <tbody>\n",
       "    <tr>\n",
       "      <th>0</th>\n",
       "      <td>63.302494</td>\n",
       "      <td>1.033081</td>\n",
       "      <td>22.336441</td>\n",
       "      <td>85.638936</td>\n",
       "      <td>65.396600</td>\n",
       "      <td>123.036549</td>\n",
       "      <td>123.036549</td>\n",
       "      <td>0.123037</td>\n",
       "    </tr>\n",
       "    <tr>\n",
       "      <th>1</th>\n",
       "      <td>53.738099</td>\n",
       "      <td>1.007554</td>\n",
       "      <td>162.145859</td>\n",
       "      <td>215.883958</td>\n",
       "      <td>54.144052</td>\n",
       "      <td>101.866110</td>\n",
       "      <td>101.866110</td>\n",
       "      <td>0.101866</td>\n",
       "    </tr>\n",
       "    <tr>\n",
       "      <th>2</th>\n",
       "      <td>10.494250</td>\n",
       "      <td>0.999950</td>\n",
       "      <td>240.868285</td>\n",
       "      <td>251.362535</td>\n",
       "      <td>10.493724</td>\n",
       "      <td>19.742793</td>\n",
       "      <td>19.742793</td>\n",
       "      <td>0.019743</td>\n",
       "    </tr>\n",
       "    <tr>\n",
       "      <th>3</th>\n",
       "      <td>24.884789</td>\n",
       "      <td>1.002024</td>\n",
       "      <td>284.548500</td>\n",
       "      <td>309.433289</td>\n",
       "      <td>24.935164</td>\n",
       "      <td>46.912783</td>\n",
       "      <td>46.912783</td>\n",
       "      <td>0.046913</td>\n",
       "    </tr>\n",
       "    <tr>\n",
       "      <th>4</th>\n",
       "      <td>8.373713</td>\n",
       "      <td>1.001126</td>\n",
       "      <td>336.838200</td>\n",
       "      <td>345.211913</td>\n",
       "      <td>8.383146</td>\n",
       "      <td>15.771971</td>\n",
       "      <td>15.771971</td>\n",
       "      <td>0.015772</td>\n",
       "    </tr>\n",
       "  </tbody>\n",
       "</table>\n",
       "</div>"
      ],
      "text/plain": [
       "      HW_NO2  peak_height  t1_indexed          Tf   Area_NO2   NO2 ng/m3  \\\n",
       "0  63.302494     1.033081   22.336441   85.638936  65.396600  123.036549   \n",
       "1  53.738099     1.007554  162.145859  215.883958  54.144052  101.866110   \n",
       "2  10.494250     0.999950  240.868285  251.362535  10.493724   19.742793   \n",
       "3  24.884789     1.002024  284.548500  309.433289  24.935164   46.912783   \n",
       "4   8.373713     1.001126  336.838200  345.211913   8.383146   15.771971   \n",
       "\n",
       "   NO2 (ng/m3)  NO2 (ug/m3)  \n",
       "0   123.036549     0.123037  \n",
       "1   101.866110     0.101866  \n",
       "2    19.742793     0.019743  \n",
       "3    46.912783     0.046913  \n",
       "4    15.771971     0.015772  "
      ]
     },
     "execution_count": 38,
     "metadata": {},
     "output_type": "execute_result"
    }
   ],
   "source": [
    "df2[\"NO2 (ng/m3)\"] = (df2[\"Area_NO2\"] * 46)/24.45\n",
    "df2['NO2 (ug/m3)'] = (df2['NO2 (ng/m3)']/1000)\n",
    "df2.rename(columns={'Ti':'t1_indexed'}, inplace=True)\n",
    "print(len(df2))\n",
    "print(df2.dtypes)\n",
    "df2.head()"
   ]
  },
  {
   "cell_type": "code",
   "execution_count": 39,
   "id": "monetary-theology",
   "metadata": {
    "ExecuteTime": {
     "end_time": "2022-11-28T14:03:42.824936Z",
     "start_time": "2022-11-28T14:03:42.698277Z"
    }
   },
   "outputs": [
    {
     "name": "stdout",
     "output_type": "stream",
     "text": [
      "146188\n"
     ]
    },
    {
     "data": {
      "text/html": [
       "<div>\n",
       "<style scoped>\n",
       "    .dataframe tbody tr th:only-of-type {\n",
       "        vertical-align: middle;\n",
       "    }\n",
       "\n",
       "    .dataframe tbody tr th {\n",
       "        vertical-align: top;\n",
       "    }\n",
       "\n",
       "    .dataframe thead th {\n",
       "        text-align: right;\n",
       "    }\n",
       "</style>\n",
       "<table border=\"1\" class=\"dataframe\">\n",
       "  <thead>\n",
       "    <tr style=\"text-align: right;\">\n",
       "      <th></th>\n",
       "      <th>Unnamed: 0</th>\n",
       "      <th>Approx_6</th>\n",
       "      <th>time2</th>\n",
       "    </tr>\n",
       "  </thead>\n",
       "  <tbody>\n",
       "    <tr>\n",
       "      <th>0</th>\n",
       "      <td>0</td>\n",
       "      <td>1.000414</td>\n",
       "      <td>00:00:00.806918</td>\n",
       "    </tr>\n",
       "    <tr>\n",
       "      <th>1</th>\n",
       "      <td>1</td>\n",
       "      <td>1.001394</td>\n",
       "      <td>00:00:01.205161</td>\n",
       "    </tr>\n",
       "    <tr>\n",
       "      <th>2</th>\n",
       "      <td>2</td>\n",
       "      <td>1.002434</td>\n",
       "      <td>00:00:02.001646</td>\n",
       "    </tr>\n",
       "    <tr>\n",
       "      <th>3</th>\n",
       "      <td>3</td>\n",
       "      <td>1.003530</td>\n",
       "      <td>00:00:02.303072</td>\n",
       "    </tr>\n",
       "    <tr>\n",
       "      <th>4</th>\n",
       "      <td>4</td>\n",
       "      <td>1.004680</td>\n",
       "      <td>00:00:02.813103</td>\n",
       "    </tr>\n",
       "  </tbody>\n",
       "</table>\n",
       "</div>"
      ],
      "text/plain": [
       "   Unnamed: 0  Approx_6            time2\n",
       "0           0  1.000414  00:00:00.806918\n",
       "1           1  1.001394  00:00:01.205161\n",
       "2           2  1.002434  00:00:02.001646\n",
       "3           3  1.003530  00:00:02.303072\n",
       "4           4  1.004680  00:00:02.813103"
      ]
     },
     "execution_count": 39,
     "metadata": {},
     "output_type": "execute_result"
    }
   ],
   "source": [
    "df = pd.read_csv('./Results2/NO2_ppb_denoised_recon_s6_t.csv')\n",
    "print(len(df))\n",
    "df.head()"
   ]
  },
  {
   "cell_type": "code",
   "execution_count": 40,
   "id": "opening-raleigh",
   "metadata": {
    "ExecuteTime": {
     "end_time": "2022-11-28T14:03:44.066493Z",
     "start_time": "2022-11-28T14:03:44.053527Z"
    }
   },
   "outputs": [
    {
     "name": "stdout",
     "output_type": "stream",
     "text": [
      "t1_indexed      int64\n",
      "Approx_6      float64\n",
      "time2          object\n",
      "dtype: object\n"
     ]
    },
    {
     "data": {
      "text/html": [
       "<div>\n",
       "<style scoped>\n",
       "    .dataframe tbody tr th:only-of-type {\n",
       "        vertical-align: middle;\n",
       "    }\n",
       "\n",
       "    .dataframe tbody tr th {\n",
       "        vertical-align: top;\n",
       "    }\n",
       "\n",
       "    .dataframe thead th {\n",
       "        text-align: right;\n",
       "    }\n",
       "</style>\n",
       "<table border=\"1\" class=\"dataframe\">\n",
       "  <thead>\n",
       "    <tr style=\"text-align: right;\">\n",
       "      <th></th>\n",
       "      <th>t1_indexed</th>\n",
       "      <th>Approx_6</th>\n",
       "      <th>time2</th>\n",
       "    </tr>\n",
       "  </thead>\n",
       "  <tbody>\n",
       "    <tr>\n",
       "      <th>0</th>\n",
       "      <td>0</td>\n",
       "      <td>1.000414</td>\n",
       "      <td>00:00:00.806918</td>\n",
       "    </tr>\n",
       "    <tr>\n",
       "      <th>1</th>\n",
       "      <td>1</td>\n",
       "      <td>1.001394</td>\n",
       "      <td>00:00:01.205161</td>\n",
       "    </tr>\n",
       "    <tr>\n",
       "      <th>2</th>\n",
       "      <td>2</td>\n",
       "      <td>1.002434</td>\n",
       "      <td>00:00:02.001646</td>\n",
       "    </tr>\n",
       "    <tr>\n",
       "      <th>3</th>\n",
       "      <td>3</td>\n",
       "      <td>1.003530</td>\n",
       "      <td>00:00:02.303072</td>\n",
       "    </tr>\n",
       "    <tr>\n",
       "      <th>4</th>\n",
       "      <td>4</td>\n",
       "      <td>1.004680</td>\n",
       "      <td>00:00:02.813103</td>\n",
       "    </tr>\n",
       "  </tbody>\n",
       "</table>\n",
       "</div>"
      ],
      "text/plain": [
       "   t1_indexed  Approx_6            time2\n",
       "0           0  1.000414  00:00:00.806918\n",
       "1           1  1.001394  00:00:01.205161\n",
       "2           2  1.002434  00:00:02.001646\n",
       "3           3  1.003530  00:00:02.303072\n",
       "4           4  1.004680  00:00:02.813103"
      ]
     },
     "execution_count": 40,
     "metadata": {},
     "output_type": "execute_result"
    }
   ],
   "source": [
    "df.rename(columns={'Unnamed: 0':'t1_indexed'}, inplace=True)\n",
    "# df1.columns\n",
    "print(df.dtypes)\n",
    "df.head()"
   ]
  },
  {
   "cell_type": "code",
   "execution_count": 41,
   "id": "accessory-breathing",
   "metadata": {
    "ExecuteTime": {
     "end_time": "2022-11-28T14:03:45.142206Z",
     "start_time": "2022-11-28T14:03:45.128212Z"
    }
   },
   "outputs": [
    {
     "data": {
      "text/plain": [
       "t1_indexed    float64\n",
       "Approx_6      float64\n",
       "time2          object\n",
       "dtype: object"
      ]
     },
     "execution_count": 41,
     "metadata": {},
     "output_type": "execute_result"
    }
   ],
   "source": [
    "df['t1_indexed'] = df['t1_indexed'].astype(float)\n",
    "df.dtypes"
   ]
  },
  {
   "cell_type": "code",
   "execution_count": 42,
   "id": "martial-bowling",
   "metadata": {
    "ExecuteTime": {
     "end_time": "2022-11-28T14:03:46.200513Z",
     "start_time": "2022-11-28T14:03:46.177574Z"
    }
   },
   "outputs": [
    {
     "name": "stdout",
     "output_type": "stream",
     "text": [
      "1022\n",
      "146188\n"
     ]
    }
   ],
   "source": [
    "df.sort_values(by='t1_indexed', inplace=True)\n",
    "df2.sort_values(by='t1_indexed', inplace=True)\n",
    "print(len(df2))\n",
    "print(len(df))"
   ]
  },
  {
   "cell_type": "code",
   "execution_count": 43,
   "id": "soviet-packing",
   "metadata": {
    "ExecuteTime": {
     "end_time": "2022-11-28T14:03:48.451624Z",
     "start_time": "2022-11-28T14:03:48.424696Z"
    }
   },
   "outputs": [
    {
     "name": "stdout",
     "output_type": "stream",
     "text": [
      "1022\n"
     ]
    },
    {
     "data": {
      "text/html": [
       "<div>\n",
       "<style scoped>\n",
       "    .dataframe tbody tr th:only-of-type {\n",
       "        vertical-align: middle;\n",
       "    }\n",
       "\n",
       "    .dataframe tbody tr th {\n",
       "        vertical-align: top;\n",
       "    }\n",
       "\n",
       "    .dataframe thead th {\n",
       "        text-align: right;\n",
       "    }\n",
       "</style>\n",
       "<table border=\"1\" class=\"dataframe\">\n",
       "  <thead>\n",
       "    <tr style=\"text-align: right;\">\n",
       "      <th></th>\n",
       "      <th>HW_NO2</th>\n",
       "      <th>peak_height</th>\n",
       "      <th>t1_indexed</th>\n",
       "      <th>Tf</th>\n",
       "      <th>Area_NO2</th>\n",
       "      <th>NO2 ng/m3</th>\n",
       "      <th>NO2 (ng/m3)</th>\n",
       "      <th>NO2 (ug/m3)</th>\n",
       "      <th>Approx_6</th>\n",
       "      <th>time2</th>\n",
       "    </tr>\n",
       "  </thead>\n",
       "  <tbody>\n",
       "    <tr>\n",
       "      <th>0</th>\n",
       "      <td>63.302494</td>\n",
       "      <td>1.033081</td>\n",
       "      <td>22.336441</td>\n",
       "      <td>85.638936</td>\n",
       "      <td>65.396600</td>\n",
       "      <td>123.036549</td>\n",
       "      <td>123.036549</td>\n",
       "      <td>0.123037</td>\n",
       "      <td>1.032521</td>\n",
       "      <td>00:00:11.090862</td>\n",
       "    </tr>\n",
       "    <tr>\n",
       "      <th>1</th>\n",
       "      <td>53.738099</td>\n",
       "      <td>1.007554</td>\n",
       "      <td>162.145859</td>\n",
       "      <td>215.883958</td>\n",
       "      <td>54.144052</td>\n",
       "      <td>101.866110</td>\n",
       "      <td>101.866110</td>\n",
       "      <td>0.101866</td>\n",
       "      <td>1.007421</td>\n",
       "      <td>00:03:06.156757</td>\n",
       "    </tr>\n",
       "    <tr>\n",
       "      <th>2</th>\n",
       "      <td>10.494250</td>\n",
       "      <td>0.999950</td>\n",
       "      <td>240.868285</td>\n",
       "      <td>251.362535</td>\n",
       "      <td>10.493724</td>\n",
       "      <td>19.742793</td>\n",
       "      <td>19.742793</td>\n",
       "      <td>0.019743</td>\n",
       "      <td>0.999954</td>\n",
       "      <td>00:03:44.279863</td>\n",
       "    </tr>\n",
       "    <tr>\n",
       "      <th>3</th>\n",
       "      <td>24.884789</td>\n",
       "      <td>1.002024</td>\n",
       "      <td>284.548500</td>\n",
       "      <td>309.433289</td>\n",
       "      <td>24.935164</td>\n",
       "      <td>46.912783</td>\n",
       "      <td>46.912783</td>\n",
       "      <td>0.046913</td>\n",
       "      <td>1.002099</td>\n",
       "      <td>00:04:05.900314</td>\n",
       "    </tr>\n",
       "    <tr>\n",
       "      <th>4</th>\n",
       "      <td>8.373713</td>\n",
       "      <td>1.001126</td>\n",
       "      <td>336.838200</td>\n",
       "      <td>345.211913</td>\n",
       "      <td>8.383146</td>\n",
       "      <td>15.771971</td>\n",
       "      <td>15.771971</td>\n",
       "      <td>0.015772</td>\n",
       "      <td>1.001128</td>\n",
       "      <td>00:04:31.522995</td>\n",
       "    </tr>\n",
       "  </tbody>\n",
       "</table>\n",
       "</div>"
      ],
      "text/plain": [
       "      HW_NO2  peak_height  t1_indexed          Tf   Area_NO2   NO2 ng/m3  \\\n",
       "0  63.302494     1.033081   22.336441   85.638936  65.396600  123.036549   \n",
       "1  53.738099     1.007554  162.145859  215.883958  54.144052  101.866110   \n",
       "2  10.494250     0.999950  240.868285  251.362535  10.493724   19.742793   \n",
       "3  24.884789     1.002024  284.548500  309.433289  24.935164   46.912783   \n",
       "4   8.373713     1.001126  336.838200  345.211913   8.383146   15.771971   \n",
       "\n",
       "   NO2 (ng/m3)  NO2 (ug/m3)  Approx_6            time2  \n",
       "0   123.036549     0.123037  1.032521  00:00:11.090862  \n",
       "1   101.866110     0.101866  1.007421  00:03:06.156757  \n",
       "2    19.742793     0.019743  0.999954  00:03:44.279863  \n",
       "3    46.912783     0.046913  1.002099  00:04:05.900314  \n",
       "4    15.771971     0.015772  1.001128  00:04:31.522995  "
      ]
     },
     "execution_count": 43,
     "metadata": {},
     "output_type": "execute_result"
    }
   ],
   "source": [
    "df3= pd.merge_asof(\n",
    "    df2, df, on=\"t1_indexed\",direction=\"nearest\",  \n",
    "        allow_exact_matches=False)\n",
    "print(len(df3))\n",
    "\n",
    "df3.head()"
   ]
  },
  {
   "cell_type": "code",
   "execution_count": 44,
   "id": "driving-convenience",
   "metadata": {
    "ExecuteTime": {
     "end_time": "2022-11-28T14:04:13.535201Z",
     "start_time": "2022-11-28T14:04:13.508302Z"
    }
   },
   "outputs": [],
   "source": [
    "df3.to_csv('./Results2/NO2_peakarea_time_indexed.csv')"
   ]
  },
  {
   "cell_type": "code",
   "execution_count": 45,
   "id": "arbitrary-affair",
   "metadata": {
    "ExecuteTime": {
     "end_time": "2022-11-28T14:04:20.752412Z",
     "start_time": "2022-11-28T14:04:20.735458Z"
    }
   },
   "outputs": [
    {
     "name": "stdout",
     "output_type": "stream",
     "text": [
      "486\n"
     ]
    },
    {
     "data": {
      "text/plain": [
       "HW_CO2         float64\n",
       "peak_height    float64\n",
       "t1_indexed     float64\n",
       "Tf             float64\n",
       "Area_CO2       float64\n",
       "CO2 (ug/m3)    float64\n",
       "CO2 EF         float64\n",
       "Conc. CO2      float64\n",
       "time2           object\n",
       "dtype: object"
      ]
     },
     "execution_count": 45,
     "metadata": {},
     "output_type": "execute_result"
    }
   ],
   "source": [
    "df_CO2_peak = pd.read_csv('./Results2/merged_CO2_EF_index.csv', index_col=0)\n",
    "print(len(df_CO2_peak))\n",
    "df_CO2_peak.dtypes"
   ]
  },
  {
   "cell_type": "code",
   "execution_count": 46,
   "id": "secure-intellectual",
   "metadata": {
    "ExecuteTime": {
     "end_time": "2022-11-28T14:04:35.097583Z",
     "start_time": "2022-11-28T14:04:35.083620Z"
    }
   },
   "outputs": [
    {
     "ename": "SyntaxError",
     "evalue": "invalid syntax (<ipython-input-46-e6e0fc20c469>, line 4)",
     "output_type": "error",
     "traceback": [
      "\u001b[1;36m  File \u001b[1;32m\"<ipython-input-46-e6e0fc20c469>\"\u001b[1;36m, line \u001b[1;32m4\u001b[0m\n\u001b[1;33m    print(len(df3))>\u001b[0m\n\u001b[1;37m                    ^\u001b[0m\n\u001b[1;31mSyntaxError\u001b[0m\u001b[1;31m:\u001b[0m invalid syntax\n"
     ]
    }
   ],
   "source": [
    "df_CO2_peak.sort_values(by='t1_indexed', inplace=True)\n",
    "df3.sort_values(by='t1_indexed', inplace=True)\n",
    "print(len(df_CO2_peak))\n",
    "print(len(df3))>"
   ]
  },
  {
   "cell_type": "code",
   "execution_count": 47,
   "id": "coupled-defendant",
   "metadata": {
    "ExecuteTime": {
     "end_time": "2022-11-28T14:04:36.139232Z",
     "start_time": "2022-11-28T14:04:36.089363Z"
    }
   },
   "outputs": [
    {
     "name": "stdout",
     "output_type": "stream",
     "text": [
      "486\n"
     ]
    },
    {
     "data": {
      "text/html": [
       "<div>\n",
       "<style scoped>\n",
       "    .dataframe tbody tr th:only-of-type {\n",
       "        vertical-align: middle;\n",
       "    }\n",
       "\n",
       "    .dataframe tbody tr th {\n",
       "        vertical-align: top;\n",
       "    }\n",
       "\n",
       "    .dataframe thead th {\n",
       "        text-align: right;\n",
       "    }\n",
       "</style>\n",
       "<table border=\"1\" class=\"dataframe\">\n",
       "  <thead>\n",
       "    <tr style=\"text-align: right;\">\n",
       "      <th></th>\n",
       "      <th>HW_CO2</th>\n",
       "      <th>peak_height_x</th>\n",
       "      <th>t1_indexed</th>\n",
       "      <th>Tf_x</th>\n",
       "      <th>Area_CO2</th>\n",
       "      <th>CO2 (ug/m3)</th>\n",
       "      <th>CO2 EF</th>\n",
       "      <th>Conc. CO2</th>\n",
       "      <th>time2_x</th>\n",
       "      <th>HW_NO2</th>\n",
       "      <th>peak_height_y</th>\n",
       "      <th>Tf_y</th>\n",
       "      <th>Area_NO2</th>\n",
       "      <th>NO2 ng/m3</th>\n",
       "      <th>NO2 (ng/m3)</th>\n",
       "      <th>NO2 (ug/m3)</th>\n",
       "      <th>Approx_6</th>\n",
       "      <th>time2_y</th>\n",
       "    </tr>\n",
       "  </thead>\n",
       "  <tbody>\n",
       "    <tr>\n",
       "      <th>0</th>\n",
       "      <td>126.247273</td>\n",
       "      <td>368.902634</td>\n",
       "      <td>230.964721</td>\n",
       "      <td>357.211993</td>\n",
       "      <td>46572.951467</td>\n",
       "      <td>83812.264399</td>\n",
       "      <td>264285.213329</td>\n",
       "      <td>368.904678</td>\n",
       "      <td>0:05:40</td>\n",
       "      <td>10.494250</td>\n",
       "      <td>0.999950</td>\n",
       "      <td>251.362535</td>\n",
       "      <td>10.493724</td>\n",
       "      <td>19.742793</td>\n",
       "      <td>19.742793</td>\n",
       "      <td>0.019743</td>\n",
       "      <td>0.999954</td>\n",
       "      <td>00:03:44.279863</td>\n",
       "    </tr>\n",
       "    <tr>\n",
       "      <th>1</th>\n",
       "      <td>38.526629</td>\n",
       "      <td>367.884608</td>\n",
       "      <td>406.558750</td>\n",
       "      <td>445.085379</td>\n",
       "      <td>14173.353748</td>\n",
       "      <td>25506.239873</td>\n",
       "      <td>80428.826192</td>\n",
       "      <td>367.897092</td>\n",
       "      <td>0:08:36</td>\n",
       "      <td>87.581633</td>\n",
       "      <td>1.006777</td>\n",
       "      <td>484.593253</td>\n",
       "      <td>88.175197</td>\n",
       "      <td>165.891987</td>\n",
       "      <td>165.891987</td>\n",
       "      <td>0.165892</td>\n",
       "      <td>1.006775</td>\n",
       "      <td>00:05:01.228321</td>\n",
       "    </tr>\n",
       "    <tr>\n",
       "      <th>2</th>\n",
       "      <td>113.538243</td>\n",
       "      <td>367.910378</td>\n",
       "      <td>541.237969</td>\n",
       "      <td>654.776212</td>\n",
       "      <td>41771.897940</td>\n",
       "      <td>75172.331671</td>\n",
       "      <td>237040.913457</td>\n",
       "      <td>367.887545</td>\n",
       "      <td>0:10:50</td>\n",
       "      <td>55.749488</td>\n",
       "      <td>1.008563</td>\n",
       "      <td>589.189188</td>\n",
       "      <td>56.226877</td>\n",
       "      <td>105.784718</td>\n",
       "      <td>105.784718</td>\n",
       "      <td>0.105785</td>\n",
       "      <td>1.008462</td>\n",
       "      <td>00:06:08.130517</td>\n",
       "    </tr>\n",
       "    <tr>\n",
       "      <th>3</th>\n",
       "      <td>69.130348</td>\n",
       "      <td>376.305601</td>\n",
       "      <td>798.237072</td>\n",
       "      <td>867.367420</td>\n",
       "      <td>26014.137202</td>\n",
       "      <td>46814.807235</td>\n",
       "      <td>147621.131654</td>\n",
       "      <td>376.272816</td>\n",
       "      <td>0:15:07</td>\n",
       "      <td>33.188837</td>\n",
       "      <td>1.006683</td>\n",
       "      <td>725.758062</td>\n",
       "      <td>33.410624</td>\n",
       "      <td>62.858435</td>\n",
       "      <td>62.858435</td>\n",
       "      <td>0.062858</td>\n",
       "      <td>1.006712</td>\n",
       "      <td>00:07:26.768668</td>\n",
       "    </tr>\n",
       "    <tr>\n",
       "      <th>4</th>\n",
       "      <td>11.339629</td>\n",
       "      <td>373.332662</td>\n",
       "      <td>928.733648</td>\n",
       "      <td>940.073276</td>\n",
       "      <td>4233.453754</td>\n",
       "      <td>7618.485284</td>\n",
       "      <td>24023.369645</td>\n",
       "      <td>373.336148</td>\n",
       "      <td>0:17:18</td>\n",
       "      <td>51.747280</td>\n",
       "      <td>1.035778</td>\n",
       "      <td>991.820465</td>\n",
       "      <td>53.598707</td>\n",
       "      <td>100.840104</td>\n",
       "      <td>100.840104</td>\n",
       "      <td>0.100840</td>\n",
       "      <td>1.035766</td>\n",
       "      <td>00:09:28.202367</td>\n",
       "    </tr>\n",
       "  </tbody>\n",
       "</table>\n",
       "</div>"
      ],
      "text/plain": [
       "       HW_CO2  peak_height_x  t1_indexed        Tf_x      Area_CO2  \\\n",
       "0  126.247273     368.902634  230.964721  357.211993  46572.951467   \n",
       "1   38.526629     367.884608  406.558750  445.085379  14173.353748   \n",
       "2  113.538243     367.910378  541.237969  654.776212  41771.897940   \n",
       "3   69.130348     376.305601  798.237072  867.367420  26014.137202   \n",
       "4   11.339629     373.332662  928.733648  940.073276   4233.453754   \n",
       "\n",
       "    CO2 (ug/m3)         CO2 EF  Conc. CO2   time2_x     HW_NO2  peak_height_y  \\\n",
       "0  83812.264399  264285.213329  368.904678  0:05:40  10.494250       0.999950   \n",
       "1  25506.239873   80428.826192  367.897092  0:08:36  87.581633       1.006777   \n",
       "2  75172.331671  237040.913457  367.887545  0:10:50  55.749488       1.008563   \n",
       "3  46814.807235  147621.131654  376.272816  0:15:07  33.188837       1.006683   \n",
       "4   7618.485284   24023.369645  373.336148  0:17:18  51.747280       1.035778   \n",
       "\n",
       "         Tf_y   Area_NO2   NO2 ng/m3  NO2 (ng/m3)  NO2 (ug/m3)  Approx_6  \\\n",
       "0  251.362535  10.493724   19.742793    19.742793     0.019743  0.999954   \n",
       "1  484.593253  88.175197  165.891987   165.891987     0.165892  1.006775   \n",
       "2  589.189188  56.226877  105.784718   105.784718     0.105785  1.008462   \n",
       "3  725.758062  33.410624   62.858435    62.858435     0.062858  1.006712   \n",
       "4  991.820465  53.598707  100.840104   100.840104     0.100840  1.035766   \n",
       "\n",
       "           time2_y  \n",
       "0  00:03:44.279863  \n",
       "1  00:05:01.228321  \n",
       "2  00:06:08.130517  \n",
       "3  00:07:26.768668  \n",
       "4  00:09:28.202367  "
      ]
     },
     "execution_count": 47,
     "metadata": {},
     "output_type": "execute_result"
    }
   ],
   "source": [
    "df4= pd.merge_asof(\n",
    "    df_CO2_peak,df3,  on=\"t1_indexed\",direction=\"nearest\",  \n",
    "        allow_exact_matches=False)\n",
    "print(len(df4))\n",
    "# df4.to_csv('./Results2/merged_CO2_NO2_TS_index.csv')\n",
    "df4.head()"
   ]
  },
  {
   "cell_type": "code",
   "execution_count": 70,
   "id": "underlying-sleep",
   "metadata": {
    "ExecuteTime": {
     "end_time": "2022-11-28T14:33:50.539308Z",
     "start_time": "2022-11-28T14:33:50.498441Z"
    }
   },
   "outputs": [
    {
     "data": {
      "text/html": [
       "<div>\n",
       "<style scoped>\n",
       "    .dataframe tbody tr th:only-of-type {\n",
       "        vertical-align: middle;\n",
       "    }\n",
       "\n",
       "    .dataframe tbody tr th {\n",
       "        vertical-align: top;\n",
       "    }\n",
       "\n",
       "    .dataframe thead th {\n",
       "        text-align: right;\n",
       "    }\n",
       "</style>\n",
       "<table border=\"1\" class=\"dataframe\">\n",
       "  <thead>\n",
       "    <tr style=\"text-align: right;\">\n",
       "      <th></th>\n",
       "      <th>HW_CO2</th>\n",
       "      <th>peak_height_x</th>\n",
       "      <th>t1_indexed</th>\n",
       "      <th>Tf_x</th>\n",
       "      <th>Area_CO2</th>\n",
       "      <th>CO2 (ug/m3)</th>\n",
       "      <th>CO2 EF</th>\n",
       "      <th>Conc. CO2</th>\n",
       "      <th>time2_x</th>\n",
       "      <th>HW_NO2</th>\n",
       "      <th>...</th>\n",
       "      <th>NO2 ng/m3</th>\n",
       "      <th>NO2 (ng/m3)</th>\n",
       "      <th>NO2 (ug/m3)</th>\n",
       "      <th>Approx_6</th>\n",
       "      <th>time2_y</th>\n",
       "      <th>NOx/CO2 EF/kg fuel</th>\n",
       "      <th>time</th>\n",
       "      <th>minutes</th>\n",
       "      <th>seconds</th>\n",
       "      <th>NO2/CO2 EF/kg fuel</th>\n",
       "    </tr>\n",
       "  </thead>\n",
       "  <tbody>\n",
       "    <tr>\n",
       "      <th>0</th>\n",
       "      <td>126.247273</td>\n",
       "      <td>368.902634</td>\n",
       "      <td>230.964721</td>\n",
       "      <td>357.211993</td>\n",
       "      <td>46572.951467</td>\n",
       "      <td>83812.264399</td>\n",
       "      <td>264285.213329</td>\n",
       "      <td>368.904678</td>\n",
       "      <td>0:05:40</td>\n",
       "      <td>10.494250</td>\n",
       "      <td>...</td>\n",
       "      <td>19.742793</td>\n",
       "      <td>19.742793</td>\n",
       "      <td>0.019743</td>\n",
       "      <td>0.999954</td>\n",
       "      <td>00:03:44.279863</td>\n",
       "      <td>1.338641e+10</td>\n",
       "      <td>2022-11-28 00:05:40</td>\n",
       "      <td>5.666667</td>\n",
       "      <td>45</td>\n",
       "      <td>0.000743</td>\n",
       "    </tr>\n",
       "    <tr>\n",
       "      <th>1</th>\n",
       "      <td>38.526629</td>\n",
       "      <td>367.884608</td>\n",
       "      <td>406.558750</td>\n",
       "      <td>445.085379</td>\n",
       "      <td>14173.353748</td>\n",
       "      <td>25506.239873</td>\n",
       "      <td>80428.826192</td>\n",
       "      <td>367.897092</td>\n",
       "      <td>0:08:36</td>\n",
       "      <td>87.581633</td>\n",
       "      <td>...</td>\n",
       "      <td>165.891987</td>\n",
       "      <td>165.891987</td>\n",
       "      <td>0.165892</td>\n",
       "      <td>1.006775</td>\n",
       "      <td>00:05:01.228321</td>\n",
       "      <td>4.848265e+08</td>\n",
       "      <td>2022-11-28 00:08:36</td>\n",
       "      <td>8.600000</td>\n",
       "      <td>44</td>\n",
       "      <td>0.020509</td>\n",
       "    </tr>\n",
       "    <tr>\n",
       "      <th>2</th>\n",
       "      <td>113.538243</td>\n",
       "      <td>367.910378</td>\n",
       "      <td>541.237969</td>\n",
       "      <td>654.776212</td>\n",
       "      <td>41771.897940</td>\n",
       "      <td>75172.331671</td>\n",
       "      <td>237040.913457</td>\n",
       "      <td>367.887545</td>\n",
       "      <td>0:10:50</td>\n",
       "      <td>55.749488</td>\n",
       "      <td>...</td>\n",
       "      <td>105.784718</td>\n",
       "      <td>105.784718</td>\n",
       "      <td>0.105785</td>\n",
       "      <td>1.008462</td>\n",
       "      <td>00:06:08.130517</td>\n",
       "      <td>2.240786e+09</td>\n",
       "      <td>2022-11-28 00:10:50</td>\n",
       "      <td>10.833333</td>\n",
       "      <td>60</td>\n",
       "      <td>0.004437</td>\n",
       "    </tr>\n",
       "    <tr>\n",
       "      <th>3</th>\n",
       "      <td>69.130348</td>\n",
       "      <td>376.305601</td>\n",
       "      <td>798.237072</td>\n",
       "      <td>867.367420</td>\n",
       "      <td>26014.137202</td>\n",
       "      <td>46814.807235</td>\n",
       "      <td>147621.131654</td>\n",
       "      <td>376.272816</td>\n",
       "      <td>0:15:07</td>\n",
       "      <td>33.188837</td>\n",
       "      <td>...</td>\n",
       "      <td>62.858435</td>\n",
       "      <td>62.858435</td>\n",
       "      <td>0.062858</td>\n",
       "      <td>1.006712</td>\n",
       "      <td>00:07:26.768668</td>\n",
       "      <td>2.348470e+09</td>\n",
       "      <td>2022-11-28 00:15:07</td>\n",
       "      <td>15.116667</td>\n",
       "      <td>22</td>\n",
       "      <td>0.004234</td>\n",
       "    </tr>\n",
       "    <tr>\n",
       "      <th>4</th>\n",
       "      <td>11.339629</td>\n",
       "      <td>373.332662</td>\n",
       "      <td>928.733648</td>\n",
       "      <td>940.073276</td>\n",
       "      <td>4233.453754</td>\n",
       "      <td>7618.485284</td>\n",
       "      <td>24023.369645</td>\n",
       "      <td>373.336148</td>\n",
       "      <td>0:17:18</td>\n",
       "      <td>51.747280</td>\n",
       "      <td>...</td>\n",
       "      <td>100.840104</td>\n",
       "      <td>100.840104</td>\n",
       "      <td>0.100840</td>\n",
       "      <td>1.035766</td>\n",
       "      <td>00:09:28.202367</td>\n",
       "      <td>2.382323e+08</td>\n",
       "      <td>2022-11-28 00:17:18</td>\n",
       "      <td>17.300000</td>\n",
       "      <td>35</td>\n",
       "      <td>0.041738</td>\n",
       "    </tr>\n",
       "  </tbody>\n",
       "</table>\n",
       "<p>5 rows × 23 columns</p>\n",
       "</div>"
      ],
      "text/plain": [
       "       HW_CO2  peak_height_x  t1_indexed        Tf_x      Area_CO2  \\\n",
       "0  126.247273     368.902634  230.964721  357.211993  46572.951467   \n",
       "1   38.526629     367.884608  406.558750  445.085379  14173.353748   \n",
       "2  113.538243     367.910378  541.237969  654.776212  41771.897940   \n",
       "3   69.130348     376.305601  798.237072  867.367420  26014.137202   \n",
       "4   11.339629     373.332662  928.733648  940.073276   4233.453754   \n",
       "\n",
       "    CO2 (ug/m3)         CO2 EF  Conc. CO2   time2_x     HW_NO2  ...  \\\n",
       "0  83812.264399  264285.213329  368.904678  0:05:40  10.494250  ...   \n",
       "1  25506.239873   80428.826192  367.897092  0:08:36  87.581633  ...   \n",
       "2  75172.331671  237040.913457  367.887545  0:10:50  55.749488  ...   \n",
       "3  46814.807235  147621.131654  376.272816  0:15:07  33.188837  ...   \n",
       "4   7618.485284   24023.369645  373.336148  0:17:18  51.747280  ...   \n",
       "\n",
       "    NO2 ng/m3  NO2 (ng/m3)  NO2 (ug/m3)  Approx_6          time2_y  \\\n",
       "0   19.742793    19.742793     0.019743  0.999954  00:03:44.279863   \n",
       "1  165.891987   165.891987     0.165892  1.006775  00:05:01.228321   \n",
       "2  105.784718   105.784718     0.105785  1.008462  00:06:08.130517   \n",
       "3   62.858435    62.858435     0.062858  1.006712  00:07:26.768668   \n",
       "4  100.840104   100.840104     0.100840  1.035766  00:09:28.202367   \n",
       "\n",
       "   NOx/CO2 EF/kg fuel                time    minutes  seconds  \\\n",
       "0        1.338641e+10 2022-11-28 00:05:40   5.666667       45   \n",
       "1        4.848265e+08 2022-11-28 00:08:36   8.600000       44   \n",
       "2        2.240786e+09 2022-11-28 00:10:50  10.833333       60   \n",
       "3        2.348470e+09 2022-11-28 00:15:07  15.116667       22   \n",
       "4        2.382323e+08 2022-11-28 00:17:18  17.300000       35   \n",
       "\n",
       "  NO2/CO2 EF/kg fuel  \n",
       "0           0.000743  \n",
       "1           0.020509  \n",
       "2           0.004437  \n",
       "3           0.004234  \n",
       "4           0.041738  \n",
       "\n",
       "[5 rows x 23 columns]"
      ]
     },
     "execution_count": 70,
     "metadata": {},
     "output_type": "execute_result"
    }
   ],
   "source": [
    "df4[\"NO2/CO2 EF/kg fuel\"] = (df4[\"NO2 (ug/m3)\"]/df4[\"CO2 (ug/m3)\"])* 3.1533*1000\n",
    "# df4.to_csv('./Results2/merged_CO2_NO2_EF.csv')\n",
    "df4.head()"
   ]
  },
  {
   "cell_type": "code",
   "execution_count": 71,
   "id": "satisfactory-biodiversity",
   "metadata": {
    "ExecuteTime": {
     "end_time": "2022-11-28T14:33:52.750975Z",
     "start_time": "2022-11-28T14:33:52.741999Z"
    }
   },
   "outputs": [
    {
     "name": "stdout",
     "output_type": "stream",
     "text": [
      "Empty cells/ zero values: HW_CO2                0\n",
      "peak_height_x         0\n",
      "t1_indexed            0\n",
      "Tf_x                  0\n",
      "Area_CO2              0\n",
      "CO2 (ug/m3)           0\n",
      "CO2 EF                0\n",
      "Conc. CO2             0\n",
      "time2_x               0\n",
      "HW_NO2                0\n",
      "peak_height_y         0\n",
      "Tf_y                  0\n",
      "Area_NO2              0\n",
      "NO2 ng/m3             0\n",
      "NO2 (ng/m3)           0\n",
      "NO2 (ug/m3)           0\n",
      "Approx_6              0\n",
      "time2_y               0\n",
      "NOx/CO2 EF/kg fuel    0\n",
      "time                  0\n",
      "minutes               0\n",
      "seconds               0\n",
      "NO2/CO2 EF/kg fuel    0\n",
      "dtype: int64\n"
     ]
    }
   ],
   "source": [
    "##Check how these cells were filled despite difference in number\n",
    "print('Empty cells/ zero values:', df4.isnull().sum())"
   ]
  },
  {
   "cell_type": "code",
   "execution_count": 82,
   "id": "standard-wichita",
   "metadata": {
    "ExecuteTime": {
     "end_time": "2022-11-28T14:46:26.329727Z",
     "start_time": "2022-11-28T14:46:26.246948Z"
    }
   },
   "outputs": [
    {
     "name": "stdout",
     "output_type": "stream",
     "text": [
      "HW_CO2                       float64\n",
      "peak_height_x                float64\n",
      "t1_indexed                   float64\n",
      "Tf_x                         float64\n",
      "Area_CO2                     float64\n",
      "CO2 (ug/m3)                  float64\n",
      "CO2 EF                       float64\n",
      "Conc. CO2                    float64\n",
      "time2_x                       object\n",
      "HW_NO2                       float64\n",
      "peak_height_y                float64\n",
      "Tf_y                         float64\n",
      "Area_NO2                     float64\n",
      "NO2 ng/m3                    float64\n",
      "NO2 (ng/m3)                  float64\n",
      "NO2 (ug/m3)                  float64\n",
      "Approx_6                     float64\n",
      "time2_y                       object\n",
      "NOx/CO2 EF/kg fuel           float64\n",
      "time                  datetime64[ns]\n",
      "minutes                      float64\n",
      "seconds                        int64\n",
      "NO2/CO2 EF/kg fuel           float64\n",
      "dtype: object\n"
     ]
    },
    {
     "data": {
      "text/html": [
       "<div>\n",
       "<style scoped>\n",
       "    .dataframe tbody tr th:only-of-type {\n",
       "        vertical-align: middle;\n",
       "    }\n",
       "\n",
       "    .dataframe tbody tr th {\n",
       "        vertical-align: top;\n",
       "    }\n",
       "\n",
       "    .dataframe thead th {\n",
       "        text-align: right;\n",
       "    }\n",
       "</style>\n",
       "<table border=\"1\" class=\"dataframe\">\n",
       "  <thead>\n",
       "    <tr style=\"text-align: right;\">\n",
       "      <th></th>\n",
       "      <th>HW_CO2</th>\n",
       "      <th>peak_height_x</th>\n",
       "      <th>t1_indexed</th>\n",
       "      <th>Tf_x</th>\n",
       "      <th>Area_CO2</th>\n",
       "      <th>CO2 (ug/m3)</th>\n",
       "      <th>CO2 EF</th>\n",
       "      <th>Conc. CO2</th>\n",
       "      <th>time2_x</th>\n",
       "      <th>HW_NO2</th>\n",
       "      <th>...</th>\n",
       "      <th>NO2 ng/m3</th>\n",
       "      <th>NO2 (ng/m3)</th>\n",
       "      <th>NO2 (ug/m3)</th>\n",
       "      <th>Approx_6</th>\n",
       "      <th>time2_y</th>\n",
       "      <th>NOx/CO2 EF/kg fuel</th>\n",
       "      <th>time</th>\n",
       "      <th>minutes</th>\n",
       "      <th>seconds</th>\n",
       "      <th>NO2/CO2 EF/kg fuel</th>\n",
       "    </tr>\n",
       "  </thead>\n",
       "  <tbody>\n",
       "    <tr>\n",
       "      <th>0</th>\n",
       "      <td>126.247273</td>\n",
       "      <td>368.902634</td>\n",
       "      <td>230.964721</td>\n",
       "      <td>357.211993</td>\n",
       "      <td>46572.951467</td>\n",
       "      <td>83812.264399</td>\n",
       "      <td>264285.213329</td>\n",
       "      <td>368.904678</td>\n",
       "      <td>0:05:40</td>\n",
       "      <td>10.494250</td>\n",
       "      <td>...</td>\n",
       "      <td>19.742793</td>\n",
       "      <td>19.742793</td>\n",
       "      <td>0.019743</td>\n",
       "      <td>0.999954</td>\n",
       "      <td>00:03:44.279863</td>\n",
       "      <td>1.338641e+10</td>\n",
       "      <td>2022-11-28 00:05:40</td>\n",
       "      <td>5.666667</td>\n",
       "      <td>45</td>\n",
       "      <td>0.000743</td>\n",
       "    </tr>\n",
       "    <tr>\n",
       "      <th>1</th>\n",
       "      <td>38.526629</td>\n",
       "      <td>367.884608</td>\n",
       "      <td>406.558750</td>\n",
       "      <td>445.085379</td>\n",
       "      <td>14173.353748</td>\n",
       "      <td>25506.239873</td>\n",
       "      <td>80428.826192</td>\n",
       "      <td>367.897092</td>\n",
       "      <td>0:08:36</td>\n",
       "      <td>87.581633</td>\n",
       "      <td>...</td>\n",
       "      <td>165.891987</td>\n",
       "      <td>165.891987</td>\n",
       "      <td>0.165892</td>\n",
       "      <td>1.006775</td>\n",
       "      <td>00:05:01.228321</td>\n",
       "      <td>4.848265e+08</td>\n",
       "      <td>2022-11-28 00:08:36</td>\n",
       "      <td>8.600000</td>\n",
       "      <td>44</td>\n",
       "      <td>0.020509</td>\n",
       "    </tr>\n",
       "  </tbody>\n",
       "</table>\n",
       "<p>2 rows × 23 columns</p>\n",
       "</div>"
      ],
      "text/plain": [
       "       HW_CO2  peak_height_x  t1_indexed        Tf_x      Area_CO2  \\\n",
       "0  126.247273     368.902634  230.964721  357.211993  46572.951467   \n",
       "1   38.526629     367.884608  406.558750  445.085379  14173.353748   \n",
       "\n",
       "    CO2 (ug/m3)         CO2 EF  Conc. CO2   time2_x     HW_NO2  ...  \\\n",
       "0  83812.264399  264285.213329  368.904678  0:05:40  10.494250  ...   \n",
       "1  25506.239873   80428.826192  367.897092  0:08:36  87.581633  ...   \n",
       "\n",
       "    NO2 ng/m3  NO2 (ng/m3)  NO2 (ug/m3)  Approx_6          time2_y  \\\n",
       "0   19.742793    19.742793     0.019743  0.999954  00:03:44.279863   \n",
       "1  165.891987   165.891987     0.165892  1.006775  00:05:01.228321   \n",
       "\n",
       "   NOx/CO2 EF/kg fuel                time   minutes  seconds  \\\n",
       "0        1.338641e+10 2022-11-28 00:05:40  5.666667       45   \n",
       "1        4.848265e+08 2022-11-28 00:08:36  8.600000       44   \n",
       "\n",
       "  NO2/CO2 EF/kg fuel  \n",
       "0           0.000743  \n",
       "1           0.020509  \n",
       "\n",
       "[2 rows x 23 columns]"
      ]
     },
     "execution_count": 82,
     "metadata": {},
     "output_type": "execute_result"
    }
   ],
   "source": [
    "df4[['time']] = df4[['time2_x']].apply(pd.to_datetime)\n",
    "df4['minutes'] = df4['time'].dt.hour * 60 + df4['time'].dt.minute + df4['time'].dt.second/60\n",
    "df4['seconds'] = df4['time'].dt.hour * 60 + df4['time'].dt.minute + df4['time'].dt.second\n",
    "df4.to_csv('./Results2/merged_CO2_NO2_EF_time_min.csv')\n",
    "print(df4.dtypes)\n",
    "\n",
    "df4.head(2)"
   ]
  },
  {
   "cell_type": "code",
   "execution_count": 107,
   "id": "written-framework",
   "metadata": {
    "ExecuteTime": {
     "end_time": "2022-11-28T18:15:11.012691Z",
     "start_time": "2022-11-28T18:15:09.222543Z"
    }
   },
   "outputs": [
    {
     "data": {
      "image/png": "[encoded data removed]",
      "text/plain": [
       "<Figure size 864x432 with 3 Axes>"
      ]
     },
     "metadata": {
      "needs_background": "light"
     },
     "output_type": "display_data"
    }
   ],
   "source": [
    "fig, (ax1, ax2, ax3,) = plt.subplots(3, 1, \n",
    "                    sharex=True, figsize=(12, 6))\n",
    "# Add x-axis and y-axis\n",
    "ax1.plot(df4['time2_x'],\n",
    "         df4['NO2 (ug/m3)'],\n",
    "         color='blue')\n",
    "# ax2.plot(app2.index.values,\n",
    "#        app2['Approx_2'],\n",
    "#        color='orange')\n",
    "\n",
    "ax2.plot(df4['time2_x'],\n",
    "         df4['CO2 (ug/m3)'],\n",
    "         color='green')\n",
    "ax3.plot(df4['time2_x'],\n",
    "         df4['NO2/CO2 EF/kg fuel'],\n",
    "         color='magenta')\n",
    "\n",
    "# ax5.plot(BC.index.values,\n",
    "#          BC['BC_app_3'],\n",
    "#          color='black')\n",
    "\n",
    "ax1.set(\n",
    "    ylabel=\" NO2  \\n (ug/m3)\")\n",
    "# ax2.set(ylabel=\" App. L2\")\n",
    "ax2.set(ylabel=\"CO2  \\n (ug/m3)\")\n",
    "ax3.set(ylabel=\"NO2/CO2  \\n (EF/kg fuel)\"),\n",
    "ax3.yaxis.labelpad = 20\n",
    "plt.axhline(y = 1.0, color = 'black', linestyle = 'dashed', \n",
    "            label = \"EF threshold > 1.0\")\n",
    "# plt.plot(x_array, y_array)\n",
    "plt.xticks(rotation =80) # Rotates X-Axis Ticks by 45-degrees\n",
    "# plt.grid(b=True, which='major', color='grey', linestyle='--')\n",
    "plt.gca().xaxis.set_major_locator(plt.MultipleLocator(3))\n",
    "# line colour is red\n",
    "  \n",
    "# plotting the legend\n",
    "plt.legend()\n",
    "plt.xlabel('Time (H:M:S)', fontsize = 13, labelpad = 10)\n",
    "\n",
    "plt.tight_layout()\n",
    "plt.gca().xaxis.set_major_locator(plt.MultipleLocator(10))\n",
    "plt.savefig('./Results2/NO2_CO2_EF_comparison.png')\n",
    "plt.show()\n",
    "\n"
   ]
  },
  {
   "cell_type": "code",
   "execution_count": 83,
   "id": "illegal-scroll",
   "metadata": {
    "ExecuteTime": {
     "end_time": "2022-11-28T14:46:43.586896Z",
     "start_time": "2022-11-28T14:46:43.571923Z"
    }
   },
   "outputs": [
    {
     "name": "stdout",
     "output_type": "stream",
     "text": [
      "1738\n",
      "<bound method NDFrame.head of                      Time     time2     license vehicle-make-name\n",
      "0     2022-09-02 00:00:19  00:00:19  2102015672         chevrolet\n",
      "1     2022-09-02 00:48:47  00:48:47  2104921995             volvo\n",
      "2     2022-09-02 00:48:56  00:48:56  2104932924              ford\n",
      "3     2022-09-02 00:49:11  00:49:11  2104946538         chevrolet\n",
      "4     2022-09-02 00:49:11  00:49:11  2104947077          kenworth\n",
      "...                   ...       ...         ...               ...\n",
      "1733  2022-09-02 23:20:55  23:20:55  2186051819             dodge\n",
      "1734  2022-09-02 23:45:44  23:45:44  2187540484         chevrolet\n",
      "1735  2022-09-02 23:45:56  23:45:56  2187552584          kenworth\n",
      "1736  2022-09-02 23:46:24  23:46:24  2187580106              ford\n",
      "1737  2022-09-02 23:46:40  23:46:40  2187595624             honda\n",
      "\n",
      "[1738 rows x 4 columns]>\n"
     ]
    }
   ],
   "source": [
    "\n",
    "df_lic = pd.read_csv('./Results2/simplified_ALPR.csv', index_col=0)\n",
    "print(len(df_lic))\n",
    "print(df_lic.head)\n",
    "# print(dtypes(df_lic))"
   ]
  },
  {
   "cell_type": "code",
   "execution_count": 84,
   "id": "infrared-embassy",
   "metadata": {
    "ExecuteTime": {
     "end_time": "2022-11-28T14:46:44.552617Z",
     "start_time": "2022-11-28T14:46:44.538653Z"
    }
   },
   "outputs": [
    {
     "name": "stdout",
     "output_type": "stream",
     "text": [
      "Time                 object\n",
      "time2                object\n",
      "license               int64\n",
      "vehicle-make-name    object\n",
      "dtype: object\n",
      "1738\n"
     ]
    }
   ],
   "source": [
    "print(df_lic.dtypes)\n",
    "print(len(df_lic))"
   ]
  },
  {
   "cell_type": "code",
   "execution_count": 85,
   "id": "exterior-andrews",
   "metadata": {
    "ExecuteTime": {
     "end_time": "2022-11-28T14:46:45.398017Z",
     "start_time": "2022-11-28T14:46:45.385028Z"
    }
   },
   "outputs": [
    {
     "name": "stdout",
     "output_type": "stream",
     "text": [
      "Time                 object\n",
      "t1_indexed           object\n",
      "license               int64\n",
      "vehicle-make-name    object\n",
      "dtype: object\n",
      "<class 'pandas.core.frame.DataFrame'>\n",
      "Int64Index: 1738 entries, 0 to 1737\n",
      "Data columns (total 4 columns):\n",
      " #   Column             Non-Null Count  Dtype \n",
      "---  ------             --------------  ----- \n",
      " 0   Time               1738 non-null   object\n",
      " 1   t1_indexed         1738 non-null   object\n",
      " 2   license            1738 non-null   int64 \n",
      " 3   vehicle-make-name  1738 non-null   object\n",
      "dtypes: int64(1), object(3)\n",
      "memory usage: 67.9+ KB\n"
     ]
    }
   ],
   "source": [
    "df_lic.rename(columns={'time2':'t1_indexed'}, inplace=True)\n",
    "# df2.rename(columns={'index':'t1_indexed'}, inplace=True)\n",
    "# df1.columns\n",
    "print(df_lic.dtypes)\n",
    "df_lic.info()"
   ]
  },
  {
   "cell_type": "code",
   "execution_count": 86,
   "id": "every-equipment",
   "metadata": {
    "ExecuteTime": {
     "end_time": "2022-11-28T14:46:46.344154Z",
     "start_time": "2022-11-28T14:46:46.242448Z"
    }
   },
   "outputs": [
    {
     "name": "stdout",
     "output_type": "stream",
     "text": [
      "Time                         object\n",
      "t1_indexed           datetime64[ns]\n",
      "license                       int64\n",
      "vehicle-make-name            object\n",
      "dtype: object\n"
     ]
    },
    {
     "data": {
      "text/html": [
       "<div>\n",
       "<style scoped>\n",
       "    .dataframe tbody tr th:only-of-type {\n",
       "        vertical-align: middle;\n",
       "    }\n",
       "\n",
       "    .dataframe tbody tr th {\n",
       "        vertical-align: top;\n",
       "    }\n",
       "\n",
       "    .dataframe thead th {\n",
       "        text-align: right;\n",
       "    }\n",
       "</style>\n",
       "<table border=\"1\" class=\"dataframe\">\n",
       "  <thead>\n",
       "    <tr style=\"text-align: right;\">\n",
       "      <th></th>\n",
       "      <th>Time</th>\n",
       "      <th>t1_indexed</th>\n",
       "      <th>license</th>\n",
       "      <th>vehicle-make-name</th>\n",
       "    </tr>\n",
       "  </thead>\n",
       "  <tbody>\n",
       "    <tr>\n",
       "      <th>0</th>\n",
       "      <td>2022-09-02 00:00:19</td>\n",
       "      <td>2022-11-28 00:00:19</td>\n",
       "      <td>2102015672</td>\n",
       "      <td>chevrolet</td>\n",
       "    </tr>\n",
       "    <tr>\n",
       "      <th>1</th>\n",
       "      <td>2022-09-02 00:48:47</td>\n",
       "      <td>2022-11-28 00:48:47</td>\n",
       "      <td>2104921995</td>\n",
       "      <td>volvo</td>\n",
       "    </tr>\n",
       "    <tr>\n",
       "      <th>2</th>\n",
       "      <td>2022-09-02 00:48:56</td>\n",
       "      <td>2022-11-28 00:48:56</td>\n",
       "      <td>2104932924</td>\n",
       "      <td>ford</td>\n",
       "    </tr>\n",
       "    <tr>\n",
       "      <th>3</th>\n",
       "      <td>2022-09-02 00:49:11</td>\n",
       "      <td>2022-11-28 00:49:11</td>\n",
       "      <td>2104946538</td>\n",
       "      <td>chevrolet</td>\n",
       "    </tr>\n",
       "    <tr>\n",
       "      <th>4</th>\n",
       "      <td>2022-09-02 00:49:11</td>\n",
       "      <td>2022-11-28 00:49:11</td>\n",
       "      <td>2104947077</td>\n",
       "      <td>kenworth</td>\n",
       "    </tr>\n",
       "  </tbody>\n",
       "</table>\n",
       "</div>"
      ],
      "text/plain": [
       "                  Time          t1_indexed     license vehicle-make-name\n",
       "0  2022-09-02 00:00:19 2022-11-28 00:00:19  2102015672         chevrolet\n",
       "1  2022-09-02 00:48:47 2022-11-28 00:48:47  2104921995             volvo\n",
       "2  2022-09-02 00:48:56 2022-11-28 00:48:56  2104932924              ford\n",
       "3  2022-09-02 00:49:11 2022-11-28 00:49:11  2104946538         chevrolet\n",
       "4  2022-09-02 00:49:11 2022-11-28 00:49:11  2104947077          kenworth"
      ]
     },
     "execution_count": 86,
     "metadata": {},
     "output_type": "execute_result"
    }
   ],
   "source": [
    "df_lic[['t1_indexed']] = df_lic[['t1_indexed']].apply(pd.to_datetime)\n",
    "# #.apply(lambda x: x.value)\n",
    "print(df_lic.dtypes)\n",
    "df_lic.head()"
   ]
  },
  {
   "cell_type": "code",
   "execution_count": 98,
   "id": "funny-seventh",
   "metadata": {
    "ExecuteTime": {
     "end_time": "2022-11-28T14:57:23.002269Z",
     "start_time": "2022-11-28T14:57:22.980335Z"
    }
   },
   "outputs": [
    {
     "name": "stdout",
     "output_type": "stream",
     "text": [
      "Time                         object\n",
      "t1_indexed           datetime64[ns]\n",
      "license                       int64\n",
      "vehicle-make-name            object\n",
      "seconds                       int64\n",
      "minutes                     float64\n",
      "dtype: object\n"
     ]
    },
    {
     "data": {
      "text/html": [
       "<div>\n",
       "<style scoped>\n",
       "    .dataframe tbody tr th:only-of-type {\n",
       "        vertical-align: middle;\n",
       "    }\n",
       "\n",
       "    .dataframe tbody tr th {\n",
       "        vertical-align: top;\n",
       "    }\n",
       "\n",
       "    .dataframe thead th {\n",
       "        text-align: right;\n",
       "    }\n",
       "</style>\n",
       "<table border=\"1\" class=\"dataframe\">\n",
       "  <thead>\n",
       "    <tr style=\"text-align: right;\">\n",
       "      <th></th>\n",
       "      <th>Time</th>\n",
       "      <th>t1_indexed</th>\n",
       "      <th>license</th>\n",
       "      <th>vehicle-make-name</th>\n",
       "      <th>seconds</th>\n",
       "      <th>minutes</th>\n",
       "    </tr>\n",
       "  </thead>\n",
       "  <tbody>\n",
       "    <tr>\n",
       "      <th>0</th>\n",
       "      <td>2022-09-02 00:00:19</td>\n",
       "      <td>2022-11-28 00:00:19</td>\n",
       "      <td>2102015672</td>\n",
       "      <td>chevrolet</td>\n",
       "      <td>19</td>\n",
       "      <td>0.316667</td>\n",
       "    </tr>\n",
       "    <tr>\n",
       "      <th>1</th>\n",
       "      <td>2022-09-02 00:48:47</td>\n",
       "      <td>2022-11-28 00:48:47</td>\n",
       "      <td>2104921995</td>\n",
       "      <td>volvo</td>\n",
       "      <td>95</td>\n",
       "      <td>48.783333</td>\n",
       "    </tr>\n",
       "  </tbody>\n",
       "</table>\n",
       "</div>"
      ],
      "text/plain": [
       "                  Time          t1_indexed     license vehicle-make-name  \\\n",
       "0  2022-09-02 00:00:19 2022-11-28 00:00:19  2102015672         chevrolet   \n",
       "1  2022-09-02 00:48:47 2022-11-28 00:48:47  2104921995             volvo   \n",
       "\n",
       "   seconds    minutes  \n",
       "0       19   0.316667  \n",
       "1       95  48.783333  "
      ]
     },
     "execution_count": 98,
     "metadata": {},
     "output_type": "execute_result"
    }
   ],
   "source": [
    "\n",
    "df_lic['t1_indexed'] = pd.to_datetime(df_lic['t1_indexed'])\n",
    "df_lic['minutes'] = df_lic['t1_indexed'].dt.hour * 60 + df_lic['t1_indexed'].dt.minute + df_lic['t1_indexed'].dt.second/60\n",
    "df_lic['seconds'] = df_lic['t1_indexed'].dt.hour * 60 + df_lic['t1_indexed'].dt.minute + df_lic['t1_indexed'].dt.second\n",
    "\n",
    "print(df_lic.dtypes)\n",
    "df_lic.head(2)\n"
   ]
  },
  {
   "cell_type": "code",
   "execution_count": 91,
   "id": "champion-moral",
   "metadata": {
    "ExecuteTime": {
     "end_time": "2022-11-28T14:50:12.353754Z",
     "start_time": "2022-11-28T14:50:12.348778Z"
    }
   },
   "outputs": [],
   "source": [
    "df4.sort_values(by='minutes', inplace=True)\n",
    "df_lic.sort_values(by='minutes', inplace=True)"
   ]
  },
  {
   "cell_type": "code",
   "execution_count": 100,
   "id": "medical-array",
   "metadata": {
    "ExecuteTime": {
     "end_time": "2022-11-28T14:58:22.863555Z",
     "start_time": "2022-11-28T14:58:22.793754Z"
    }
   },
   "outputs": [
    {
     "name": "stdout",
     "output_type": "stream",
     "text": [
      "486\n"
     ]
    },
    {
     "data": {
      "text/html": [
       "<div>\n",
       "<style scoped>\n",
       "    .dataframe tbody tr th:only-of-type {\n",
       "        vertical-align: middle;\n",
       "    }\n",
       "\n",
       "    .dataframe tbody tr th {\n",
       "        vertical-align: top;\n",
       "    }\n",
       "\n",
       "    .dataframe thead th {\n",
       "        text-align: right;\n",
       "    }\n",
       "</style>\n",
       "<table border=\"1\" class=\"dataframe\">\n",
       "  <thead>\n",
       "    <tr style=\"text-align: right;\">\n",
       "      <th></th>\n",
       "      <th>HW_CO2</th>\n",
       "      <th>peak_height_x</th>\n",
       "      <th>t1_indexed_x</th>\n",
       "      <th>Tf_x</th>\n",
       "      <th>Area_CO2</th>\n",
       "      <th>CO2 (ug/m3)</th>\n",
       "      <th>CO2 EF</th>\n",
       "      <th>Conc. CO2</th>\n",
       "      <th>time2_x</th>\n",
       "      <th>HW_NO2</th>\n",
       "      <th>...</th>\n",
       "      <th>NOx/CO2 EF/kg fuel</th>\n",
       "      <th>time</th>\n",
       "      <th>minutes</th>\n",
       "      <th>seconds_x</th>\n",
       "      <th>NO2/CO2 EF/kg fuel</th>\n",
       "      <th>Time</th>\n",
       "      <th>t1_indexed_y</th>\n",
       "      <th>license</th>\n",
       "      <th>vehicle-make-name</th>\n",
       "      <th>seconds_y</th>\n",
       "    </tr>\n",
       "  </thead>\n",
       "  <tbody>\n",
       "    <tr>\n",
       "      <th>0</th>\n",
       "      <td>126.247273</td>\n",
       "      <td>368.902634</td>\n",
       "      <td>230.964721</td>\n",
       "      <td>357.211993</td>\n",
       "      <td>46572.951467</td>\n",
       "      <td>83812.264399</td>\n",
       "      <td>264285.213329</td>\n",
       "      <td>368.904678</td>\n",
       "      <td>0:05:40</td>\n",
       "      <td>10.494250</td>\n",
       "      <td>...</td>\n",
       "      <td>1.338641e+10</td>\n",
       "      <td>2022-11-28 00:05:40</td>\n",
       "      <td>5.666667</td>\n",
       "      <td>45</td>\n",
       "      <td>0.000743</td>\n",
       "      <td>2022-09-02 00:00:19</td>\n",
       "      <td>2022-11-28 00:00:19</td>\n",
       "      <td>2102015672</td>\n",
       "      <td>chevrolet</td>\n",
       "      <td>19</td>\n",
       "    </tr>\n",
       "    <tr>\n",
       "      <th>1</th>\n",
       "      <td>38.526629</td>\n",
       "      <td>367.884608</td>\n",
       "      <td>406.558750</td>\n",
       "      <td>445.085379</td>\n",
       "      <td>14173.353748</td>\n",
       "      <td>25506.239873</td>\n",
       "      <td>80428.826192</td>\n",
       "      <td>367.897092</td>\n",
       "      <td>0:08:36</td>\n",
       "      <td>87.581633</td>\n",
       "      <td>...</td>\n",
       "      <td>4.848265e+08</td>\n",
       "      <td>2022-11-28 00:08:36</td>\n",
       "      <td>8.600000</td>\n",
       "      <td>44</td>\n",
       "      <td>0.020509</td>\n",
       "      <td>2022-09-02 00:00:19</td>\n",
       "      <td>2022-11-28 00:00:19</td>\n",
       "      <td>2102015672</td>\n",
       "      <td>chevrolet</td>\n",
       "      <td>19</td>\n",
       "    </tr>\n",
       "  </tbody>\n",
       "</table>\n",
       "<p>2 rows × 28 columns</p>\n",
       "</div>"
      ],
      "text/plain": [
       "       HW_CO2  peak_height_x  t1_indexed_x        Tf_x      Area_CO2  \\\n",
       "0  126.247273     368.902634    230.964721  357.211993  46572.951467   \n",
       "1   38.526629     367.884608    406.558750  445.085379  14173.353748   \n",
       "\n",
       "    CO2 (ug/m3)         CO2 EF  Conc. CO2   time2_x     HW_NO2  ...  \\\n",
       "0  83812.264399  264285.213329  368.904678  0:05:40  10.494250  ...   \n",
       "1  25506.239873   80428.826192  367.897092  0:08:36  87.581633  ...   \n",
       "\n",
       "   NOx/CO2 EF/kg fuel                time   minutes  seconds_x  \\\n",
       "0        1.338641e+10 2022-11-28 00:05:40  5.666667         45   \n",
       "1        4.848265e+08 2022-11-28 00:08:36  8.600000         44   \n",
       "\n",
       "   NO2/CO2 EF/kg fuel                 Time        t1_indexed_y     license  \\\n",
       "0            0.000743  2022-09-02 00:00:19 2022-11-28 00:00:19  2102015672   \n",
       "1            0.020509  2022-09-02 00:00:19 2022-11-28 00:00:19  2102015672   \n",
       "\n",
       "   vehicle-make-name seconds_y  \n",
       "0          chevrolet        19  \n",
       "1          chevrolet        19  \n",
       "\n",
       "[2 rows x 28 columns]"
      ]
     },
     "execution_count": 100,
     "metadata": {},
     "output_type": "execute_result"
    }
   ],
   "source": [
    "df5= pd.merge_asof(\n",
    "    df4, df_lic, on=\"minutes\",direction=\"nearest\",  \n",
    "        allow_exact_matches=False)\n",
    "print(len(df5))\n",
    "df5.to_csv('./Results2/merged_CO2_NOx_lic_minutes.csv')\n",
    "df5.head(2)"
   ]
  },
  {
   "cell_type": "code",
   "execution_count": 97,
   "id": "corporate-memphis",
   "metadata": {
    "ExecuteTime": {
     "end_time": "2022-11-28T14:56:59.074099Z",
     "start_time": "2022-11-28T14:56:59.043194Z"
    }
   },
   "outputs": [],
   "source": []
  },
  {
   "cell_type": "code",
   "execution_count": 95,
   "id": "perfect-bradford",
   "metadata": {
    "ExecuteTime": {
     "end_time": "2022-11-28T14:54:53.749718Z",
     "start_time": "2022-11-28T14:54:53.741738Z"
    }
   },
   "outputs": [],
   "source": [
    "## check with andrew on timestamps converstion to float??\n",
    "# df_lic[['Time']] = df_lic[['Time']].astype(float)\n",
    "# # #.apply(lambda x: x.value)\n",
    "# print(df_lic.dtypes)\n",
    "# df_lic.head()"
   ]
  },
  {
   "cell_type": "code",
   "execution_count": 96,
   "id": "powered-cowboy",
   "metadata": {
    "ExecuteTime": {
     "end_time": "2022-11-28T14:55:04.578947Z",
     "start_time": "2022-11-28T14:55:04.569971Z"
    }
   },
   "outputs": [],
   "source": [
    "# df['time2'] = df['time'].astype(int).str.split().str[1]\n",
    "# # df['time2'] = df['Time'].dt.strftime('%H:%M:%S')\n",
    "# df.tail(5)"
   ]
  }
 ],
 "metadata": {
  "kernelspec": {
   "display_name": "Python 3",
   "language": "python",
   "name": "python3"
  },
  "language_info": {
   "codemirror_mode": {
    "name": "ipython",
    "version": 3
   },
   "file_extension": ".py",
   "mimetype": "text/x-python",
   "name": "python",
   "nbconvert_exporter": "python",
   "pygments_lexer": "ipython3",
   "version": "3.7.9"
  },
  "toc": {
   "base_numbering": 1,
   "nav_menu": {},
   "number_sections": true,
   "sideBar": true,
   "skip_h1_title": false,
   "title_cell": "Table of Contents",
   "title_sidebar": "Contents",
   "toc_cell": false,
   "toc_position": {},
   "toc_section_display": true,
   "toc_window_display": false
  },
  "varInspector": {
   "cols": {
    "lenName": 16,
    "lenType": 16,
    "lenVar": 40
   },
   "kernels_config": {
    "python": {
     "delete_cmd_postfix": "",
     "delete_cmd_prefix": "del ",
     "library": "var_list.py",
     "varRefreshCmd": "print(var_dic_list())"
    },
    "r": {
     "delete_cmd_postfix": ") ",
     "delete_cmd_prefix": "rm(",
     "library": "var_list.r",
     "varRefreshCmd": "cat(var_dic_list()) "
    }
   },
   "types_to_exclude": [
    "module",
    "function",
    "builtin_function_or_method",
    "instance",
    "_Feature"
   ],
   "window_display": false
  }
 },
 "nbformat": 4,
 "nbformat_minor": 5
}
