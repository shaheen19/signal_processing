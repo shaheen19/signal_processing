{
 "cells": [
  {
   "cell_type": "markdown",
   "id": "ec830b1f",
   "metadata": {},
   "source": [
    "\n",
    "\n",
    "## Project 1C: NO2 (ppb) Multilevel Discrete Wavelet Transform of 1D Time Series\n"
   ]
  },
  {
   "cell_type": "markdown",
   "id": "d597a9b8",
   "metadata": {},
   "source": [
    "\n",
    "## Project Objective \n",
    "Identify higher emission of pollutants from on-road vehicles. \n",
    "Black Carbon (BC), oxides of nitrogen (NOx) and carbon dioxide (CO2) \n",
    "\n",
    "### Use Discrete Wavelet transform and 1D time series to denoise the signal\n",
    "- Make multilevel decomposition \n",
    "- Visualize the Approximation and Details coefficients\n",
    "- Reconstruct original time series signal\n",
    "- Reconstruct the Approximation and Details\n",
    "- Visualize the Approximation and Details\n",
    "- Reduce data background noise at different scale levels and visualize the results\n",
    "- Use Scipy signal library to extract actual signal by taking into account background fluctuations during measurements. \n",
    "\n",
    " concentration of pollutants = Peak halfwidth * peak height"
   ]
  },
  {
   "cell_type": "markdown",
   "id": "5bfb2a76",
   "metadata": {},
   "source": [
    "### Import required packages"
   ]
  },
  {
   "cell_type": "code",
   "execution_count": 1,
   "id": "7bba46ac",
   "metadata": {
    "ExecuteTime": {
     "end_time": "2022-11-28T13:25:31.202983Z",
     "start_time": "2022-11-28T13:25:29.781891Z"
    }
   },
   "outputs": [
    {
     "data": {
      "text/plain": [
       "'C:\\\\Users\\\\bina_\\\\Dropbox\\\\Robina Shaheen_PEMS2022\\\\PEMS_NOx_BC_CO2_ALPR\\\\ii.dwt'"
      ]
     },
     "execution_count": 1,
     "metadata": {},
     "output_type": "execute_result"
    }
   ],
   "source": [
    "import os\n",
    "import glob\n",
    "import csv\n",
    "import re\n",
    "\n",
    "import numpy as np\n",
    "import pandas as pd\n",
    "import matplotlib.pyplot as plt\n",
    "import scipy\n",
    "from scipy import stats\n",
    "from scipy import signal\n",
    "from scipy.signal import find_peaks\n",
    "import pywt\n",
    "import matplotlib.dates as mdates\n",
    "from matplotlib.dates import DateFormatter\n",
    "import seaborn as sns\n",
    "# Handle date time conversions between pandas and matplotlib\n",
    "from pandas.plotting import register_matplotlib_converters\n",
    "register_matplotlib_converters()\n",
    "os.getcwd()"
   ]
  },
  {
   "cell_type": "markdown",
   "id": "89688e08",
   "metadata": {},
   "source": [
    "### Read the data"
   ]
  },
  {
   "cell_type": "code",
   "execution_count": 2,
   "id": "4f7f970d",
   "metadata": {
    "ExecuteTime": {
     "end_time": "2022-11-28T13:25:31.810385Z",
     "start_time": "2022-11-28T13:25:31.622249Z"
    }
   },
   "outputs": [
    {
     "data": {
      "text/html": [
       "<div>\n",
       "<style scoped>\n",
       "    .dataframe tbody tr th:only-of-type {\n",
       "        vertical-align: middle;\n",
       "    }\n",
       "\n",
       "    .dataframe tbody tr th {\n",
       "        vertical-align: top;\n",
       "    }\n",
       "\n",
       "    .dataframe thead th {\n",
       "        text-align: right;\n",
       "    }\n",
       "</style>\n",
       "<table border=\"1\" class=\"dataframe\">\n",
       "  <thead>\n",
       "    <tr style=\"text-align: right;\">\n",
       "      <th></th>\n",
       "      <th>Time</th>\n",
       "      <th>epoch_time</th>\n",
       "      <th>xno</th>\n",
       "      <th>temperature</th>\n",
       "      <th>peakloc</th>\n",
       "      <th>minmax</th>\n",
       "      <th>offset_flag</th>\n",
       "    </tr>\n",
       "  </thead>\n",
       "  <tbody>\n",
       "    <tr>\n",
       "      <th>0</th>\n",
       "      <td>2022-09-02 00:00:00.806918</td>\n",
       "      <td>1.649829e+12</td>\n",
       "      <td>-0.01</td>\n",
       "      <td>44.44</td>\n",
       "      <td>1805.0</td>\n",
       "      <td>30655.0</td>\n",
       "      <td>0.0</td>\n",
       "    </tr>\n",
       "    <tr>\n",
       "      <th>1</th>\n",
       "      <td>2022-09-02 00:00:01.205161</td>\n",
       "      <td>1.649829e+12</td>\n",
       "      <td>0.01</td>\n",
       "      <td>44.44</td>\n",
       "      <td>1805.0</td>\n",
       "      <td>30871.0</td>\n",
       "      <td>0.0</td>\n",
       "    </tr>\n",
       "    <tr>\n",
       "      <th>2</th>\n",
       "      <td>2022-09-02 00:00:02.001646</td>\n",
       "      <td>1.649829e+12</td>\n",
       "      <td>-0.07</td>\n",
       "      <td>44.44</td>\n",
       "      <td>1805.0</td>\n",
       "      <td>30888.0</td>\n",
       "      <td>0.0</td>\n",
       "    </tr>\n",
       "  </tbody>\n",
       "</table>\n",
       "</div>"
      ],
      "text/plain": [
       "                         Time    epoch_time   xno  temperature  peakloc  \\\n",
       "0  2022-09-02 00:00:00.806918  1.649829e+12 -0.01        44.44   1805.0   \n",
       "1  2022-09-02 00:00:01.205161  1.649829e+12  0.01        44.44   1805.0   \n",
       "2  2022-09-02 00:00:02.001646  1.649829e+12 -0.07        44.44   1805.0   \n",
       "\n",
       "    minmax  offset_flag  \n",
       "0  30655.0          0.0  \n",
       "1  30871.0          0.0  \n",
       "2  30888.0          0.0  "
      ]
     },
     "execution_count": 2,
     "metadata": {},
     "output_type": "execute_result"
    }
   ],
   "source": [
    "# base_path=os.path.join ('ii.dwt','data')\n",
    "# base_path\n",
    "df = pd.read_csv('./data/2022-09-02/zephyrno.csv')\n",
    "df.head(3)\n"
   ]
  },
  {
   "cell_type": "code",
   "execution_count": 3,
   "id": "84302cfe",
   "metadata": {
    "ExecuteTime": {
     "end_time": "2022-11-28T13:25:32.630272Z",
     "start_time": "2022-11-28T13:25:32.589778Z"
    }
   },
   "outputs": [
    {
     "name": "stdout",
     "output_type": "stream",
     "text": [
      "Index(['Time', 'epoch_time', 'xno', 'temperature', 'peakloc', 'minmax',\n",
      "       'offset_flag'],\n",
      "      dtype='object')\n",
      "(146188, 7)\n"
     ]
    }
   ],
   "source": [
    "print(df.columns)\n",
    "print(df.shape)\n",
    "df = df.ffill().bfill()\n",
    "#df.info()"
   ]
  },
  {
   "cell_type": "code",
   "execution_count": 4,
   "id": "wired-garage",
   "metadata": {
    "ExecuteTime": {
     "end_time": "2022-11-28T13:25:33.620403Z",
     "start_time": "2022-11-28T13:25:33.594476Z"
    }
   },
   "outputs": [
    {
     "name": "stdout",
     "output_type": "stream",
     "text": [
      "Empty cells/ zero values: Time           0\n",
      "epoch_time     0\n",
      "xno            0\n",
      "temperature    0\n",
      "peakloc        0\n",
      "minmax         0\n",
      "offset_flag    0\n",
      "dtype: int64\n"
     ]
    }
   ],
   "source": [
    "print('Empty cells/ zero values:', df.isnull().sum())"
   ]
  },
  {
   "cell_type": "markdown",
   "id": "82c65d25",
   "metadata": {},
   "source": [
    "### Transform and select data  required for further analysis"
   ]
  },
  {
   "cell_type": "code",
   "execution_count": 5,
   "id": "narrow-characterization",
   "metadata": {
    "ExecuteTime": {
     "end_time": "2022-11-28T13:25:35.449174Z",
     "start_time": "2022-11-28T13:25:35.180890Z"
    }
   },
   "outputs": [
    {
     "data": {
      "text/html": [
       "<div>\n",
       "<style scoped>\n",
       "    .dataframe tbody tr th:only-of-type {\n",
       "        vertical-align: middle;\n",
       "    }\n",
       "\n",
       "    .dataframe tbody tr th {\n",
       "        vertical-align: top;\n",
       "    }\n",
       "\n",
       "    .dataframe thead th {\n",
       "        text-align: right;\n",
       "    }\n",
       "</style>\n",
       "<table border=\"1\" class=\"dataframe\">\n",
       "  <thead>\n",
       "    <tr style=\"text-align: right;\">\n",
       "      <th></th>\n",
       "      <th>Time</th>\n",
       "      <th>epoch_time</th>\n",
       "      <th>xno</th>\n",
       "      <th>temperature</th>\n",
       "      <th>peakloc</th>\n",
       "      <th>minmax</th>\n",
       "      <th>offset_flag</th>\n",
       "      <th>time2</th>\n",
       "    </tr>\n",
       "  </thead>\n",
       "  <tbody>\n",
       "    <tr>\n",
       "      <th>146183</th>\n",
       "      <td>2022-09-02 23:59:58.042184</td>\n",
       "      <td>1.649913e+12</td>\n",
       "      <td>0.03</td>\n",
       "      <td>37.75</td>\n",
       "      <td>2093.0</td>\n",
       "      <td>31714.0</td>\n",
       "      <td>0.0</td>\n",
       "      <td>23:59:58.042184</td>\n",
       "    </tr>\n",
       "    <tr>\n",
       "      <th>146184</th>\n",
       "      <td>2022-09-02 23:59:58.455436</td>\n",
       "      <td>1.649913e+12</td>\n",
       "      <td>-0.07</td>\n",
       "      <td>37.75</td>\n",
       "      <td>1799.0</td>\n",
       "      <td>31709.0</td>\n",
       "      <td>0.0</td>\n",
       "      <td>23:59:58.455436</td>\n",
       "    </tr>\n",
       "    <tr>\n",
       "      <th>146185</th>\n",
       "      <td>2022-09-02 23:59:58.995385</td>\n",
       "      <td>1.649913e+12</td>\n",
       "      <td>0.07</td>\n",
       "      <td>37.75</td>\n",
       "      <td>2037.0</td>\n",
       "      <td>31715.0</td>\n",
       "      <td>0.0</td>\n",
       "      <td>23:59:58.995385</td>\n",
       "    </tr>\n",
       "    <tr>\n",
       "      <th>146186</th>\n",
       "      <td>2022-09-02 23:59:59.395347</td>\n",
       "      <td>1.649913e+12</td>\n",
       "      <td>-0.06</td>\n",
       "      <td>37.75</td>\n",
       "      <td>1805.0</td>\n",
       "      <td>31710.0</td>\n",
       "      <td>0.0</td>\n",
       "      <td>23:59:59.395347</td>\n",
       "    </tr>\n",
       "    <tr>\n",
       "      <th>146187</th>\n",
       "      <td>2022-09-03 00:00:00.095274</td>\n",
       "      <td>1.649913e+12</td>\n",
       "      <td>0.05</td>\n",
       "      <td>37.75</td>\n",
       "      <td>1700.0</td>\n",
       "      <td>31703.0</td>\n",
       "      <td>0.0</td>\n",
       "      <td>00:00:00.095274</td>\n",
       "    </tr>\n",
       "  </tbody>\n",
       "</table>\n",
       "</div>"
      ],
      "text/plain": [
       "                              Time    epoch_time   xno  temperature  peakloc  \\\n",
       "146183  2022-09-02 23:59:58.042184  1.649913e+12  0.03        37.75   2093.0   \n",
       "146184  2022-09-02 23:59:58.455436  1.649913e+12 -0.07        37.75   1799.0   \n",
       "146185  2022-09-02 23:59:58.995385  1.649913e+12  0.07        37.75   2037.0   \n",
       "146186  2022-09-02 23:59:59.395347  1.649913e+12 -0.06        37.75   1805.0   \n",
       "146187  2022-09-03 00:00:00.095274  1.649913e+12  0.05        37.75   1700.0   \n",
       "\n",
       "         minmax  offset_flag            time2  \n",
       "146183  31714.0          0.0  23:59:58.042184  \n",
       "146184  31709.0          0.0  23:59:58.455436  \n",
       "146185  31715.0          0.0  23:59:58.995385  \n",
       "146186  31710.0          0.0  23:59:59.395347  \n",
       "146187  31703.0          0.0  00:00:00.095274  "
      ]
     },
     "execution_count": 5,
     "metadata": {},
     "output_type": "execute_result"
    }
   ],
   "source": [
    "df['time2'] = df['Time'].astype(str).str.split().str[1]\n",
    "# df['time2'] = df['Time'].dt.strftime('%H:%M:%S')\n",
    "df.tail(5)"
   ]
  },
  {
   "cell_type": "code",
   "execution_count": 6,
   "id": "underlying-pierce",
   "metadata": {
    "ExecuteTime": {
     "end_time": "2022-11-28T13:25:36.008232Z",
     "start_time": "2022-11-28T13:25:35.979278Z"
    }
   },
   "outputs": [
    {
     "data": {
      "text/html": [
       "<div>\n",
       "<style scoped>\n",
       "    .dataframe tbody tr th:only-of-type {\n",
       "        vertical-align: middle;\n",
       "    }\n",
       "\n",
       "    .dataframe tbody tr th {\n",
       "        vertical-align: top;\n",
       "    }\n",
       "\n",
       "    .dataframe thead th {\n",
       "        text-align: right;\n",
       "    }\n",
       "</style>\n",
       "<table border=\"1\" class=\"dataframe\">\n",
       "  <thead>\n",
       "    <tr style=\"text-align: right;\">\n",
       "      <th></th>\n",
       "      <th>Time</th>\n",
       "      <th>epoch_time</th>\n",
       "      <th>xno</th>\n",
       "      <th>temperature</th>\n",
       "      <th>peakloc</th>\n",
       "      <th>minmax</th>\n",
       "      <th>offset_flag</th>\n",
       "      <th>time2</th>\n",
       "      <th>NO2</th>\n",
       "    </tr>\n",
       "  </thead>\n",
       "  <tbody>\n",
       "    <tr>\n",
       "      <th>0</th>\n",
       "      <td>2022-09-02 00:00:00.806918</td>\n",
       "      <td>1.649829e+12</td>\n",
       "      <td>-0.01</td>\n",
       "      <td>44.44</td>\n",
       "      <td>1805.0</td>\n",
       "      <td>30655.0</td>\n",
       "      <td>0.0</td>\n",
       "      <td>00:00:00.806918</td>\n",
       "      <td>0.99</td>\n",
       "    </tr>\n",
       "    <tr>\n",
       "      <th>1</th>\n",
       "      <td>2022-09-02 00:00:01.205161</td>\n",
       "      <td>1.649829e+12</td>\n",
       "      <td>0.01</td>\n",
       "      <td>44.44</td>\n",
       "      <td>1805.0</td>\n",
       "      <td>30871.0</td>\n",
       "      <td>0.0</td>\n",
       "      <td>00:00:01.205161</td>\n",
       "      <td>1.01</td>\n",
       "    </tr>\n",
       "    <tr>\n",
       "      <th>2</th>\n",
       "      <td>2022-09-02 00:00:02.001646</td>\n",
       "      <td>1.649829e+12</td>\n",
       "      <td>-0.07</td>\n",
       "      <td>44.44</td>\n",
       "      <td>1805.0</td>\n",
       "      <td>30888.0</td>\n",
       "      <td>0.0</td>\n",
       "      <td>00:00:02.001646</td>\n",
       "      <td>0.93</td>\n",
       "    </tr>\n",
       "  </tbody>\n",
       "</table>\n",
       "</div>"
      ],
      "text/plain": [
       "                         Time    epoch_time   xno  temperature  peakloc  \\\n",
       "0  2022-09-02 00:00:00.806918  1.649829e+12 -0.01        44.44   1805.0   \n",
       "1  2022-09-02 00:00:01.205161  1.649829e+12  0.01        44.44   1805.0   \n",
       "2  2022-09-02 00:00:02.001646  1.649829e+12 -0.07        44.44   1805.0   \n",
       "\n",
       "    minmax  offset_flag            time2   NO2  \n",
       "0  30655.0          0.0  00:00:00.806918  0.99  \n",
       "1  30871.0          0.0  00:00:01.205161  1.01  \n",
       "2  30888.0          0.0  00:00:02.001646  0.93  "
      ]
     },
     "execution_count": 6,
     "metadata": {},
     "output_type": "execute_result"
    }
   ],
   "source": [
    "# adding delta value =1 to remove most negative values for wavelet analysis\n",
    "df[\"NO2\"] = df[\"xno\"]+1\n",
    "df.head(3)"
   ]
  },
  {
   "cell_type": "code",
   "execution_count": 7,
   "id": "innovative-transaction",
   "metadata": {
    "ExecuteTime": {
     "end_time": "2022-11-28T13:25:36.755150Z",
     "start_time": "2022-11-28T13:25:36.727226Z"
    }
   },
   "outputs": [
    {
     "data": {
      "text/html": [
       "<div>\n",
       "<style scoped>\n",
       "    .dataframe tbody tr th:only-of-type {\n",
       "        vertical-align: middle;\n",
       "    }\n",
       "\n",
       "    .dataframe tbody tr th {\n",
       "        vertical-align: top;\n",
       "    }\n",
       "\n",
       "    .dataframe thead th {\n",
       "        text-align: right;\n",
       "    }\n",
       "</style>\n",
       "<table border=\"1\" class=\"dataframe\">\n",
       "  <thead>\n",
       "    <tr style=\"text-align: right;\">\n",
       "      <th></th>\n",
       "      <th>time2</th>\n",
       "      <th>NO2</th>\n",
       "    </tr>\n",
       "  </thead>\n",
       "  <tbody>\n",
       "    <tr>\n",
       "      <th>0</th>\n",
       "      <td>00:00:00.806918</td>\n",
       "      <td>0.99</td>\n",
       "    </tr>\n",
       "    <tr>\n",
       "      <th>1</th>\n",
       "      <td>00:00:01.205161</td>\n",
       "      <td>1.01</td>\n",
       "    </tr>\n",
       "    <tr>\n",
       "      <th>2</th>\n",
       "      <td>00:00:02.001646</td>\n",
       "      <td>0.93</td>\n",
       "    </tr>\n",
       "  </tbody>\n",
       "</table>\n",
       "</div>"
      ],
      "text/plain": [
       "             time2   NO2\n",
       "0  00:00:00.806918  0.99\n",
       "1  00:00:01.205161  1.01\n",
       "2  00:00:02.001646  0.93"
      ]
     },
     "execution_count": 7,
     "metadata": {},
     "output_type": "execute_result"
    }
   ],
   "source": [
    "# Select NO2 time series for wavelet transform\n",
    "df2 = pd.DataFrame(df,\n",
    "                  columns=['time2', 'NO2'])\n",
    "df2.head(3)"
   ]
  },
  {
   "cell_type": "code",
   "execution_count": 8,
   "id": "average-parks",
   "metadata": {
    "ExecuteTime": {
     "end_time": "2022-11-28T13:25:37.469851Z",
     "start_time": "2022-11-28T13:25:37.444884Z"
    }
   },
   "outputs": [
    {
     "name": "stdout",
     "output_type": "stream",
     "text": [
      "           xno\n",
      "min  -0.110000\n",
      "max   8.160000\n",
      "mean  0.044343\n",
      "           NO2\n",
      "min   0.890000\n",
      "max   9.160000\n",
      "mean  1.044343\n"
     ]
    }
   ],
   "source": [
    "df_xno = df[['xno']].agg(['min','max', 'mean'])\n",
    "print (df_xno)\n",
    "\n",
    "df_NO2 = df2[['NO2']].agg(['min','max', 'mean'])\n",
    "print (df_NO2)"
   ]
  },
  {
   "cell_type": "code",
   "execution_count": 9,
   "id": "nasty-generic",
   "metadata": {
    "ExecuteTime": {
     "end_time": "2022-11-28T13:25:38.431625Z",
     "start_time": "2022-11-28T13:25:38.116724Z"
    }
   },
   "outputs": [
    {
     "data": {
      "image/png": "[encoded data removed]",
      "text/plain": [
       "<Figure size 360x144 with 1 Axes>"
      ]
     },
     "metadata": {
      "needs_background": "light"
     },
     "output_type": "display_data"
    }
   ],
   "source": [
    "# df2 = pd.DataFrame(df,\n",
    "#                   columns=['time2', 'IR BC1_ug'])\n",
    "# from brokenaxes import brokenaxes\n",
    "fig = plt.figure(figsize=(5, 2))\n",
    "x= df2['NO2']\n",
    "plt.hist(x, bins = 100)\n",
    "plt.gca().set(title='NO2 signal frequency Histogram', \n",
    "              xlabel= 'NO2 (ppb)', ylabel='Frequency'); "
   ]
  },
  {
   "cell_type": "code",
   "execution_count": 11,
   "id": "cooperative-spine",
   "metadata": {
    "ExecuteTime": {
     "end_time": "2022-11-28T13:25:39.693640Z",
     "start_time": "2022-11-28T13:25:39.677650Z"
    }
   },
   "outputs": [],
   "source": []
  },
  {
   "cell_type": "markdown",
   "id": "66b5b183",
   "metadata": {},
   "source": [
    "### Plot the signal to view magnitude of signal variations"
   ]
  },
  {
   "cell_type": "code",
   "execution_count": 13,
   "id": "tribal-fraud",
   "metadata": {
    "ExecuteTime": {
     "end_time": "2022-11-28T13:25:42.132932Z",
     "start_time": "2022-11-28T13:25:41.206811Z"
    }
   },
   "outputs": [
    {
     "data": {
      "image/png": "[encoded data removed]",
      "text/plain": [
       "<Figure size 720x432 with 1 Axes>"
      ]
     },
     "metadata": {
      "needs_background": "light"
     },
     "output_type": "display_data"
    }
   ],
   "source": [
    "## View NOx timeseries\n",
    "plt.rcParams[\"figure.figsize\"] = (10, 6)\n",
    "offset = -.03\n",
    "# df2 = pd.DataFrame(df,\n",
    "#                   columns=['Time', 'IR BC1_ug'])\n",
    "\n",
    "df2.plot(x='time2', y='NO2',color=\"blue\")\n",
    "plt.xticks(rotation = 45) # Rotates X-Axis Ticks by 45-degrees\n",
    "plt.ylabel('NO2 (ppb)')\n",
    "plt.xlabel('Time (hh:mm:ss)')\n",
    "plt.tight_layout()\n",
    "plt.title(\"NO2 (ppb)with PEMS instrument\", fontsize=14)\n",
    "plt.savefig('./Results2/NO2_initial_signal.png', dpi=300, \n",
    "           bbox_inches='tight')\n",
    "plt.show()"
   ]
  },
  {
   "cell_type": "markdown",
   "id": "focused-violation",
   "metadata": {},
   "source": [
    "### Slice  data for wavelet transformations"
   ]
  },
  {
   "cell_type": "code",
   "execution_count": 14,
   "id": "df18f203",
   "metadata": {
    "ExecuteTime": {
     "end_time": "2022-11-28T13:25:42.804431Z",
     "start_time": "2022-11-28T13:25:42.781493Z"
    }
   },
   "outputs": [
    {
     "name": "stdout",
     "output_type": "stream",
     "text": [
      "<class 'pandas.core.series.Series'>\n",
      "146188\n"
     ]
    },
    {
     "data": {
      "text/plain": [
       "0    00:00:00.806918\n",
       "1    00:00:01.205161\n",
       "2    00:00:02.001646\n",
       "Name: time2, dtype: object"
      ]
     },
     "execution_count": 14,
     "metadata": {},
     "output_type": "execute_result"
    }
   ],
   "source": [
    "# t = df2['time2'].astype('datetime64[s]')\n",
    "\n",
    "t = df2['time2']\n",
    "s = df2['NO2']\n",
    "print(type(t))\n",
    "print(len(t))\n",
    "t.head(3)\n"
   ]
  },
  {
   "cell_type": "markdown",
   "id": "360deb1d",
   "metadata": {},
   "source": [
    "## 4. Perform Multi-level Wavelet Decomposition"
   ]
  },
  {
   "cell_type": "markdown",
   "id": "3c523bfe",
   "metadata": {},
   "source": [
    "### (1) Maximum decomposition level"
   ]
  },
  {
   "cell_type": "code",
   "execution_count": 16,
   "id": "acffe31e",
   "metadata": {
    "ExecuteTime": {
     "end_time": "2022-11-28T13:25:46.500195Z",
     "start_time": "2022-11-28T13:25:46.481246Z"
    }
   },
   "outputs": [
    {
     "name": "stdout",
     "output_type": "stream",
     "text": [
      "13\n"
     ]
    }
   ],
   "source": [
    "w = pywt.Wavelet('db6')\n",
    "l = len(s)\n",
    "f_l = w.dec_len\n",
    "\n",
    "max_l = pywt.dwt_max_level(data_len=l, filter_len=f_l)\n",
    "\n",
    "print(max_l)"
   ]
  },
  {
   "cell_type": "markdown",
   "id": "d413a913",
   "metadata": {},
   "source": [
    "### (2) Wavelet decomposition"
   ]
  },
  {
   "cell_type": "code",
   "execution_count": 17,
   "id": "ba548525",
   "metadata": {
    "ExecuteTime": {
     "end_time": "2022-11-28T13:25:47.804065Z",
     "start_time": "2022-11-28T13:25:47.787110Z"
    }
   },
   "outputs": [],
   "source": [
    "coeffs = pywt.wavedec(s,'db6','sym',level=6)\n",
    "\n",
    "(cA6,cD6,cD5,cD4,cD3,cD2,cD1) = coeffs"
   ]
  },
  {
   "cell_type": "markdown",
   "id": "119bae9c",
   "metadata": {},
   "source": [
    "### (3) Print the approximation and detail coefficients"
   ]
  },
  {
   "cell_type": "code",
   "execution_count": 18,
   "id": "7112ef6f",
   "metadata": {
    "ExecuteTime": {
     "end_time": "2022-11-28T13:25:49.245246Z",
     "start_time": "2022-11-28T13:25:49.239262Z"
    }
   },
   "outputs": [
    {
     "name": "stdout",
     "output_type": "stream",
     "text": [
      "cA6 =  [7.99761754 8.00407187 8.00424379 ... 8.06747641 8.07447977 8.07980673]\n",
      "cD6 =  [-0.00386853  0.00320247 -0.01318375 ...  0.0925305   0.04823374\n",
      "  0.02538625]\n"
     ]
    }
   ],
   "source": [
    "print('cA6 = ',cA6)\n",
    "print('cD6 = ',cD6)"
   ]
  },
  {
   "cell_type": "markdown",
   "id": "42e0c815",
   "metadata": {},
   "source": [
    "### (3) length of the coefficients "
   ]
  },
  {
   "cell_type": "code",
   "execution_count": 19,
   "id": "a7a2db9d",
   "metadata": {
    "ExecuteTime": {
     "end_time": "2022-11-28T13:25:50.988800Z",
     "start_time": "2022-11-28T13:25:50.971845Z"
    }
   },
   "outputs": [
    {
     "name": "stdout",
     "output_type": "stream",
     "text": [
      "146188\n",
      "2295\n",
      "2295\n"
     ]
    }
   ],
   "source": [
    "print(len(s))\n",
    "print(len(cA6))\n",
    "print(len(cD6))"
   ]
  },
  {
   "cell_type": "markdown",
   "id": "840b8a05",
   "metadata": {},
   "source": [
    "## 5. Visualization of  Approximation and Details Coefficients"
   ]
  },
  {
   "cell_type": "code",
   "execution_count": 20,
   "id": "fceda0d6",
   "metadata": {
    "ExecuteTime": {
     "end_time": "2022-11-28T13:25:54.698074Z",
     "start_time": "2022-11-28T13:25:52.425506Z"
    }
   },
   "outputs": [
    {
     "data": {
      "image/png": "[encoded data removed]",
      "text/plain": [
       "<Figure size 1080x864 with 8 Axes>"
      ]
     },
     "metadata": {
      "needs_background": "light"
     },
     "output_type": "display_data"
    }
   ],
   "source": [
    "fig,axs = plt.subplots(4,2,figsize=(15,12))\n",
    "\n",
    "plt.rc('xtick',labelsize=12)\n",
    "plt.rc('ytick',labelsize=12)\n",
    "\n",
    "axs[0,0].plot(s)\n",
    "axs[0,0].set_ylabel('NO2 \\n(ppb)',fontsize=13)\n",
    "\n",
    "axs[0,1].plot(cA6)\n",
    "axs[0,1].set_ylabel('cA6',fontsize=13)\n",
    "\n",
    "axs[1,0].plot(cD6)\n",
    "axs[1,0].set_ylabel('cD6',fontsize=13)\n",
    "\n",
    "axs[1,1].plot(cD5)\n",
    "axs[1,1].set_ylabel('cD5',fontsize=13)\n",
    "\n",
    "axs[2,0].plot(cD4)\n",
    "axs[2,0].set_ylabel('cD4',fontsize=13)\n",
    "\n",
    "axs[2,1].plot(cD3)\n",
    "axs[2,1].set_ylabel('cD3',fontsize=13)\n",
    "\n",
    "axs[3,0].plot(cD2)\n",
    "axs[3,0].set_ylabel('cD2',fontsize=13)\n",
    "axs[3,0].set_xlabel('t (ms)',fontsize=13)\n",
    "\n",
    "axs[3,1].plot(cD1)\n",
    "axs[3,1].set_ylabel('cD1',fontsize=13)\n",
    "axs[3,1].set_xlabel('t (ms)',fontsize=13)\n",
    "\n",
    "plt.tight_layout()\n",
    "plt.savefig('./Results2/NO2_ppb_s_coeffs.png',dpi=300)\n",
    "\n",
    "plt.show()"
   ]
  },
  {
   "cell_type": "markdown",
   "id": "c854fdb3",
   "metadata": {},
   "source": [
    "## 6. Reconstruct the Signal"
   ]
  },
  {
   "cell_type": "code",
   "execution_count": 21,
   "id": "49ad9b19",
   "metadata": {
    "ExecuteTime": {
     "end_time": "2022-11-28T13:25:55.025796Z",
     "start_time": "2022-11-28T13:25:55.011812Z"
    }
   },
   "outputs": [
    {
     "data": {
      "text/plain": [
       "array([0.99, 1.01, 0.93, ..., 1.07, 0.94, 1.05])"
      ]
     },
     "execution_count": 21,
     "metadata": {},
     "output_type": "execute_result"
    }
   ],
   "source": [
    "s_r = pywt.waverec(coeffs,'db6','sym')\n",
    "s_r"
   ]
  },
  {
   "cell_type": "code",
   "execution_count": 22,
   "id": "alike-satellite",
   "metadata": {
    "ExecuteTime": {
     "end_time": "2022-11-28T13:25:55.353432Z",
     "start_time": "2022-11-28T13:25:55.340435Z"
    }
   },
   "outputs": [
    {
     "data": {
      "text/html": [
       "<div>\n",
       "<style scoped>\n",
       "    .dataframe tbody tr th:only-of-type {\n",
       "        vertical-align: middle;\n",
       "    }\n",
       "\n",
       "    .dataframe tbody tr th {\n",
       "        vertical-align: top;\n",
       "    }\n",
       "\n",
       "    .dataframe thead th {\n",
       "        text-align: right;\n",
       "    }\n",
       "</style>\n",
       "<table border=\"1\" class=\"dataframe\">\n",
       "  <thead>\n",
       "    <tr style=\"text-align: right;\">\n",
       "      <th></th>\n",
       "      <th>recon_s</th>\n",
       "    </tr>\n",
       "  </thead>\n",
       "  <tbody>\n",
       "    <tr>\n",
       "      <th>0</th>\n",
       "      <td>0.99</td>\n",
       "    </tr>\n",
       "    <tr>\n",
       "      <th>1</th>\n",
       "      <td>1.01</td>\n",
       "    </tr>\n",
       "    <tr>\n",
       "      <th>2</th>\n",
       "      <td>0.93</td>\n",
       "    </tr>\n",
       "    <tr>\n",
       "      <th>3</th>\n",
       "      <td>0.98</td>\n",
       "    </tr>\n",
       "    <tr>\n",
       "      <th>4</th>\n",
       "      <td>1.07</td>\n",
       "    </tr>\n",
       "    <tr>\n",
       "      <th>...</th>\n",
       "      <td>...</td>\n",
       "    </tr>\n",
       "    <tr>\n",
       "      <th>146183</th>\n",
       "      <td>1.03</td>\n",
       "    </tr>\n",
       "    <tr>\n",
       "      <th>146184</th>\n",
       "      <td>0.93</td>\n",
       "    </tr>\n",
       "    <tr>\n",
       "      <th>146185</th>\n",
       "      <td>1.07</td>\n",
       "    </tr>\n",
       "    <tr>\n",
       "      <th>146186</th>\n",
       "      <td>0.94</td>\n",
       "    </tr>\n",
       "    <tr>\n",
       "      <th>146187</th>\n",
       "      <td>1.05</td>\n",
       "    </tr>\n",
       "  </tbody>\n",
       "</table>\n",
       "<p>146188 rows × 1 columns</p>\n",
       "</div>"
      ],
      "text/plain": [
       "        recon_s\n",
       "0          0.99\n",
       "1          1.01\n",
       "2          0.93\n",
       "3          0.98\n",
       "4          1.07\n",
       "...         ...\n",
       "146183     1.03\n",
       "146184     0.93\n",
       "146185     1.07\n",
       "146186     0.94\n",
       "146187     1.05\n",
       "\n",
       "[146188 rows x 1 columns]"
      ]
     },
     "execution_count": 22,
     "metadata": {},
     "output_type": "execute_result"
    }
   ],
   "source": [
    "df3= pd.DataFrame(s_r,columns=['recon_s'] )\n",
    "# df3\n",
    "# df3.rename(columns={'0':'s_r'}, inplace=True)\n",
    "df3\n",
    "# combined_sig = pd.concat([df3, df2])\n",
    "# combined_sig"
   ]
  },
  {
   "cell_type": "code",
   "execution_count": 23,
   "id": "a27854d5",
   "metadata": {
    "ExecuteTime": {
     "end_time": "2022-11-28T13:25:55.679469Z",
     "start_time": "2022-11-28T13:25:55.665471Z"
    }
   },
   "outputs": [
    {
     "name": "stdout",
     "output_type": "stream",
     "text": [
      "146188\n",
      "146188\n"
     ]
    }
   ],
   "source": [
    "print(len(s))\n",
    "print(len(s_r))"
   ]
  },
  {
   "cell_type": "markdown",
   "id": "f095b302",
   "metadata": {},
   "source": [
    "### (3) Comparing reconstructed signal with the original one"
   ]
  },
  {
   "cell_type": "code",
   "execution_count": 26,
   "id": "7360e6f3",
   "metadata": {
    "ExecuteTime": {
     "end_time": "2022-11-28T13:26:02.580825Z",
     "start_time": "2022-11-28T13:26:02.338473Z"
    }
   },
   "outputs": [
    {
     "data": {
      "image/png": "[encoded data removed]",
      "text/plain": [
       "<Figure size 864x432 with 2 Axes>"
      ]
     },
     "metadata": {
      "needs_background": "light"
     },
     "output_type": "display_data"
    }
   ],
   "source": [
    "# plot\n",
    "fig,(ax1,ax2) = plt.subplots(2,1, sharex= True, figsize=(12,6))\n",
    "# Add x-axis and y-axis\n",
    "ax1.plot(df3.index.values,\n",
    "       df3['recon_s'],\n",
    "       color='green')\n",
    "ax2.plot(df.index.values,\n",
    "       df['xno'],\n",
    "       color='purple')\n",
    "ax2.set(\n",
    "    ylabel=\"NO2 (ppb)\",\n",
    "    title=\"NO2 origninal signal\")\n",
    "ax1.set(#xlabel = \"Time (ms)\",\n",
    "    ylabel=\" NO2 (ppb)\",\n",
    "    title=\" Reconstructed signal\")\n",
    "# ax.plot(t,s)\n",
    "# ax.plot(t,s_r)\n",
    "\n",
    "plt.show()"
   ]
  },
  {
   "cell_type": "markdown",
   "id": "7a3705a7",
   "metadata": {},
   "source": [
    "## 7. Reconstruct Approximations and Details "
   ]
  },
  {
   "cell_type": "markdown",
   "id": "30b75951",
   "metadata": {},
   "source": [
    "### (1) Create zero arrays"
   ]
  },
  {
   "cell_type": "code",
   "execution_count": 27,
   "id": "90882608",
   "metadata": {
    "ExecuteTime": {
     "end_time": "2022-11-28T13:26:05.276368Z",
     "start_time": "2022-11-28T13:26:05.255421Z"
    }
   },
   "outputs": [],
   "source": [
    "cA06 = np.zeros(len(cA6))\n",
    "cD06 = np.zeros(len(cD6))\n",
    "cD05 = np.zeros(len(cD5))\n",
    "cD04 = np.zeros(len(cD4))\n",
    "cD03 = np.zeros(len(cD3))\n",
    "cD02 = np.zeros(len(cD2))\n",
    "cD01 = np.zeros(len(cD1))"
   ]
  },
  {
   "cell_type": "code",
   "execution_count": 28,
   "id": "04bdbd4e",
   "metadata": {
    "ExecuteTime": {
     "end_time": "2022-11-28T13:26:06.056030Z",
     "start_time": "2022-11-28T13:26:06.045030Z"
    }
   },
   "outputs": [
    {
     "name": "stdout",
     "output_type": "stream",
     "text": [
      "[0. 0. 0. ... 0. 0. 0.]\n"
     ]
    }
   ],
   "source": [
    "print(cA06)"
   ]
  },
  {
   "cell_type": "markdown",
   "id": "a5ea6b04",
   "metadata": {},
   "source": [
    "### (2) Reconstruct Approximations and Details"
   ]
  },
  {
   "cell_type": "code",
   "execution_count": 29,
   "id": "770a5b76",
   "metadata": {
    "ExecuteTime": {
     "end_time": "2022-11-28T13:26:07.864382Z",
     "start_time": "2022-11-28T13:26:07.834464Z"
    }
   },
   "outputs": [],
   "source": [
    "A6 = pywt.waverec((cA6,cD06,cD05,cD04,cD03,cD02,cD01),'db6','sym')\n",
    "D6 = pywt.waverec((cA06,cD6,cD05,cD04,cD03,cD02,cD01),'db6','sym')\n",
    "D5 = pywt.waverec((cA06,cD06,cD5,cD04,cD03,cD02,cD01),'db6','sym')\n",
    "D4 = pywt.waverec((cA06,cD06,cD05,cD4,cD03,cD02,cD01),'db6','sym')\n",
    "D3 = pywt.waverec((cA06,cD06,cD05,cD04,cD3,cD02,cD01),'db6','sym')\n",
    "D2 = pywt.waverec((cA06,cD06,cD05,cD04,cD03,cD2,cD01),'db6','sym')\n",
    "D1 = pywt.waverec((cA06,cD06,cD05,cD04,cD03,cD02,cD1),'db6','sym')"
   ]
  },
  {
   "cell_type": "code",
   "execution_count": 30,
   "id": "90d2bdbd",
   "metadata": {
    "ExecuteTime": {
     "end_time": "2022-11-28T13:26:09.391896Z",
     "start_time": "2022-11-28T13:26:09.378931Z"
    }
   },
   "outputs": [
    {
     "name": "stdout",
     "output_type": "stream",
     "text": [
      "146188\n",
      "146188\n"
     ]
    }
   ],
   "source": [
    "# check the length\n",
    "\n",
    "print(len(s))\n",
    "print(len(A6))"
   ]
  },
  {
   "cell_type": "markdown",
   "id": "8b45bfb2",
   "metadata": {},
   "source": [
    "### (3) Approximations at other levels"
   ]
  },
  {
   "cell_type": "code",
   "execution_count": 32,
   "id": "6a028c4c",
   "metadata": {
    "ExecuteTime": {
     "end_time": "2022-11-28T13:26:12.180605Z",
     "start_time": "2022-11-28T13:26:12.156481Z"
    }
   },
   "outputs": [],
   "source": [
    "A5 = A6 + D6 \n",
    "A4 = A6 + D6 + D5\n",
    "A3 = A6 + D6 + D5 + D4\n",
    "A2 = A6 + D6 + D5 + D4 + D3\n",
    "A1 = A6 + D6 + D5 + D4 + D3 + D2"
   ]
  },
  {
   "cell_type": "markdown",
   "id": "6d8d6848",
   "metadata": {},
   "source": [
    "### (4) Reconstruct signal from approximation and details"
   ]
  },
  {
   "cell_type": "code",
   "execution_count": 33,
   "id": "1eebb8e6",
   "metadata": {
    "ExecuteTime": {
     "end_time": "2022-11-28T13:26:13.844853Z",
     "start_time": "2022-11-28T13:26:13.832850Z"
    }
   },
   "outputs": [],
   "source": [
    "s_r = A6 + D6 + D5 + D4 + D3 + D2 + D1"
   ]
  },
  {
   "cell_type": "code",
   "execution_count": 34,
   "id": "afraid-hearing",
   "metadata": {
    "ExecuteTime": {
     "end_time": "2022-11-28T13:26:16.585926Z",
     "start_time": "2022-11-28T13:26:16.565980Z"
    }
   },
   "outputs": [
    {
     "name": "stdout",
     "output_type": "stream",
     "text": [
      "146188\n",
      "      Approx_6\n",
      "min   0.865629\n",
      "max   1.622802\n",
      "mean  1.044345\n"
     ]
    }
   ],
   "source": [
    "app6= pd.DataFrame(A6,columns=['Approx_6'] )\n",
    "app6\n",
    "print(len(app6))\n",
    "df6_s = app6[['Approx_6']].agg(['min','max', 'mean'])\n",
    "print (df6_s)"
   ]
  },
  {
   "cell_type": "code",
   "execution_count": 35,
   "id": "worthy-dubai",
   "metadata": {
    "ExecuteTime": {
     "end_time": "2022-11-28T13:26:19.122569Z",
     "start_time": "2022-11-28T13:26:19.098598Z"
    }
   },
   "outputs": [
    {
     "name": "stdout",
     "output_type": "stream",
     "text": [
      "146188\n",
      "      Approx_3\n",
      "min   0.212242\n",
      "max   4.080792\n",
      "mean  1.044343\n"
     ]
    }
   ],
   "source": [
    "# Reconstructed signal from approximation\n",
    "app3= pd.DataFrame(A3,columns=['Approx_3'] )\n",
    "app3\n",
    "print(len(app3))\n",
    "arr3 = app3.to_numpy()\n",
    "arr3\n",
    "# arr3.dtype\n",
    "# app2= pd.DataFrame(A2,columns=['Approx_2'] )\n",
    "# app2\n",
    "df3_s = app3[['Approx_3']].agg(['min','max', 'mean'])\n",
    "print (df3_s)"
   ]
  },
  {
   "cell_type": "code",
   "execution_count": 37,
   "id": "southeast-cannon",
   "metadata": {
    "ExecuteTime": {
     "end_time": "2022-11-28T13:27:12.236783Z",
     "start_time": "2022-11-28T13:27:11.820360Z"
    }
   },
   "outputs": [
    {
     "data": {
      "text/html": [
       "<div>\n",
       "<style scoped>\n",
       "    .dataframe tbody tr th:only-of-type {\n",
       "        vertical-align: middle;\n",
       "    }\n",
       "\n",
       "    .dataframe tbody tr th {\n",
       "        vertical-align: top;\n",
       "    }\n",
       "\n",
       "    .dataframe thead th {\n",
       "        text-align: right;\n",
       "    }\n",
       "</style>\n",
       "<table border=\"1\" class=\"dataframe\">\n",
       "  <thead>\n",
       "    <tr style=\"text-align: right;\">\n",
       "      <th></th>\n",
       "      <th>Approx_6</th>\n",
       "      <th>time2</th>\n",
       "    </tr>\n",
       "  </thead>\n",
       "  <tbody>\n",
       "    <tr>\n",
       "      <th>146183</th>\n",
       "      <td>1.013650</td>\n",
       "      <td>23:59:58.042184</td>\n",
       "    </tr>\n",
       "    <tr>\n",
       "      <th>146184</th>\n",
       "      <td>1.013595</td>\n",
       "      <td>23:59:58.455436</td>\n",
       "    </tr>\n",
       "    <tr>\n",
       "      <th>146185</th>\n",
       "      <td>1.013520</td>\n",
       "      <td>23:59:58.995385</td>\n",
       "    </tr>\n",
       "    <tr>\n",
       "      <th>146186</th>\n",
       "      <td>1.013428</td>\n",
       "      <td>23:59:59.395347</td>\n",
       "    </tr>\n",
       "    <tr>\n",
       "      <th>146187</th>\n",
       "      <td>1.013322</td>\n",
       "      <td>00:00:00.095274</td>\n",
       "    </tr>\n",
       "  </tbody>\n",
       "</table>\n",
       "</div>"
      ],
      "text/plain": [
       "        Approx_6            time2\n",
       "146183  1.013650  23:59:58.042184\n",
       "146184  1.013595  23:59:58.455436\n",
       "146185  1.013520  23:59:58.995385\n",
       "146186  1.013428  23:59:59.395347\n",
       "146187  1.013322  00:00:00.095274"
      ]
     },
     "execution_count": 37,
     "metadata": {},
     "output_type": "execute_result"
    }
   ],
   "source": [
    "# app3= pd.DataFrame(A3,columns=['Approx_3'] )\n",
    "# app3\n",
    "# combined_df= [app6, t]\n",
    "recon_s6_t= pd.concat([app6, t], axis = 1)\n",
    "# recon_s_t['time'] = recon_s_t['time2'].astype('datetime64[s]')\n",
    "\n",
    "# app3.to_csv('./data/IR_BC1_ug_denoised_signal.csv',index=False)\n",
    "recon_s6_t.to_csv('./Results2/NO2_ppb_denoised_recon_s6_t.csv',)\n",
    "recon_s6_t.tail()\n",
    "# df_s = recon_s_t[['Approx_3']].agg(['min','max'])\n",
    "# print (df_s)"
   ]
  },
  {
   "cell_type": "code",
   "execution_count": 38,
   "id": "dominant-bermuda",
   "metadata": {
    "ExecuteTime": {
     "end_time": "2022-11-28T13:27:23.038788Z",
     "start_time": "2022-11-28T13:27:23.011854Z"
    }
   },
   "outputs": [
    {
     "name": "stdout",
     "output_type": "stream",
     "text": [
      "['00:00:00.806918' '00:00:01.205161' '00:00:02.001646' ...\n",
      " '23:59:58.995385' '23:59:59.395347' '00:00:00.095274']\n"
     ]
    },
    {
     "data": {
      "text/plain": [
       "array([0.98325514, 0.98617104, 0.9906958 , ..., 0.99744922, 1.00277251,\n",
       "       1.00848728])"
      ]
     },
     "execution_count": 38,
     "metadata": {},
     "output_type": "execute_result"
    }
   ],
   "source": [
    "s3= pd.concat([app3, t], axis = 1)\n",
    "#convert DF to array\n",
    "#peak_time2=s3[\"time2\"].astype('datetime64[s]') ## to remove ms\n",
    "peak_time2=s3[\"time2\"].values\n",
    "print(peak_time2)\n",
    "# peak_date=recon_s_t[\"time\"].values\n",
    "# print(peak_date)\n",
    "peak_sig2=s3[\"Approx_3\"].values\n",
    "peak_sig2"
   ]
  },
  {
   "cell_type": "code",
   "execution_count": 39,
   "id": "exterior-fusion",
   "metadata": {
    "ExecuteTime": {
     "end_time": "2022-11-28T13:27:23.763589Z",
     "start_time": "2022-11-28T13:27:23.751651Z"
    }
   },
   "outputs": [
    {
     "name": "stdout",
     "output_type": "stream",
     "text": [
      "      Approx_3\n",
      "min   0.212242\n",
      "max   4.080792\n",
      "mean  1.044343\n"
     ]
    }
   ],
   "source": [
    "df_s3 = s3[['Approx_3']].agg(['min','max', 'mean'])\n",
    "print (df_s3)"
   ]
  },
  {
   "cell_type": "code",
   "execution_count": 40,
   "id": "twelve-boulder",
   "metadata": {
    "ExecuteTime": {
     "end_time": "2022-11-28T13:27:25.007380Z",
     "start_time": "2022-11-28T13:27:24.989429Z"
    }
   },
   "outputs": [
    {
     "name": "stdout",
     "output_type": "stream",
     "text": [
      "8114\n",
      "   Approx_6            time2\n",
      "0  1.000414  00:00:00.806918\n",
      "1  1.001394  00:00:01.205161\n",
      "2  1.002434  00:00:02.001646\n"
     ]
    },
    {
     "data": {
      "text/html": [
       "<div>\n",
       "<style scoped>\n",
       "    .dataframe tbody tr th:only-of-type {\n",
       "        vertical-align: middle;\n",
       "    }\n",
       "\n",
       "    .dataframe tbody tr th {\n",
       "        vertical-align: top;\n",
       "    }\n",
       "\n",
       "    .dataframe thead th {\n",
       "        text-align: right;\n",
       "    }\n",
       "</style>\n",
       "<table border=\"1\" class=\"dataframe\">\n",
       "  <thead>\n",
       "    <tr style=\"text-align: right;\">\n",
       "      <th></th>\n",
       "      <th>Approx_6</th>\n",
       "      <th>time2</th>\n",
       "    </tr>\n",
       "  </thead>\n",
       "  <tbody>\n",
       "    <tr>\n",
       "      <th>8111</th>\n",
       "      <td>1.034656</td>\n",
       "      <td>01:07:44.832020</td>\n",
       "    </tr>\n",
       "    <tr>\n",
       "      <th>8112</th>\n",
       "      <td>1.034556</td>\n",
       "      <td>01:07:45.294453</td>\n",
       "    </tr>\n",
       "    <tr>\n",
       "      <th>8113</th>\n",
       "      <td>1.034464</td>\n",
       "      <td>01:07:45.740604</td>\n",
       "    </tr>\n",
       "  </tbody>\n",
       "</table>\n",
       "</div>"
      ],
      "text/plain": [
       "      Approx_6            time2\n",
       "8111  1.034656  01:07:44.832020\n",
       "8112  1.034556  01:07:45.294453\n",
       "8113  1.034464  01:07:45.740604"
      ]
     },
     "execution_count": 40,
     "metadata": {},
     "output_type": "execute_result"
    }
   ],
   "source": [
    "# take slice of data\n",
    "ss6= recon_s6_t[:8114]\n",
    "print(len(ss6))\n",
    "print(ss6.head(3))\n",
    "ss6.tail(3)"
   ]
  },
  {
   "cell_type": "code",
   "execution_count": 41,
   "id": "ready-clear",
   "metadata": {
    "ExecuteTime": {
     "end_time": "2022-11-28T13:27:26.051704Z",
     "start_time": "2022-11-28T13:27:26.031344Z"
    }
   },
   "outputs": [
    {
     "name": "stdout",
     "output_type": "stream",
     "text": [
      "['00:00:00.806918' '00:00:01.205161' '00:00:02.001646' ...\n",
      " '01:07:44.832020' '01:07:45.294453' '01:07:45.740604']\n"
     ]
    },
    {
     "data": {
      "text/plain": [
       "array([1.00041369, 1.00139379, 1.00243416, ..., 1.03465615, 1.03455576,\n",
       "       1.03446446])"
      ]
     },
     "execution_count": 41,
     "metadata": {},
     "output_type": "execute_result"
    }
   ],
   "source": [
    "#convert DF to array\n",
    "peak_date=ss6[\"time2\"].values\n",
    "print(peak_date)\n",
    "# peak_date=recon_s_t[\"time\"].values\n",
    "# print(peak_date)\n",
    "peak_ss6=ss6[\"Approx_6\"].values\n",
    "peak_ss6"
   ]
  },
  {
   "cell_type": "code",
   "execution_count": 43,
   "id": "engaging-upper",
   "metadata": {
    "ExecuteTime": {
     "end_time": "2022-11-28T13:29:10.997534Z",
     "start_time": "2022-11-28T13:29:10.984569Z"
    }
   },
   "outputs": [],
   "source": [
    "# df_s = recon_s_t[['Approx_3']].agg(['min','max', 'mean'])\n",
    "# print (df_s)"
   ]
  },
  {
   "cell_type": "code",
   "execution_count": null,
   "id": "loved-caution",
   "metadata": {
    "ExecuteTime": {
     "end_time": "2022-11-23T17:53:23.724187Z",
     "start_time": "2022-11-23T17:53:23.709091Z"
    }
   },
   "outputs": [],
   "source": [
    "#convert DF to array\n",
    "peak_date2=recon_s_t[\"time2\"].values\n",
    "print(peak_date2)\n",
    "# peak_date=recon_s_t[\"time\"].values\n",
    "# print(peak_date)\n",
    "peak_sig=recon_s_t[\"Approx_3\"].values\n",
    "peak_sig"
   ]
  },
  {
   "cell_type": "markdown",
   "id": "a67ed1c0",
   "metadata": {},
   "source": [
    "## 8. Visualization of Approximation and Details"
   ]
  },
  {
   "cell_type": "code",
   "execution_count": 44,
   "id": "dimensional-supply",
   "metadata": {
    "ExecuteTime": {
     "end_time": "2022-11-28T13:29:58.799435Z",
     "start_time": "2022-11-28T13:29:58.264091Z"
    }
   },
   "outputs": [
    {
     "data": {
      "image/png": "[encoded data removed]",
      "text/plain": [
       "<Figure size 864x432 with 3 Axes>"
      ]
     },
     "metadata": {
      "needs_background": "light"
     },
     "output_type": "display_data"
    }
   ],
   "source": [
    "fig, (ax1, ax2, ax3) = plt.subplots(3, 1, \n",
    "                    sharex=True, figsize=(12, 6))\n",
    "# Add x-axis and y-axis\n",
    "ax1.plot(df.index.values,\n",
    "         df['xno'],\n",
    "         color='purple')\n",
    "# ax2.plot(app2.index.values,\n",
    "#        app2['Approx_2'],\n",
    "#        color='orange')\n",
    "\n",
    "ax2.plot(app3.index.values,\n",
    "         app3['Approx_3'],\n",
    "         color='black')\n",
    "ax3.plot(app6.index.values,\n",
    "         app6['Approx_6'],\n",
    "         color='red')\n",
    "\n",
    "ax1.set(\n",
    "    ylabel=\" NO2 \\n (ppb)\",\n",
    "    title=\"NO2 signal analysis\")\n",
    "# ax2.set(ylabel=\" App. L2\")\n",
    "ax2.set(ylabel=\"App. L3\")\n",
    "ax3.set(ylabel=\"App. L6\")\n",
    "\n",
    "plt.tight_layout()\n",
    "plt.savefig('./Results2/NO2_denoised_signal_comparison.png')\n",
    "plt.show()"
   ]
  },
  {
   "cell_type": "markdown",
   "id": "dd09561e",
   "metadata": {},
   "source": [
    "### (1) Reconstruct the approximations"
   ]
  },
  {
   "cell_type": "code",
   "execution_count": 45,
   "id": "4c03684e",
   "metadata": {
    "ExecuteTime": {
     "end_time": "2022-11-28T13:30:06.413148Z",
     "start_time": "2022-11-28T13:30:06.403175Z"
    }
   },
   "outputs": [],
   "source": [
    "A5 = A6 + D6 \n",
    "A4 = A6 + D6 + D5\n",
    "A3 = A6 + D6 + D5 + D4\n",
    "A2 = A6 + D6 + D5 + D4 + D3\n",
    "A1 = A6 + D6 + D5 + D4 + D3 + D2"
   ]
  },
  {
   "cell_type": "markdown",
   "id": "ef409ce5",
   "metadata": {},
   "source": [
    "### (2) Check errors"
   ]
  },
  {
   "cell_type": "code",
   "execution_count": 46,
   "id": "2bc81469",
   "metadata": {
    "ExecuteTime": {
     "end_time": "2022-11-28T13:30:08.008477Z",
     "start_time": "2022-11-28T13:30:07.987534Z"
    }
   },
   "outputs": [
    {
     "name": "stdout",
     "output_type": "stream",
     "text": [
      "-1.951348514644703e-06\n"
     ]
    }
   ],
   "source": [
    "err = sum(s-A6)/len(s)\n",
    "print(err)"
   ]
  },
  {
   "cell_type": "markdown",
   "id": "f6f53db5",
   "metadata": {},
   "source": [
    "### (3) Peak Identification"
   ]
  },
  {
   "cell_type": "code",
   "execution_count": 51,
   "id": "pretty-crazy",
   "metadata": {
    "ExecuteTime": {
     "end_time": "2022-11-28T13:31:37.450756Z",
     "start_time": "2022-11-28T13:31:37.430779Z"
    }
   },
   "outputs": [
    {
     "name": "stdout",
     "output_type": "stream",
     "text": [
      "146188\n",
      "146188\n",
      "Approx_6    float64\n",
      "time2        object\n",
      "dtype: object\n"
     ]
    }
   ],
   "source": [
    "array_s6= recon_s6_t.to_numpy()\n",
    "array_s6\n",
    "print(len(array_s6))\n",
    "print(len(recon_s6_t))\n",
    "print(recon_s6_t.dtypes)"
   ]
  },
  {
   "cell_type": "code",
   "execution_count": null,
   "id": "arbitrary-petite",
   "metadata": {
    "ExecuteTime": {
     "end_time": "2022-10-31T16:12:07.722751Z",
     "start_time": "2022-10-31T16:12:06.537806Z"
    }
   },
   "outputs": [],
   "source": [
    "##use subset of data to show peak identification\n",
    "df2_rep= df2[2000:2600]\n",
    "# A5s1=A3[1000:3060]\n",
    "# A5s1.shape\n",
    "# x1_array = np.arange(1000,3060)\n",
    "# amp1 = 3000\n",
    "# sigma1 = 10\n",
    "# cen1 = 50\n",
    "#convert DF to array\n",
    "df2_date_rep=df2_rep[\"time2\"].values\n",
    "# print(peak_date_rep)\n",
    "# peak_date=recon_s_t[\"time\"].values\n",
    "# print(peak_date)\n",
    "NO2_rep=df2_rep[\"NO2\"].values\n",
    "NO2_rep\n",
    "y4_array=NO2_rep\n",
    "x4_array= df2_date_rep\n",
    "plt.plot(x4_array, y4_array)\n",
    "plt.xticks(rotation =60)\n",
    "plt.title(\"Original data\", fontsize= 14, color = 'black')\n",
    "plt.ylabel('NO2 (ppb)', fontsize= 13)\n",
    "plt.xlabel('Time (hh:mm:ss)', fontsize = 13)\n",
    "plt.gca().xaxis.set_major_locator(plt.MultipleLocator(30))\n",
    "plt.tight_layout()\n",
    "plt.savefig('./results/NO2_orig_subset_sig.png', dpi=300)\n",
    "plt.show()"
   ]
  },
  {
   "cell_type": "code",
   "execution_count": 52,
   "id": "latin-planning",
   "metadata": {
    "ExecuteTime": {
     "end_time": "2022-11-28T13:31:55.846607Z",
     "start_time": "2022-11-28T13:31:55.841588Z"
    }
   },
   "outputs": [],
   "source": [
    "#convert fulls signal at APP6 to array\n",
    "peak_date6=recon_s6_t[\"time2\"].values\n",
    "peak_s6=recon_s6_t[\"Approx_6\"].values\n",
    "peak_s6\n",
    "y6_array=peak_s6\n",
    "x6_array= peak_date6"
   ]
  },
  {
   "cell_type": "code",
   "execution_count": null,
   "id": "traditional-publicity",
   "metadata": {
    "ExecuteTime": {
     "end_time": "2022-11-28T13:57:24.550276Z",
     "start_time": "2022-11-28T13:34:16.982Z"
    }
   },
   "outputs": [],
   "source": [
    "# # blocked to save time used in plotting data\n",
    "# plt.plot(x6_array, y6_array)\n",
    "# plt.xticks(rotation =60)\n",
    "# plt.title(\"Denoised signal with wavelet transformation at app. L6\",\n",
    "#           fontsize= 15, color = 'black')\n",
    "# plt.ylabel('NO2 (ppb)', fontsize= 13)\n",
    "# plt.xlabel('Time (hh:mm:ss)', fontsize = 13)\n",
    "# plt.gca().xaxis.set_major_locator(plt.MultipleLocator(500))\n",
    "# plt.tight_layout()\n",
    "# plt.savefig('./Results/NO2_denoised_A6_sig.png', dpi=300)\n",
    "# plt.show()"
   ]
  },
  {
   "cell_type": "code",
   "execution_count": null,
   "id": "accurate-insertion",
   "metadata": {},
   "outputs": [],
   "source": []
  },
  {
   "cell_type": "code",
   "execution_count": null,
   "id": "suited-pollution",
   "metadata": {
    "ExecuteTime": {
     "end_time": "2022-11-23T18:51:43.114952Z",
     "start_time": "2022-11-23T18:51:42.732279Z"
    }
   },
   "outputs": [],
   "source": [
    "#smaller subset for peak identification algorithm\n",
    "peaks, properties = find_peaks(y6_array, prominence=2, width=20)\n",
    "sig_peaks, _ = signal.find_peaks(y6_array)\n",
    "promin = signal.peak_prominences(y6_array, sig_peaks)[0]\n",
    "print(len(promin))\n",
    "# promin\n",
    "plt.plot(promin)"
   ]
  },
  {
   "cell_type": "code",
   "execution_count": null,
   "id": "convenient-valuable",
   "metadata": {
    "ExecuteTime": {
     "end_time": "2022-11-23T19:41:16.106393Z",
     "start_time": "2022-11-23T19:40:51.868461Z"
    }
   },
   "outputs": [],
   "source": [
    "half_peak_res = signal.peak_widths(y6_array, sig_peaks, rel_height = 0.5)\n",
    "full_peak_res = signal.peak_widths(y6_array, sig_peaks, rel_height = 1)\n",
    "\n",
    "\n",
    "plt.plot(x6_array, y6_array)\n",
    "plt.plot(sig_peaks, y6_array[sig_peaks], \"*\", color = 'red')\n",
    "contur_height = y6_array[sig_peaks] - promin\n",
    "# plt.plot(y_array)\n",
    "# plt.plot(sig_peaks, y_array[sig_peaks], \"*\")\n",
    "plt.vlines(x=sig_peaks, ymin=contur_height, ymax=y6_array[sig_peaks], \n",
    "           color ='black', linestyle='dotted')\n",
    "plt.hlines(*half_peak_res[1:], color = 'C12')\n",
    "plt.hlines(*full_peak_res[1:], color = 'C3')\n",
    "plt.gca().xaxis.set_major_locator(plt.MultipleLocator(800))\n",
    "plt.xticks(rotation =60)\n",
    "plt.ylabel('NO2 (ppb)', fontsize= 13)\n",
    "plt.xlabel('Time (hh:mm:ss)', fontsize = 13)\n",
    "plt.tight_layout()\n",
    "#small subset for report\n",
    "plt.savefig('./results2/NO2_peak_area_s6_report2.png', dpi=300)\n",
    "plt.show()"
   ]
  },
  {
   "cell_type": "code",
   "execution_count": null,
   "id": "competitive-respect",
   "metadata": {
    "ExecuteTime": {
     "end_time": "2022-11-23T19:43:17.496133Z",
     "start_time": "2022-11-23T19:43:17.488121Z"
    }
   },
   "outputs": [],
   "source": [
    "print(len(x6_array))"
   ]
  },
  {
   "cell_type": "code",
   "execution_count": null,
   "id": "shaped-jacksonville",
   "metadata": {
    "ExecuteTime": {
     "end_time": "2022-11-23T18:52:43.561465Z",
     "start_time": "2022-11-23T18:52:43.440250Z"
    }
   },
   "outputs": [],
   "source": [
    "# print('Half width of peaks:', half_peak_res[0])\n",
    "HWpeak = np.asarray(half_peak_res)\n",
    "HWpeak_NO2 = pd.DataFrame(HWpeak)\n",
    "# print(HWpeak_BC.head(3))\n",
    "HWpeak_NO2.to_csv('./Results2/full_NO2_HWpeak.csv')\n",
    "\n",
    "# print('Full width of peaks:', full_peak_res[0])\n",
    "FWpeak = np.asarray(full_peak_res)\n",
    "FWpeak_NO2 = pd.DataFrame(FWpeak)\n",
    "FWpeak_NO2.to_csv('./Results2/full_NO2_FWpeak.csv')\n",
    "print('Height of peaks:',contur_height)\n",
    "contur_height_NO2 = pd.DataFrame(contur_height)\n",
    "contur_height_NO2.to_csv('./Results2/full_NO2_peak_height.csv')\n",
    "# contur_height.to_csv('./results/BC_peaklength.csv')\n",
    "print(len(contur_height))\n",
    "print(len(half_peak_res[0]))\n",
    "print(type(half_peak_res))\n",
    "print(type(full_peak_res))\n",
    "print(type(HWpeak))\n",
    "print(type(FWpeak))\n",
    "print(type(contur_height))"
   ]
  },
  {
   "cell_type": "code",
   "execution_count": null,
   "id": "temporal-purpose",
   "metadata": {},
   "outputs": [],
   "source": []
  },
  {
   "cell_type": "code",
   "execution_count": null,
   "id": "manufactured-committee",
   "metadata": {},
   "outputs": [],
   "source": []
  }
 ],
 "metadata": {
  "kernelspec": {
   "display_name": "Python 3",
   "language": "python",
   "name": "python3"
  },
  "language_info": {
   "codemirror_mode": {
    "name": "ipython",
    "version": 3
   },
   "file_extension": ".py",
   "mimetype": "text/x-python",
   "name": "python",
   "nbconvert_exporter": "python",
   "pygments_lexer": "ipython3",
   "version": "3.7.9"
  },
  "toc": {
   "base_numbering": 1,
   "nav_menu": {},
   "number_sections": true,
   "sideBar": true,
   "skip_h1_title": false,
   "title_cell": "Table of Contents",
   "title_sidebar": "Contents",
   "toc_cell": false,
   "toc_position": {
    "height": "calc(100% - 180px)",
    "left": "10px",
    "top": "150px",
    "width": "165px"
   },
   "toc_section_display": true,
   "toc_window_display": false
  },
  "varInspector": {
   "cols": {
    "lenName": 16,
    "lenType": 16,
    "lenVar": 40
   },
   "kernels_config": {
    "python": {
     "delete_cmd_postfix": "",
     "delete_cmd_prefix": "del ",
     "library": "var_list.py",
     "varRefreshCmd": "print(var_dic_list())"
    },
    "r": {
     "delete_cmd_postfix": ") ",
     "delete_cmd_prefix": "rm(",
     "library": "var_list.r",
     "varRefreshCmd": "cat(var_dic_list()) "
    }
   },
   "types_to_exclude": [
    "module",
    "function",
    "builtin_function_or_method",
    "instance",
    "_Feature"
   ],
   "window_display": false
  }
 },
 "nbformat": 4,
 "nbformat_minor": 5
}
