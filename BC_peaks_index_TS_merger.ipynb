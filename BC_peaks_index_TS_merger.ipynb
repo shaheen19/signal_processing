{
 "cells": [
  {
   "cell_type": "code",
   "execution_count": 1,
   "id": "front-daughter",
   "metadata": {
    "ExecuteTime": {
     "end_time": "2022-11-28T12:04:40.132069Z",
     "start_time": "2022-11-28T12:04:38.446035Z"
    }
   },
   "outputs": [
    {
     "data": {
      "text/plain": [
       "'C:\\\\Users\\\\bina_\\\\Dropbox\\\\Robina Shaheen_PEMS2022\\\\PEMS_NOx_BC_CO2_ALPR\\\\ii.dwt'"
      ]
     },
     "execution_count": 1,
     "metadata": {},
     "output_type": "execute_result"
    }
   ],
   "source": [
    "%matplotlib inline\n",
    "import os\n",
    "import glob\n",
    "import csv\n",
    "import re\n",
    "import numpy as np\n",
    "import pandas as pd\n",
    "from scipy import signal\n",
    "import matplotlib.pyplot as plt\n",
    "import pywt\n",
    "import matplotlib.dates as mdates\n",
    "from matplotlib.dates import DateFormatter\n",
    "from mpl_toolkits.mplot3d import Axes3D \n",
    "from scipy import signal\n",
    "from scipy.signal import find_peaks\n",
    "from scipy import optimize\n",
    "from scipy.stats import linregress, stats\n",
    "import seaborn as sns\n",
    "\n",
    "import datetime as dt\n",
    "from textwrap import wrap\n",
    "\n",
    "\n",
    "# Handle date time conversions between pandas and matplotlib\n",
    "from pandas.plotting import register_matplotlib_converters\n",
    "register_matplotlib_converters()\n",
    "os.getcwd()"
   ]
  },
  {
   "cell_type": "code",
   "execution_count": 8,
   "id": "devoted-grenada",
   "metadata": {
    "ExecuteTime": {
     "end_time": "2022-11-28T12:11:27.130952Z",
     "start_time": "2022-11-28T12:11:27.052138Z"
    }
   },
   "outputs": [
    {
     "name": "stdout",
     "output_type": "stream",
     "text": [
      "index        int64\n",
      "BC_conc    float64\n",
      "time2       object\n",
      "dtype: object\n",
      "        BC_HW    BC_p_h  BC (ug/m3)        BC_EF       BC_t1 BC_actual_TS\n",
      "0   15.303044  1.332635   20.393379   210.459674   90.388004      0:03:19\n",
      "1  115.619496  1.672673  193.393660  1995.822575  220.139496      0:05:25\n",
      "2   61.047133  1.547732   94.484616   975.081242  416.517110      0:08:40\n",
      "3    4.549916  1.548507    7.045576    72.710343  554.026663      0:10:55\n",
      "4    1.058464  1.548357    1.638881    16.913250  563.722695      0:11:04\n",
      "   index   BC_conc    time2\n",
      "0      0  2.315691  0:00:02\n",
      "1      1  2.305682  0:00:03\n",
      "2      2  2.295022  0:00:04\n",
      "3      3  2.283770  0:00:05\n",
      "4      4  2.271940  0:00:06\n"
     ]
    }
   ],
   "source": [
    "df1 = pd.read_csv('./Results2/BC_peakarea_ts_index_merge.csv')\n",
    "df2 = pd.read_csv('./Results2/IR_BC1_ug_denoised_s6_ts_index.csv')\n",
    "\n",
    "# df2.drop(['unnamed'], axis=1)\n",
    "# del df2[df2.columns[0]]\n",
    "df1.drop(df1.columns[[0, 7]], axis=1, inplace=True)\n",
    "\n",
    "# print(len(df1))\n",
    "# print(len(df2))\n",
    "print(df2.dtypes)\n",
    "print(df1.head())\n",
    "print(df2.head())"
   ]
  },
  {
   "cell_type": "code",
   "execution_count": 10,
   "id": "silver-royal",
   "metadata": {
    "ExecuteTime": {
     "end_time": "2022-11-28T12:12:09.523442Z",
     "start_time": "2022-11-28T12:12:09.519462Z"
    }
   },
   "outputs": [
    {
     "name": "stdout",
     "output_type": "stream",
     "text": [
      "556\n",
      "71476\n"
     ]
    }
   ],
   "source": [
    "print(len(df1))\n",
    "print(len(df2))"
   ]
  },
  {
   "cell_type": "code",
   "execution_count": 9,
   "id": "exterior-andrews",
   "metadata": {
    "ExecuteTime": {
     "end_time": "2022-11-28T12:11:34.969736Z",
     "start_time": "2022-11-28T12:11:34.958763Z"
    }
   },
   "outputs": [
    {
     "name": "stdout",
     "output_type": "stream",
     "text": [
      "t1_indexed      int64\n",
      "BC_conc       float64\n",
      "time2          object\n",
      "dtype: object\n"
     ]
    }
   ],
   "source": [
    "df1.rename(columns={'BC_t1':'t1_indexed'}, inplace=True)\n",
    "df2.rename(columns={'index':'t1_indexed'}, inplace=True)\n",
    "df2.columns\n",
    "print(df2.dtypes)"
   ]
  },
  {
   "cell_type": "code",
   "execution_count": 12,
   "id": "informational-kitty",
   "metadata": {
    "ExecuteTime": {
     "end_time": "2022-11-28T12:13:02.137635Z",
     "start_time": "2022-11-28T12:13:02.124677Z"
    }
   },
   "outputs": [
    {
     "data": {
      "text/html": [
       "<div>\n",
       "<style scoped>\n",
       "    .dataframe tbody tr th:only-of-type {\n",
       "        vertical-align: middle;\n",
       "    }\n",
       "\n",
       "    .dataframe tbody tr th {\n",
       "        vertical-align: top;\n",
       "    }\n",
       "\n",
       "    .dataframe thead th {\n",
       "        text-align: right;\n",
       "    }\n",
       "</style>\n",
       "<table border=\"1\" class=\"dataframe\">\n",
       "  <thead>\n",
       "    <tr style=\"text-align: right;\">\n",
       "      <th></th>\n",
       "      <th>t1_indexed</th>\n",
       "      <th>BC_conc</th>\n",
       "      <th>time2</th>\n",
       "    </tr>\n",
       "  </thead>\n",
       "  <tbody>\n",
       "    <tr>\n",
       "      <th>0</th>\n",
       "      <td>0</td>\n",
       "      <td>2.315691</td>\n",
       "      <td>0:00:02</td>\n",
       "    </tr>\n",
       "    <tr>\n",
       "      <th>1</th>\n",
       "      <td>1</td>\n",
       "      <td>2.305682</td>\n",
       "      <td>0:00:03</td>\n",
       "    </tr>\n",
       "    <tr>\n",
       "      <th>2</th>\n",
       "      <td>2</td>\n",
       "      <td>2.295022</td>\n",
       "      <td>0:00:04</td>\n",
       "    </tr>\n",
       "    <tr>\n",
       "      <th>3</th>\n",
       "      <td>3</td>\n",
       "      <td>2.283770</td>\n",
       "      <td>0:00:05</td>\n",
       "    </tr>\n",
       "    <tr>\n",
       "      <th>4</th>\n",
       "      <td>4</td>\n",
       "      <td>2.271940</td>\n",
       "      <td>0:00:06</td>\n",
       "    </tr>\n",
       "  </tbody>\n",
       "</table>\n",
       "</div>"
      ],
      "text/plain": [
       "   t1_indexed   BC_conc    time2\n",
       "0           0  2.315691  0:00:02\n",
       "1           1  2.305682  0:00:03\n",
       "2           2  2.295022  0:00:04\n",
       "3           3  2.283770  0:00:05\n",
       "4           4  2.271940  0:00:06"
      ]
     },
     "execution_count": 12,
     "metadata": {},
     "output_type": "execute_result"
    }
   ],
   "source": [
    "df2.head()"
   ]
  },
  {
   "cell_type": "code",
   "execution_count": 13,
   "id": "photographic-meditation",
   "metadata": {
    "ExecuteTime": {
     "end_time": "2022-11-28T12:13:07.844591Z",
     "start_time": "2022-11-28T12:13:07.823634Z"
    }
   },
   "outputs": [
    {
     "data": {
      "text/html": [
       "<div>\n",
       "<style scoped>\n",
       "    .dataframe tbody tr th:only-of-type {\n",
       "        vertical-align: middle;\n",
       "    }\n",
       "\n",
       "    .dataframe tbody tr th {\n",
       "        vertical-align: top;\n",
       "    }\n",
       "\n",
       "    .dataframe thead th {\n",
       "        text-align: right;\n",
       "    }\n",
       "</style>\n",
       "<table border=\"1\" class=\"dataframe\">\n",
       "  <thead>\n",
       "    <tr style=\"text-align: right;\">\n",
       "      <th></th>\n",
       "      <th>BC_HW</th>\n",
       "      <th>BC_p_h</th>\n",
       "      <th>BC (ug/m3)</th>\n",
       "      <th>BC_EF</th>\n",
       "      <th>t1_indexed</th>\n",
       "      <th>BC_actual_TS</th>\n",
       "    </tr>\n",
       "  </thead>\n",
       "  <tbody>\n",
       "    <tr>\n",
       "      <th>0</th>\n",
       "      <td>15.303044</td>\n",
       "      <td>1.332635</td>\n",
       "      <td>20.393379</td>\n",
       "      <td>210.459674</td>\n",
       "      <td>90.388004</td>\n",
       "      <td>0:03:19</td>\n",
       "    </tr>\n",
       "    <tr>\n",
       "      <th>1</th>\n",
       "      <td>115.619496</td>\n",
       "      <td>1.672673</td>\n",
       "      <td>193.393660</td>\n",
       "      <td>1995.822575</td>\n",
       "      <td>220.139496</td>\n",
       "      <td>0:05:25</td>\n",
       "    </tr>\n",
       "    <tr>\n",
       "      <th>2</th>\n",
       "      <td>61.047133</td>\n",
       "      <td>1.547732</td>\n",
       "      <td>94.484616</td>\n",
       "      <td>975.081242</td>\n",
       "      <td>416.517110</td>\n",
       "      <td>0:08:40</td>\n",
       "    </tr>\n",
       "    <tr>\n",
       "      <th>3</th>\n",
       "      <td>4.549916</td>\n",
       "      <td>1.548507</td>\n",
       "      <td>7.045576</td>\n",
       "      <td>72.710343</td>\n",
       "      <td>554.026663</td>\n",
       "      <td>0:10:55</td>\n",
       "    </tr>\n",
       "    <tr>\n",
       "      <th>4</th>\n",
       "      <td>1.058464</td>\n",
       "      <td>1.548357</td>\n",
       "      <td>1.638881</td>\n",
       "      <td>16.913250</td>\n",
       "      <td>563.722695</td>\n",
       "      <td>0:11:04</td>\n",
       "    </tr>\n",
       "  </tbody>\n",
       "</table>\n",
       "</div>"
      ],
      "text/plain": [
       "        BC_HW    BC_p_h  BC (ug/m3)        BC_EF  t1_indexed BC_actual_TS\n",
       "0   15.303044  1.332635   20.393379   210.459674   90.388004      0:03:19\n",
       "1  115.619496  1.672673  193.393660  1995.822575  220.139496      0:05:25\n",
       "2   61.047133  1.547732   94.484616   975.081242  416.517110      0:08:40\n",
       "3    4.549916  1.548507    7.045576    72.710343  554.026663      0:10:55\n",
       "4    1.058464  1.548357    1.638881    16.913250  563.722695      0:11:04"
      ]
     },
     "execution_count": 13,
     "metadata": {},
     "output_type": "execute_result"
    }
   ],
   "source": [
    "df1.head()"
   ]
  },
  {
   "cell_type": "code",
   "execution_count": 11,
   "id": "sapphire-sigma",
   "metadata": {
    "ExecuteTime": {
     "end_time": "2022-11-28T12:12:40.147818Z",
     "start_time": "2022-11-28T12:12:40.138178Z"
    }
   },
   "outputs": [
    {
     "name": "stdout",
     "output_type": "stream",
     "text": [
      "t1_indexed      int64\n",
      "BC_conc       float64\n",
      "time2          object\n",
      "dtype: object\n",
      "BC_HW           float64\n",
      "BC_p_h          float64\n",
      "BC (ug/m3)      float64\n",
      "BC_EF           float64\n",
      "t1_indexed      float64\n",
      "BC_actual_TS     object\n",
      "dtype: object\n"
     ]
    }
   ],
   "source": [
    "print(df2.dtypes)\n",
    "print(df1.dtypes)"
   ]
  },
  {
   "cell_type": "code",
   "execution_count": 14,
   "id": "quarterly-cedar",
   "metadata": {
    "ExecuteTime": {
     "end_time": "2022-11-28T12:13:25.963270Z",
     "start_time": "2022-11-28T12:13:25.943324Z"
    }
   },
   "outputs": [
    {
     "data": {
      "text/plain": [
       "t1_indexed    float64\n",
       "BC_conc       float64\n",
       "time2          object\n",
       "dtype: object"
      ]
     },
     "execution_count": 14,
     "metadata": {},
     "output_type": "execute_result"
    }
   ],
   "source": [
    "df2['t1_indexed'] = df2['t1_indexed'].astype(float)\n",
    "df2.dtypes"
   ]
  },
  {
   "cell_type": "code",
   "execution_count": 15,
   "id": "curious-latter",
   "metadata": {
    "ExecuteTime": {
     "end_time": "2022-11-28T12:13:44.732172Z",
     "start_time": "2022-11-28T12:13:44.714226Z"
    }
   },
   "outputs": [],
   "source": [
    "df1.sort_values(by='t1_indexed', inplace=True)\n",
    "df2.sort_values(by='t1_indexed', inplace=True)"
   ]
  },
  {
   "cell_type": "code",
   "execution_count": 17,
   "id": "narrow-bahrain",
   "metadata": {
    "ExecuteTime": {
     "end_time": "2022-11-28T12:14:21.343292Z",
     "start_time": "2022-11-28T12:14:21.320836Z"
    }
   },
   "outputs": [
    {
     "name": "stdout",
     "output_type": "stream",
     "text": [
      "556\n"
     ]
    },
    {
     "data": {
      "text/html": [
       "<div>\n",
       "<style scoped>\n",
       "    .dataframe tbody tr th:only-of-type {\n",
       "        vertical-align: middle;\n",
       "    }\n",
       "\n",
       "    .dataframe tbody tr th {\n",
       "        vertical-align: top;\n",
       "    }\n",
       "\n",
       "    .dataframe thead th {\n",
       "        text-align: right;\n",
       "    }\n",
       "</style>\n",
       "<table border=\"1\" class=\"dataframe\">\n",
       "  <thead>\n",
       "    <tr style=\"text-align: right;\">\n",
       "      <th></th>\n",
       "      <th>BC_HW</th>\n",
       "      <th>BC_p_h</th>\n",
       "      <th>BC (ug/m3)</th>\n",
       "      <th>BC_EF</th>\n",
       "      <th>t1_indexed</th>\n",
       "      <th>BC_actual_TS</th>\n",
       "      <th>BC_conc</th>\n",
       "      <th>time2</th>\n",
       "    </tr>\n",
       "  </thead>\n",
       "  <tbody>\n",
       "    <tr>\n",
       "      <th>0</th>\n",
       "      <td>15.303044</td>\n",
       "      <td>1.332635</td>\n",
       "      <td>20.393379</td>\n",
       "      <td>210.459674</td>\n",
       "      <td>90.388004</td>\n",
       "      <td>0:03:19</td>\n",
       "      <td>1.332153</td>\n",
       "      <td>0:03:19</td>\n",
       "    </tr>\n",
       "    <tr>\n",
       "      <th>1</th>\n",
       "      <td>115.619496</td>\n",
       "      <td>1.672673</td>\n",
       "      <td>193.393660</td>\n",
       "      <td>1995.822575</td>\n",
       "      <td>220.139496</td>\n",
       "      <td>0:05:25</td>\n",
       "      <td>1.670150</td>\n",
       "      <td>0:05:25</td>\n",
       "    </tr>\n",
       "    <tr>\n",
       "      <th>2</th>\n",
       "      <td>61.047133</td>\n",
       "      <td>1.547732</td>\n",
       "      <td>94.484616</td>\n",
       "      <td>975.081242</td>\n",
       "      <td>416.517110</td>\n",
       "      <td>0:08:40</td>\n",
       "      <td>1.558304</td>\n",
       "      <td>0:08:41</td>\n",
       "    </tr>\n",
       "    <tr>\n",
       "      <th>3</th>\n",
       "      <td>109.902133</td>\n",
       "      <td>1.452213</td>\n",
       "      <td>159.601288</td>\n",
       "      <td>1647.085296</td>\n",
       "      <td>537.032475</td>\n",
       "      <td>0:10:38</td>\n",
       "      <td>1.451950</td>\n",
       "      <td>0:10:38</td>\n",
       "    </tr>\n",
       "    <tr>\n",
       "      <th>4</th>\n",
       "      <td>4.549916</td>\n",
       "      <td>1.548507</td>\n",
       "      <td>7.045576</td>\n",
       "      <td>72.710343</td>\n",
       "      <td>554.026663</td>\n",
       "      <td>0:10:55</td>\n",
       "      <td>1.548495</td>\n",
       "      <td>0:10:55</td>\n",
       "    </tr>\n",
       "  </tbody>\n",
       "</table>\n",
       "</div>"
      ],
      "text/plain": [
       "        BC_HW    BC_p_h  BC (ug/m3)        BC_EF  t1_indexed BC_actual_TS  \\\n",
       "0   15.303044  1.332635   20.393379   210.459674   90.388004      0:03:19   \n",
       "1  115.619496  1.672673  193.393660  1995.822575  220.139496      0:05:25   \n",
       "2   61.047133  1.547732   94.484616   975.081242  416.517110      0:08:40   \n",
       "3  109.902133  1.452213  159.601288  1647.085296  537.032475      0:10:38   \n",
       "4    4.549916  1.548507    7.045576    72.710343  554.026663      0:10:55   \n",
       "\n",
       "    BC_conc    time2  \n",
       "0  1.332153  0:03:19  \n",
       "1  1.670150  0:05:25  \n",
       "2  1.558304  0:08:41  \n",
       "3  1.451950  0:10:38  \n",
       "4  1.548495  0:10:55  "
      ]
     },
     "execution_count": 17,
     "metadata": {},
     "output_type": "execute_result"
    }
   ],
   "source": [
    "df3= pd.merge_asof(\n",
    "    df1, df2, on=\"t1_indexed\",direction=\"nearest\",  \n",
    "        allow_exact_matches=False)\n",
    "print(len(df3))\n",
    "df3.head()"
   ]
  },
  {
   "cell_type": "code",
   "execution_count": 18,
   "id": "royal-reviewer",
   "metadata": {
    "ExecuteTime": {
     "end_time": "2022-11-28T12:14:50.507515Z",
     "start_time": "2022-11-28T12:14:50.488565Z"
    }
   },
   "outputs": [],
   "source": [
    "df3.to_csv('./Results2/merged_BC_TS_index.csv')"
   ]
  },
  {
   "cell_type": "code",
   "execution_count": 27,
   "id": "illegal-scroll",
   "metadata": {
    "ExecuteTime": {
     "end_time": "2022-11-28T13:13:54.485665Z",
     "start_time": "2022-11-28T13:13:54.440785Z"
    }
   },
   "outputs": [
    {
     "name": "stdout",
     "output_type": "stream",
     "text": [
      "486\n",
      "556\n",
      "       HW_CO2  peak_height  t1_indexed          Tf      Area_CO2  \\\n",
      "0  126.247273   368.902634  230.964721  357.211993  46572.951467   \n",
      "1   38.526629   367.884608  406.558750  445.085379  14173.353748   \n",
      "2  113.538243   367.910378  541.237969  654.776212  41771.897940   \n",
      "3   69.130348   376.305601  798.237072  867.367420  26014.137202   \n",
      "4   11.339629   373.332662  928.733648  940.073276   4233.453754   \n",
      "\n",
      "    CO2 (ug/m3)         CO2 EF  Conc. CO2     time2  \n",
      "0  83812.264399  264285.213329  368.904678  0:05:40  \n",
      "1  25506.239873   80428.826192  367.897092  0:08:36  \n",
      "2  75172.331671  237040.913457  367.887545  0:10:50  \n",
      "3  46814.807235  147621.131654  376.272816  0:15:07  \n",
      "4   7618.485284   24023.369645  373.336148  0:17:18  \n",
      "<bound method NDFrame.head of           BC_HW    BC_p_h  BC (ug/m3)        BC_EF    t1_indexed BC_actual_TS  \\\n",
      "0     15.303044  1.332635   20.393379   210.459674     90.388004      0:03:19   \n",
      "1    115.619496  1.672673  193.393660  1995.822575    220.139496      0:05:25   \n",
      "2     61.047133  1.547732   94.484616   975.081242    416.517110      0:08:40   \n",
      "3    109.902133  1.452213  159.601288  1647.085296    537.032475      0:10:38   \n",
      "4      4.549916  1.548507    7.045576    72.710343    554.026663      0:10:55   \n",
      "..          ...       ...         ...          ...           ...          ...   \n",
      "551   56.625419  2.363730  133.847189  1381.302990  70806.702480          NaN   \n",
      "552   50.861265  1.371302   69.746159   719.780360  70948.138930          NaN   \n",
      "553   48.427563  1.418170   68.678530   708.762428  71066.553550          NaN   \n",
      "554  116.004487  1.519569  176.276844  1819.177028  71196.316000          NaN   \n",
      "555   36.139309  3.721576  134.495181  1387.990267  71426.669330          NaN   \n",
      "\n",
      "      BC_conc     time2  \n",
      "0    1.332153   0:03:19  \n",
      "1    1.670150   0:05:25  \n",
      "2    1.558304   0:08:41  \n",
      "3    1.451950   0:10:38  \n",
      "4    1.548495   0:10:55  \n",
      "..        ...       ...  \n",
      "551  2.373482  23:49:01  \n",
      "552  1.369776  23:51:21  \n",
      "553  1.419685  23:53:17  \n",
      "554  1.517857  23:55:24  \n",
      "555  3.728222  23:59:13  \n",
      "\n",
      "[556 rows x 8 columns]>\n"
     ]
    }
   ],
   "source": [
    "df_CO2 = pd.read_csv('./Results2/merged_CO2_EF_index.csv', index_col=0)\n",
    "df_BC = pd.read_csv('./Results2/merged_BC_TS_index.csv', index_col=0)\n",
    "print(len(df_CO2))\n",
    "print(len(df_BC))\n",
    "print(df_CO2.head())\n",
    "print(df_BC.head)"
   ]
  },
  {
   "cell_type": "code",
   "execution_count": 28,
   "id": "assured-retention",
   "metadata": {
    "ExecuteTime": {
     "end_time": "2022-11-28T13:13:56.147137Z",
     "start_time": "2022-11-28T13:13:56.138160Z"
    }
   },
   "outputs": [
    {
     "name": "stdout",
     "output_type": "stream",
     "text": [
      "HW_CO2         float64\n",
      "peak_height    float64\n",
      "t1_indexed     float64\n",
      "Tf             float64\n",
      "Area_CO2       float64\n",
      "CO2 (ug/m3)    float64\n",
      "CO2 EF         float64\n",
      "Conc. CO2      float64\n",
      "time2           object\n",
      "dtype: object\n",
      "BC_HW           float64\n",
      "BC_p_h          float64\n",
      "BC (ug/m3)      float64\n",
      "BC_EF           float64\n",
      "t1_indexed      float64\n",
      "BC_actual_TS     object\n",
      "BC_conc         float64\n",
      "time2            object\n",
      "dtype: object\n"
     ]
    }
   ],
   "source": [
    "print(df_CO2.dtypes)\n",
    "print(df_BC.dtypes)"
   ]
  },
  {
   "cell_type": "code",
   "execution_count": 29,
   "id": "radical-tennessee",
   "metadata": {
    "ExecuteTime": {
     "end_time": "2022-11-28T13:13:56.961076Z",
     "start_time": "2022-11-28T13:13:56.944100Z"
    }
   },
   "outputs": [],
   "source": [
    "# df_CO2.sort_values(by='t1_indexed', inplace=True)\n",
    "# df_BC.sort_values(by='t1_indexed', inplace=True)"
   ]
  },
  {
   "cell_type": "code",
   "execution_count": 30,
   "id": "downtown-raise",
   "metadata": {
    "ExecuteTime": {
     "end_time": "2022-11-28T13:13:57.872192Z",
     "start_time": "2022-11-28T13:13:57.837254Z"
    }
   },
   "outputs": [
    {
     "name": "stdout",
     "output_type": "stream",
     "text": [
      "486\n"
     ]
    },
    {
     "data": {
      "text/html": [
       "<div>\n",
       "<style scoped>\n",
       "    .dataframe tbody tr th:only-of-type {\n",
       "        vertical-align: middle;\n",
       "    }\n",
       "\n",
       "    .dataframe tbody tr th {\n",
       "        vertical-align: top;\n",
       "    }\n",
       "\n",
       "    .dataframe thead th {\n",
       "        text-align: right;\n",
       "    }\n",
       "</style>\n",
       "<table border=\"1\" class=\"dataframe\">\n",
       "  <thead>\n",
       "    <tr style=\"text-align: right;\">\n",
       "      <th></th>\n",
       "      <th>HW_CO2</th>\n",
       "      <th>peak_height</th>\n",
       "      <th>t1_indexed</th>\n",
       "      <th>Tf</th>\n",
       "      <th>Area_CO2</th>\n",
       "      <th>CO2 (ug/m3)</th>\n",
       "      <th>CO2 EF</th>\n",
       "      <th>Conc. CO2</th>\n",
       "      <th>time2_x</th>\n",
       "      <th>BC_HW</th>\n",
       "      <th>BC_p_h</th>\n",
       "      <th>BC (ug/m3)</th>\n",
       "      <th>BC_EF</th>\n",
       "      <th>BC_actual_TS</th>\n",
       "      <th>BC_conc</th>\n",
       "      <th>time2_y</th>\n",
       "    </tr>\n",
       "  </thead>\n",
       "  <tbody>\n",
       "    <tr>\n",
       "      <th>0</th>\n",
       "      <td>126.247273</td>\n",
       "      <td>368.902634</td>\n",
       "      <td>230.964721</td>\n",
       "      <td>357.211993</td>\n",
       "      <td>46572.951467</td>\n",
       "      <td>83812.264399</td>\n",
       "      <td>264285.213329</td>\n",
       "      <td>368.904678</td>\n",
       "      <td>0:05:40</td>\n",
       "      <td>115.619496</td>\n",
       "      <td>1.672673</td>\n",
       "      <td>193.393660</td>\n",
       "      <td>1995.822575</td>\n",
       "      <td>0:05:25</td>\n",
       "      <td>1.670150</td>\n",
       "      <td>0:05:25</td>\n",
       "    </tr>\n",
       "    <tr>\n",
       "      <th>1</th>\n",
       "      <td>38.526629</td>\n",
       "      <td>367.884608</td>\n",
       "      <td>406.558750</td>\n",
       "      <td>445.085379</td>\n",
       "      <td>14173.353748</td>\n",
       "      <td>25506.239873</td>\n",
       "      <td>80428.826192</td>\n",
       "      <td>367.897092</td>\n",
       "      <td>0:08:36</td>\n",
       "      <td>61.047133</td>\n",
       "      <td>1.547732</td>\n",
       "      <td>94.484616</td>\n",
       "      <td>975.081242</td>\n",
       "      <td>0:08:40</td>\n",
       "      <td>1.558304</td>\n",
       "      <td>0:08:41</td>\n",
       "    </tr>\n",
       "    <tr>\n",
       "      <th>2</th>\n",
       "      <td>113.538243</td>\n",
       "      <td>367.910378</td>\n",
       "      <td>541.237969</td>\n",
       "      <td>654.776212</td>\n",
       "      <td>41771.897940</td>\n",
       "      <td>75172.331671</td>\n",
       "      <td>237040.913457</td>\n",
       "      <td>367.887545</td>\n",
       "      <td>0:10:50</td>\n",
       "      <td>109.902133</td>\n",
       "      <td>1.452213</td>\n",
       "      <td>159.601288</td>\n",
       "      <td>1647.085296</td>\n",
       "      <td>0:10:38</td>\n",
       "      <td>1.451950</td>\n",
       "      <td>0:10:38</td>\n",
       "    </tr>\n",
       "    <tr>\n",
       "      <th>3</th>\n",
       "      <td>69.130348</td>\n",
       "      <td>376.305601</td>\n",
       "      <td>798.237072</td>\n",
       "      <td>867.367420</td>\n",
       "      <td>26014.137202</td>\n",
       "      <td>46814.807235</td>\n",
       "      <td>147621.131654</td>\n",
       "      <td>376.272816</td>\n",
       "      <td>0:15:07</td>\n",
       "      <td>93.070575</td>\n",
       "      <td>2.679173</td>\n",
       "      <td>249.352208</td>\n",
       "      <td>2573.314782</td>\n",
       "      <td>0:15:26</td>\n",
       "      <td>2.685671</td>\n",
       "      <td>0:15:27</td>\n",
       "    </tr>\n",
       "    <tr>\n",
       "      <th>4</th>\n",
       "      <td>11.339629</td>\n",
       "      <td>373.332662</td>\n",
       "      <td>928.733648</td>\n",
       "      <td>940.073276</td>\n",
       "      <td>4233.453754</td>\n",
       "      <td>7618.485284</td>\n",
       "      <td>24023.369645</td>\n",
       "      <td>373.336148</td>\n",
       "      <td>0:17:18</td>\n",
       "      <td>49.210581</td>\n",
       "      <td>1.688498</td>\n",
       "      <td>83.091961</td>\n",
       "      <td>857.509032</td>\n",
       "      <td>0:18:14</td>\n",
       "      <td>1.691664</td>\n",
       "      <td>0:18:15</td>\n",
       "    </tr>\n",
       "  </tbody>\n",
       "</table>\n",
       "</div>"
      ],
      "text/plain": [
       "       HW_CO2  peak_height  t1_indexed          Tf      Area_CO2  \\\n",
       "0  126.247273   368.902634  230.964721  357.211993  46572.951467   \n",
       "1   38.526629   367.884608  406.558750  445.085379  14173.353748   \n",
       "2  113.538243   367.910378  541.237969  654.776212  41771.897940   \n",
       "3   69.130348   376.305601  798.237072  867.367420  26014.137202   \n",
       "4   11.339629   373.332662  928.733648  940.073276   4233.453754   \n",
       "\n",
       "    CO2 (ug/m3)         CO2 EF  Conc. CO2   time2_x       BC_HW    BC_p_h  \\\n",
       "0  83812.264399  264285.213329  368.904678  0:05:40  115.619496  1.672673   \n",
       "1  25506.239873   80428.826192  367.897092  0:08:36   61.047133  1.547732   \n",
       "2  75172.331671  237040.913457  367.887545  0:10:50  109.902133  1.452213   \n",
       "3  46814.807235  147621.131654  376.272816  0:15:07   93.070575  2.679173   \n",
       "4   7618.485284   24023.369645  373.336148  0:17:18   49.210581  1.688498   \n",
       "\n",
       "   BC (ug/m3)        BC_EF BC_actual_TS   BC_conc  time2_y  \n",
       "0  193.393660  1995.822575      0:05:25  1.670150  0:05:25  \n",
       "1   94.484616   975.081242      0:08:40  1.558304  0:08:41  \n",
       "2  159.601288  1647.085296      0:10:38  1.451950  0:10:38  \n",
       "3  249.352208  2573.314782      0:15:26  2.685671  0:15:27  \n",
       "4   83.091961   857.509032      0:18:14  1.691664  0:18:15  "
      ]
     },
     "execution_count": 30,
     "metadata": {},
     "output_type": "execute_result"
    }
   ],
   "source": [
    "df_BC_CO2= pd.merge_asof(\n",
    "    df_CO2, df_BC, on=\"t1_indexed\",direction=\"nearest\",  \n",
    "        allow_exact_matches=False)\n",
    "print(len(df_BC_CO2))\n",
    "df_BC_CO2.head()\n",
    "\n"
   ]
  },
  {
   "cell_type": "code",
   "execution_count": 31,
   "id": "developing-closing",
   "metadata": {
    "ExecuteTime": {
     "end_time": "2022-11-28T13:13:59.878442Z",
     "start_time": "2022-11-28T13:13:59.827555Z"
    }
   },
   "outputs": [
    {
     "data": {
      "text/html": [
       "<div>\n",
       "<style scoped>\n",
       "    .dataframe tbody tr th:only-of-type {\n",
       "        vertical-align: middle;\n",
       "    }\n",
       "\n",
       "    .dataframe tbody tr th {\n",
       "        vertical-align: top;\n",
       "    }\n",
       "\n",
       "    .dataframe thead th {\n",
       "        text-align: right;\n",
       "    }\n",
       "</style>\n",
       "<table border=\"1\" class=\"dataframe\">\n",
       "  <thead>\n",
       "    <tr style=\"text-align: right;\">\n",
       "      <th></th>\n",
       "      <th>HW_CO2</th>\n",
       "      <th>peak_height</th>\n",
       "      <th>t1_indexed</th>\n",
       "      <th>Tf</th>\n",
       "      <th>Area_CO2</th>\n",
       "      <th>CO2 (ug/m3)</th>\n",
       "      <th>CO2 EF</th>\n",
       "      <th>Conc. CO2</th>\n",
       "      <th>time2_x</th>\n",
       "      <th>BC_HW</th>\n",
       "      <th>BC_p_h</th>\n",
       "      <th>BC (ug/m3)</th>\n",
       "      <th>BC_EF</th>\n",
       "      <th>BC_actual_TS</th>\n",
       "      <th>BC_conc</th>\n",
       "      <th>time2_y</th>\n",
       "      <th>BC/CO2 EF/kg fuel</th>\n",
       "    </tr>\n",
       "  </thead>\n",
       "  <tbody>\n",
       "    <tr>\n",
       "      <th>0</th>\n",
       "      <td>126.247273</td>\n",
       "      <td>368.902634</td>\n",
       "      <td>230.964721</td>\n",
       "      <td>357.211993</td>\n",
       "      <td>46572.951467</td>\n",
       "      <td>83812.264399</td>\n",
       "      <td>264285.213329</td>\n",
       "      <td>368.904678</td>\n",
       "      <td>0:05:40</td>\n",
       "      <td>115.619496</td>\n",
       "      <td>1.672673</td>\n",
       "      <td>193.393660</td>\n",
       "      <td>1995.822575</td>\n",
       "      <td>0:05:25</td>\n",
       "      <td>1.670150</td>\n",
       "      <td>0:05:25</td>\n",
       "      <td>7.276122</td>\n",
       "    </tr>\n",
       "    <tr>\n",
       "      <th>1</th>\n",
       "      <td>38.526629</td>\n",
       "      <td>367.884608</td>\n",
       "      <td>406.558750</td>\n",
       "      <td>445.085379</td>\n",
       "      <td>14173.353748</td>\n",
       "      <td>25506.239873</td>\n",
       "      <td>80428.826192</td>\n",
       "      <td>367.897092</td>\n",
       "      <td>0:08:36</td>\n",
       "      <td>61.047133</td>\n",
       "      <td>1.547732</td>\n",
       "      <td>94.484616</td>\n",
       "      <td>975.081242</td>\n",
       "      <td>0:08:40</td>\n",
       "      <td>1.558304</td>\n",
       "      <td>0:08:41</td>\n",
       "      <td>11.680998</td>\n",
       "    </tr>\n",
       "    <tr>\n",
       "      <th>2</th>\n",
       "      <td>113.538243</td>\n",
       "      <td>367.910378</td>\n",
       "      <td>541.237969</td>\n",
       "      <td>654.776212</td>\n",
       "      <td>41771.897940</td>\n",
       "      <td>75172.331671</td>\n",
       "      <td>237040.913457</td>\n",
       "      <td>367.887545</td>\n",
       "      <td>0:10:50</td>\n",
       "      <td>109.902133</td>\n",
       "      <td>1.452213</td>\n",
       "      <td>159.601288</td>\n",
       "      <td>1647.085296</td>\n",
       "      <td>0:10:38</td>\n",
       "      <td>1.451950</td>\n",
       "      <td>0:10:38</td>\n",
       "      <td>6.694893</td>\n",
       "    </tr>\n",
       "    <tr>\n",
       "      <th>3</th>\n",
       "      <td>69.130348</td>\n",
       "      <td>376.305601</td>\n",
       "      <td>798.237072</td>\n",
       "      <td>867.367420</td>\n",
       "      <td>26014.137202</td>\n",
       "      <td>46814.807235</td>\n",
       "      <td>147621.131654</td>\n",
       "      <td>376.272816</td>\n",
       "      <td>0:15:07</td>\n",
       "      <td>93.070575</td>\n",
       "      <td>2.679173</td>\n",
       "      <td>249.352208</td>\n",
       "      <td>2573.314782</td>\n",
       "      <td>0:15:26</td>\n",
       "      <td>2.685671</td>\n",
       "      <td>0:15:27</td>\n",
       "      <td>16.795590</td>\n",
       "    </tr>\n",
       "    <tr>\n",
       "      <th>4</th>\n",
       "      <td>11.339629</td>\n",
       "      <td>373.332662</td>\n",
       "      <td>928.733648</td>\n",
       "      <td>940.073276</td>\n",
       "      <td>4233.453754</td>\n",
       "      <td>7618.485284</td>\n",
       "      <td>24023.369645</td>\n",
       "      <td>373.336148</td>\n",
       "      <td>0:17:18</td>\n",
       "      <td>49.210581</td>\n",
       "      <td>1.688498</td>\n",
       "      <td>83.091961</td>\n",
       "      <td>857.509032</td>\n",
       "      <td>0:18:14</td>\n",
       "      <td>1.691664</td>\n",
       "      <td>0:18:15</td>\n",
       "      <td>34.391860</td>\n",
       "    </tr>\n",
       "  </tbody>\n",
       "</table>\n",
       "</div>"
      ],
      "text/plain": [
       "       HW_CO2  peak_height  t1_indexed          Tf      Area_CO2  \\\n",
       "0  126.247273   368.902634  230.964721  357.211993  46572.951467   \n",
       "1   38.526629   367.884608  406.558750  445.085379  14173.353748   \n",
       "2  113.538243   367.910378  541.237969  654.776212  41771.897940   \n",
       "3   69.130348   376.305601  798.237072  867.367420  26014.137202   \n",
       "4   11.339629   373.332662  928.733648  940.073276   4233.453754   \n",
       "\n",
       "    CO2 (ug/m3)         CO2 EF  Conc. CO2   time2_x       BC_HW    BC_p_h  \\\n",
       "0  83812.264399  264285.213329  368.904678  0:05:40  115.619496  1.672673   \n",
       "1  25506.239873   80428.826192  367.897092  0:08:36   61.047133  1.547732   \n",
       "2  75172.331671  237040.913457  367.887545  0:10:50  109.902133  1.452213   \n",
       "3  46814.807235  147621.131654  376.272816  0:15:07   93.070575  2.679173   \n",
       "4   7618.485284   24023.369645  373.336148  0:17:18   49.210581  1.688498   \n",
       "\n",
       "   BC (ug/m3)        BC_EF BC_actual_TS   BC_conc  time2_y  BC/CO2 EF/kg fuel  \n",
       "0  193.393660  1995.822575      0:05:25  1.670150  0:05:25           7.276122  \n",
       "1   94.484616   975.081242      0:08:40  1.558304  0:08:41          11.680998  \n",
       "2  159.601288  1647.085296      0:10:38  1.451950  0:10:38           6.694893  \n",
       "3  249.352208  2573.314782      0:15:26  2.685671  0:15:27          16.795590  \n",
       "4   83.091961   857.509032      0:18:14  1.691664  0:18:15          34.391860  "
      ]
     },
     "execution_count": 31,
     "metadata": {},
     "output_type": "execute_result"
    }
   ],
   "source": [
    "df_BC_CO2[\"BC/CO2 EF/kg fuel\"] = (df_BC_CO2[\"BC (ug/m3)\"]/df_BC_CO2[\"CO2 (ug/m3)\"])* 3.1533*1000\n",
    "df_BC_CO2.head()"
   ]
  },
  {
   "cell_type": "code",
   "execution_count": 32,
   "id": "beneficial-suite",
   "metadata": {
    "ExecuteTime": {
     "end_time": "2022-11-28T13:14:15.636007Z",
     "start_time": "2022-11-28T13:14:15.613080Z"
    }
   },
   "outputs": [],
   "source": [
    "df_BC_CO2.to_csv('./Results2/merged_CO2_BC_EF_indexed.csv')"
   ]
  },
  {
   "cell_type": "code",
   "execution_count": 33,
   "id": "strategic-tourism",
   "metadata": {
    "ExecuteTime": {
     "end_time": "2022-11-28T13:14:16.521644Z",
     "start_time": "2022-11-28T13:14:16.498673Z"
    }
   },
   "outputs": [
    {
     "data": {
      "text/html": [
       "<div>\n",
       "<style scoped>\n",
       "    .dataframe tbody tr th:only-of-type {\n",
       "        vertical-align: middle;\n",
       "    }\n",
       "\n",
       "    .dataframe tbody tr th {\n",
       "        vertical-align: top;\n",
       "    }\n",
       "\n",
       "    .dataframe thead th {\n",
       "        text-align: right;\n",
       "    }\n",
       "</style>\n",
       "<table border=\"1\" class=\"dataframe\">\n",
       "  <thead>\n",
       "    <tr style=\"text-align: right;\">\n",
       "      <th></th>\n",
       "      <th>time2_x</th>\n",
       "      <th>BC (ug/m3)</th>\n",
       "      <th>CO2 (ug/m3)</th>\n",
       "      <th>BC/CO2 EF/kg fuel</th>\n",
       "    </tr>\n",
       "  </thead>\n",
       "  <tbody>\n",
       "    <tr>\n",
       "      <th>0</th>\n",
       "      <td>0:05:40</td>\n",
       "      <td>193.393660</td>\n",
       "      <td>83812.264399</td>\n",
       "      <td>7.276122</td>\n",
       "    </tr>\n",
       "    <tr>\n",
       "      <th>1</th>\n",
       "      <td>0:08:36</td>\n",
       "      <td>94.484616</td>\n",
       "      <td>25506.239873</td>\n",
       "      <td>11.680998</td>\n",
       "    </tr>\n",
       "    <tr>\n",
       "      <th>2</th>\n",
       "      <td>0:10:50</td>\n",
       "      <td>159.601288</td>\n",
       "      <td>75172.331671</td>\n",
       "      <td>6.694893</td>\n",
       "    </tr>\n",
       "    <tr>\n",
       "      <th>3</th>\n",
       "      <td>0:15:07</td>\n",
       "      <td>249.352208</td>\n",
       "      <td>46814.807235</td>\n",
       "      <td>16.795590</td>\n",
       "    </tr>\n",
       "    <tr>\n",
       "      <th>4</th>\n",
       "      <td>0:17:18</td>\n",
       "      <td>83.091961</td>\n",
       "      <td>7618.485284</td>\n",
       "      <td>34.391860</td>\n",
       "    </tr>\n",
       "  </tbody>\n",
       "</table>\n",
       "</div>"
      ],
      "text/plain": [
       "   time2_x  BC (ug/m3)   CO2 (ug/m3)  BC/CO2 EF/kg fuel\n",
       "0  0:05:40  193.393660  83812.264399           7.276122\n",
       "1  0:08:36   94.484616  25506.239873          11.680998\n",
       "2  0:10:50  159.601288  75172.331671           6.694893\n",
       "3  0:15:07  249.352208  46814.807235          16.795590\n",
       "4  0:17:18   83.091961   7618.485284          34.391860"
      ]
     },
     "execution_count": 33,
     "metadata": {},
     "output_type": "execute_result"
    }
   ],
   "source": [
    "df= pd.DataFrame(df_BC_CO2, columns =['time2_x','BC (ug/m3)', \n",
    "                                      'CO2 (ug/m3)','BC/CO2 EF/kg fuel']) \n",
    "df.head()"
   ]
  },
  {
   "cell_type": "code",
   "execution_count": 34,
   "id": "sexual-lyric",
   "metadata": {
    "ExecuteTime": {
     "end_time": "2022-11-28T13:14:17.506553Z",
     "start_time": "2022-11-28T13:14:17.422777Z"
    }
   },
   "outputs": [
    {
     "name": "stdout",
     "output_type": "stream",
     "text": [
      "time2_x                      object\n",
      "BC (ug/m3)                  float64\n",
      "CO2 (ug/m3)                 float64\n",
      "BC/CO2 EF/kg fuel           float64\n",
      "time                 datetime64[ns]\n",
      "minutes                     float64\n",
      "seconds                       int64\n",
      "dtype: object\n"
     ]
    },
    {
     "data": {
      "text/html": [
       "<div>\n",
       "<style scoped>\n",
       "    .dataframe tbody tr th:only-of-type {\n",
       "        vertical-align: middle;\n",
       "    }\n",
       "\n",
       "    .dataframe tbody tr th {\n",
       "        vertical-align: top;\n",
       "    }\n",
       "\n",
       "    .dataframe thead th {\n",
       "        text-align: right;\n",
       "    }\n",
       "</style>\n",
       "<table border=\"1\" class=\"dataframe\">\n",
       "  <thead>\n",
       "    <tr style=\"text-align: right;\">\n",
       "      <th></th>\n",
       "      <th>time2_x</th>\n",
       "      <th>BC (ug/m3)</th>\n",
       "      <th>CO2 (ug/m3)</th>\n",
       "      <th>BC/CO2 EF/kg fuel</th>\n",
       "      <th>time</th>\n",
       "      <th>minutes</th>\n",
       "      <th>seconds</th>\n",
       "    </tr>\n",
       "  </thead>\n",
       "  <tbody>\n",
       "    <tr>\n",
       "      <th>0</th>\n",
       "      <td>0:05:40</td>\n",
       "      <td>193.393660</td>\n",
       "      <td>83812.264399</td>\n",
       "      <td>7.276122</td>\n",
       "      <td>2022-11-28 00:05:40</td>\n",
       "      <td>5.666667</td>\n",
       "      <td>45</td>\n",
       "    </tr>\n",
       "    <tr>\n",
       "      <th>1</th>\n",
       "      <td>0:08:36</td>\n",
       "      <td>94.484616</td>\n",
       "      <td>25506.239873</td>\n",
       "      <td>11.680998</td>\n",
       "      <td>2022-11-28 00:08:36</td>\n",
       "      <td>8.600000</td>\n",
       "      <td>44</td>\n",
       "    </tr>\n",
       "    <tr>\n",
       "      <th>2</th>\n",
       "      <td>0:10:50</td>\n",
       "      <td>159.601288</td>\n",
       "      <td>75172.331671</td>\n",
       "      <td>6.694893</td>\n",
       "      <td>2022-11-28 00:10:50</td>\n",
       "      <td>10.833333</td>\n",
       "      <td>60</td>\n",
       "    </tr>\n",
       "    <tr>\n",
       "      <th>3</th>\n",
       "      <td>0:15:07</td>\n",
       "      <td>249.352208</td>\n",
       "      <td>46814.807235</td>\n",
       "      <td>16.795590</td>\n",
       "      <td>2022-11-28 00:15:07</td>\n",
       "      <td>15.116667</td>\n",
       "      <td>22</td>\n",
       "    </tr>\n",
       "    <tr>\n",
       "      <th>4</th>\n",
       "      <td>0:17:18</td>\n",
       "      <td>83.091961</td>\n",
       "      <td>7618.485284</td>\n",
       "      <td>34.391860</td>\n",
       "      <td>2022-11-28 00:17:18</td>\n",
       "      <td>17.300000</td>\n",
       "      <td>35</td>\n",
       "    </tr>\n",
       "    <tr>\n",
       "      <th>...</th>\n",
       "      <td>...</td>\n",
       "      <td>...</td>\n",
       "      <td>...</td>\n",
       "      <td>...</td>\n",
       "      <td>...</td>\n",
       "      <td>...</td>\n",
       "      <td>...</td>\n",
       "    </tr>\n",
       "    <tr>\n",
       "      <th>481</th>\n",
       "      <td>23:45:10</td>\n",
       "      <td>250.538040</td>\n",
       "      <td>83770.100571</td>\n",
       "      <td>9.430830</td>\n",
       "      <td>2022-11-28 23:45:10</td>\n",
       "      <td>1425.166667</td>\n",
       "      <td>1435</td>\n",
       "    </tr>\n",
       "    <tr>\n",
       "      <th>482</th>\n",
       "      <td>23:49:59</td>\n",
       "      <td>3.362357</td>\n",
       "      <td>57305.858554</td>\n",
       "      <td>0.185016</td>\n",
       "      <td>2022-11-28 23:49:59</td>\n",
       "      <td>1429.983333</td>\n",
       "      <td>1488</td>\n",
       "    </tr>\n",
       "    <tr>\n",
       "      <th>483</th>\n",
       "      <td>23:52:37</td>\n",
       "      <td>277.823081</td>\n",
       "      <td>169874.325049</td>\n",
       "      <td>5.157104</td>\n",
       "      <td>2022-11-28 23:52:37</td>\n",
       "      <td>1432.616667</td>\n",
       "      <td>1469</td>\n",
       "    </tr>\n",
       "    <tr>\n",
       "      <th>484</th>\n",
       "      <td>23:55:53</td>\n",
       "      <td>133.847189</td>\n",
       "      <td>32966.726359</td>\n",
       "      <td>12.802616</td>\n",
       "      <td>2022-11-28 23:55:53</td>\n",
       "      <td>1435.883333</td>\n",
       "      <td>1488</td>\n",
       "    </tr>\n",
       "    <tr>\n",
       "      <th>485</th>\n",
       "      <td>23:59:41</td>\n",
       "      <td>68.678530</td>\n",
       "      <td>10616.209737</td>\n",
       "      <td>20.399372</td>\n",
       "      <td>2022-11-28 23:59:41</td>\n",
       "      <td>1439.683333</td>\n",
       "      <td>1480</td>\n",
       "    </tr>\n",
       "  </tbody>\n",
       "</table>\n",
       "<p>486 rows × 7 columns</p>\n",
       "</div>"
      ],
      "text/plain": [
       "      time2_x  BC (ug/m3)    CO2 (ug/m3)  BC/CO2 EF/kg fuel  \\\n",
       "0     0:05:40  193.393660   83812.264399           7.276122   \n",
       "1     0:08:36   94.484616   25506.239873          11.680998   \n",
       "2     0:10:50  159.601288   75172.331671           6.694893   \n",
       "3     0:15:07  249.352208   46814.807235          16.795590   \n",
       "4     0:17:18   83.091961    7618.485284          34.391860   \n",
       "..        ...         ...            ...                ...   \n",
       "481  23:45:10  250.538040   83770.100571           9.430830   \n",
       "482  23:49:59    3.362357   57305.858554           0.185016   \n",
       "483  23:52:37  277.823081  169874.325049           5.157104   \n",
       "484  23:55:53  133.847189   32966.726359          12.802616   \n",
       "485  23:59:41   68.678530   10616.209737          20.399372   \n",
       "\n",
       "                   time      minutes  seconds  \n",
       "0   2022-11-28 00:05:40     5.666667       45  \n",
       "1   2022-11-28 00:08:36     8.600000       44  \n",
       "2   2022-11-28 00:10:50    10.833333       60  \n",
       "3   2022-11-28 00:15:07    15.116667       22  \n",
       "4   2022-11-28 00:17:18    17.300000       35  \n",
       "..                  ...          ...      ...  \n",
       "481 2022-11-28 23:45:10  1425.166667     1435  \n",
       "482 2022-11-28 23:49:59  1429.983333     1488  \n",
       "483 2022-11-28 23:52:37  1432.616667     1469  \n",
       "484 2022-11-28 23:55:53  1435.883333     1488  \n",
       "485 2022-11-28 23:59:41  1439.683333     1480  \n",
       "\n",
       "[486 rows x 7 columns]"
      ]
     },
     "execution_count": 34,
     "metadata": {},
     "output_type": "execute_result"
    }
   ],
   "source": [
    "#df_lic[['t1_indexed']] = df_lic[['t1_indexed']].df_lic[['t1_indexed']] = df_lic[['t1_indexed']].apply(pd.to_datetime)\n",
    "df[['time']] = df[['time2_x']].apply(pd.to_datetime)\n",
    "df['minutes'] = df['time'].dt.hour * 60 + df['time'].dt.minute + df['time'].dt.second/60\n",
    "df['seconds'] = df['time'].dt.hour * 60 + df['time'].dt.minute + df['time'].dt.second\n",
    "df.to_csv('./Results2/merged_CO2_BC_EF_lic_min.csv')\n",
    "print(df.dtypes)\n",
    "\n",
    "df"
   ]
  },
  {
   "cell_type": "code",
   "execution_count": 38,
   "id": "assisted-butterfly",
   "metadata": {
    "ExecuteTime": {
     "end_time": "2022-11-28T13:16:13.846913Z",
     "start_time": "2022-11-28T13:16:12.036323Z"
    }
   },
   "outputs": [
    {
     "data": {
      "image/png": "[encoded data removed]",
      "text/plain": [
       "<Figure size 864x432 with 3 Axes>"
      ]
     },
     "metadata": {
      "needs_background": "light"
     },
     "output_type": "display_data"
    }
   ],
   "source": [
    "\n",
    "fig, (ax1, ax2, ax3,) = plt.subplots(3, 1, \n",
    "                    sharex=True, figsize=(12, 6))\n",
    "# Add x-axis and y-axis\n",
    "ax1.plot(df['time2_x'],\n",
    "         df['BC (ug/m3)'],\n",
    "         color='purple')\n",
    "# ax2.plot(app2.index.values,\n",
    "#        app2['Approx_2'],\n",
    "#        color='orange')\n",
    "\n",
    "ax2.plot(df['time2_x'],\n",
    "         df['CO2 (ug/m3)'],\n",
    "         color='green')\n",
    "ax3.plot(df['time2_x'],\n",
    "         df['BC/CO2 EF/kg fuel'],\n",
    "         color='red')\n",
    "\n",
    "# ax5.plot(BC.index.values,\n",
    "#          BC['BC_app_3'],\n",
    "#          color='black')\n",
    "\n",
    "ax1.set(\n",
    "    ylabel=\" BC  \\n (ug/m3)\")\n",
    "# ax2.set(ylabel=\" App. L2\")\n",
    "ax2.set(ylabel=\"CO2  \\n (ug/m3)\")\n",
    "ax3.set(ylabel=\"BC/CO2  \\n (EF/kg fuel)\"),\n",
    "# plt.plot(x_array, y_array)\n",
    "plt.xticks(rotation =60) # Rotates X-Axis Ticks by 45-degrees\n",
    "# plt.grid(b=True, which='major', color='grey', linestyle='--')\n",
    "plt.gca().xaxis.set_major_locator(plt.MultipleLocator(3))\n",
    "# line colour is red\n",
    "plt.axhline(y = 100, color = 'black', linestyle = 'dashed', \n",
    "            label = \"EF threshold > 100\")  \n",
    "# plotting the legend\n",
    "plt.legend()\n",
    "plt.xlabel('Time (H:M:S)', fontsize = 13)\n",
    "\n",
    "plt.tight_layout()\n",
    "plt.gca().xaxis.set_major_locator(plt.MultipleLocator(10))\n",
    "plt.savefig('./Results2/BC_CO2_EF_comparison.png')\n",
    "plt.show()\n",
    "\n"
   ]
  },
  {
   "cell_type": "code",
   "execution_count": null,
   "id": "alert-internship",
   "metadata": {},
   "outputs": [],
   "source": []
  }
 ],
 "metadata": {
  "kernelspec": {
   "display_name": "Python 3",
   "language": "python",
   "name": "python3"
  },
  "language_info": {
   "codemirror_mode": {
    "name": "ipython",
    "version": 3
   },
   "file_extension": ".py",
   "mimetype": "text/x-python",
   "name": "python",
   "nbconvert_exporter": "python",
   "pygments_lexer": "ipython3",
   "version": "3.7.9"
  },
  "toc": {
   "base_numbering": 1,
   "nav_menu": {},
   "number_sections": true,
   "sideBar": true,
   "skip_h1_title": false,
   "title_cell": "Table of Contents",
   "title_sidebar": "Contents",
   "toc_cell": false,
   "toc_position": {},
   "toc_section_display": true,
   "toc_window_display": false
  },
  "varInspector": {
   "cols": {
    "lenName": 16,
    "lenType": 16,
    "lenVar": 40
   },
   "kernels_config": {
    "python": {
     "delete_cmd_postfix": "",
     "delete_cmd_prefix": "del ",
     "library": "var_list.py",
     "varRefreshCmd": "print(var_dic_list())"
    },
    "r": {
     "delete_cmd_postfix": ") ",
     "delete_cmd_prefix": "rm(",
     "library": "var_list.r",
     "varRefreshCmd": "cat(var_dic_list()) "
    }
   },
   "types_to_exclude": [
    "module",
    "function",
    "builtin_function_or_method",
    "instance",
    "_Feature"
   ],
   "window_display": false
  }
 },
 "nbformat": 4,
 "nbformat_minor": 5
}
