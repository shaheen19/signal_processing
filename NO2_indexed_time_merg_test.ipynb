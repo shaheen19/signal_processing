{
 "cells": [
  {
   "cell_type": "code",
   "execution_count": 1,
   "id": "front-daughter",
   "metadata": {
    "ExecuteTime": {
     "end_time": "2022-11-28T03:33:59.026443Z",
     "start_time": "2022-11-28T03:33:57.473710Z"
    }
   },
   "outputs": [
    {
     "data": {
      "text/plain": [
       "'C:\\\\Users\\\\bina_\\\\Dropbox\\\\Robina Shaheen_PEMS2022\\\\PEMS_NOx_BC_CO2_ALPR\\\\ii.dwt'"
      ]
     },
     "execution_count": 1,
     "metadata": {},
     "output_type": "execute_result"
    }
   ],
   "source": [
    "%matplotlib inline\n",
    "import os\n",
    "import glob\n",
    "import csv\n",
    "import re\n",
    "import numpy as np\n",
    "import pandas as pd\n",
    "from scipy import signal\n",
    "import matplotlib.pyplot as plt\n",
    "import pywt\n",
    "import matplotlib.dates as mdates\n",
    "from matplotlib.dates import DateFormatter\n",
    "from mpl_toolkits.mplot3d import Axes3D \n",
    "from scipy import signal\n",
    "from scipy.signal import find_peaks\n",
    "from scipy import optimize\n",
    "from scipy.stats import linregress, stats\n",
    "import seaborn as sns\n",
    "\n",
    "import datetime as dt\n",
    "from textwrap import wrap\n",
    "\n",
    "\n",
    "# Handle date time conversions between pandas and matplotlib\n",
    "from pandas.plotting import register_matplotlib_converters\n",
    "register_matplotlib_converters()\n",
    "os.getcwd()"
   ]
  },
  {
   "cell_type": "code",
   "execution_count": 2,
   "id": "illegal-scroll",
   "metadata": {
    "ExecuteTime": {
     "end_time": "2022-11-28T03:33:59.152108Z",
     "start_time": "2022-11-28T03:33:59.107228Z"
    }
   },
   "outputs": [
    {
     "name": "stdout",
     "output_type": "stream",
     "text": [
      "   time2_x  BC (ug/m3)   CO2 (ug/m3)  BC/CO2 EF/kg fuel                 time  \\\n",
      "0  0:05:40  193.393660  83812.264400           7.276122  2022-11-27 00:05:40   \n",
      "1  0:08:36   94.484616  25506.239870          11.680998  2022-11-27 00:08:36   \n",
      "2  0:10:50  159.601288  75172.331670           6.694893  2022-11-27 00:10:50   \n",
      "3  0:15:07  249.352208  46814.807230          16.795590  2022-11-27 00:15:07   \n",
      "4  0:17:18   83.091961   7618.485284          34.391860  2022-11-27 00:17:18   \n",
      "\n",
      "   seconds    minutes  \n",
      "0       45   5.666667  \n",
      "1       44   8.600000  \n",
      "2       60  10.833333  \n",
      "3       22  15.116667  \n",
      "4       35  17.300000  \n",
      "<bound method NDFrame.head of                      Time     time2     license vehicle-make-name\n",
      "0     2022-09-02 00:00:19  00:00:19  2102015672         chevrolet\n",
      "1     2022-09-02 00:48:47  00:48:47  2104921995             volvo\n",
      "2     2022-09-02 00:48:56  00:48:56  2104932924              ford\n",
      "3     2022-09-02 00:49:11  00:49:11  2104946538         chevrolet\n",
      "4     2022-09-02 00:49:11  00:49:11  2104947077          kenworth\n",
      "...                   ...       ...         ...               ...\n",
      "1733  2022-09-02 23:20:55  23:20:55  2186051819             dodge\n",
      "1734  2022-09-02 23:45:44  23:45:44  2187540484         chevrolet\n",
      "1735  2022-09-02 23:45:56  23:45:56  2187552584          kenworth\n",
      "1736  2022-09-02 23:46:24  23:46:24  2187580106              ford\n",
      "1737  2022-09-02 23:46:40  23:46:40  2187595624             honda\n",
      "\n",
      "[1738 rows x 4 columns]>\n"
     ]
    }
   ],
   "source": [
    "#df_CO2_BC = pd.read_csv('./Results2/merged_CO2_BC_indexed.csv', index_col=0)\n",
    "df_lic = pd.read_csv('./Results2/simplified_ALPR.csv', index_col=0)\n",
    "df_CO2_BC = pd.read_csv('./Results2/merged_CO2_BC_EF_time_min.csv', index_col=0)\n",
    "print(df_CO2_BC.head())\n",
    "print(df_lic.head)\n",
    "# print(dtypes(df_lic))\n"
   ]
  },
  {
   "cell_type": "code",
   "execution_count": 3,
   "id": "unique-tooth",
   "metadata": {
    "ExecuteTime": {
     "end_time": "2022-11-28T03:33:59.561328Z",
     "start_time": "2022-11-28T03:33:59.555339Z"
    }
   },
   "outputs": [
    {
     "name": "stdout",
     "output_type": "stream",
     "text": [
      "Time                 object\n",
      "time2                object\n",
      "license               int64\n",
      "vehicle-make-name    object\n",
      "dtype: object\n",
      "1738\n"
     ]
    }
   ],
   "source": [
    "print(df_lic.dtypes)\n",
    "print(len(df_lic))"
   ]
  },
  {
   "cell_type": "code",
   "execution_count": 4,
   "id": "exterior-andrews",
   "metadata": {
    "ExecuteTime": {
     "end_time": "2022-11-28T03:35:02.412345Z",
     "start_time": "2022-11-28T03:35:02.389413Z"
    }
   },
   "outputs": [
    {
     "name": "stdout",
     "output_type": "stream",
     "text": [
      "Time                 object\n",
      "t1_indexed           object\n",
      "license               int64\n",
      "vehicle-make-name    object\n",
      "dtype: object\n",
      "<class 'pandas.core.frame.DataFrame'>\n",
      "Int64Index: 1738 entries, 0 to 1737\n",
      "Data columns (total 4 columns):\n",
      " #   Column             Non-Null Count  Dtype \n",
      "---  ------             --------------  ----- \n",
      " 0   Time               1738 non-null   object\n",
      " 1   t1_indexed         1738 non-null   object\n",
      " 2   license            1738 non-null   int64 \n",
      " 3   vehicle-make-name  1738 non-null   object\n",
      "dtypes: int64(1), object(3)\n",
      "memory usage: 67.9+ KB\n"
     ]
    }
   ],
   "source": [
    "df_lic.rename(columns={'time2':'t1_indexed'}, inplace=True)\n",
    "# df2.rename(columns={'index':'t1_indexed'}, inplace=True)\n",
    "# df1.columns\n",
    "print(df_lic.dtypes)\n",
    "df_lic.info()"
   ]
  },
  {
   "cell_type": "code",
   "execution_count": 5,
   "id": "sustainable-disposition",
   "metadata": {
    "ExecuteTime": {
     "end_time": "2022-11-28T03:35:07.008673Z",
     "start_time": "2022-11-28T03:35:06.903950Z"
    }
   },
   "outputs": [
    {
     "name": "stdout",
     "output_type": "stream",
     "text": [
      "Time                         object\n",
      "t1_indexed           datetime64[ns]\n",
      "license                       int64\n",
      "vehicle-make-name            object\n",
      "dtype: object\n"
     ]
    },
    {
     "data": {
      "text/html": [
       "<div>\n",
       "<style scoped>\n",
       "    .dataframe tbody tr th:only-of-type {\n",
       "        vertical-align: middle;\n",
       "    }\n",
       "\n",
       "    .dataframe tbody tr th {\n",
       "        vertical-align: top;\n",
       "    }\n",
       "\n",
       "    .dataframe thead th {\n",
       "        text-align: right;\n",
       "    }\n",
       "</style>\n",
       "<table border=\"1\" class=\"dataframe\">\n",
       "  <thead>\n",
       "    <tr style=\"text-align: right;\">\n",
       "      <th></th>\n",
       "      <th>Time</th>\n",
       "      <th>t1_indexed</th>\n",
       "      <th>license</th>\n",
       "      <th>vehicle-make-name</th>\n",
       "    </tr>\n",
       "  </thead>\n",
       "  <tbody>\n",
       "    <tr>\n",
       "      <th>0</th>\n",
       "      <td>2022-09-02 00:00:19</td>\n",
       "      <td>2022-11-27 00:00:19</td>\n",
       "      <td>2102015672</td>\n",
       "      <td>chevrolet</td>\n",
       "    </tr>\n",
       "    <tr>\n",
       "      <th>1</th>\n",
       "      <td>2022-09-02 00:48:47</td>\n",
       "      <td>2022-11-27 00:48:47</td>\n",
       "      <td>2104921995</td>\n",
       "      <td>volvo</td>\n",
       "    </tr>\n",
       "    <tr>\n",
       "      <th>2</th>\n",
       "      <td>2022-09-02 00:48:56</td>\n",
       "      <td>2022-11-27 00:48:56</td>\n",
       "      <td>2104932924</td>\n",
       "      <td>ford</td>\n",
       "    </tr>\n",
       "    <tr>\n",
       "      <th>3</th>\n",
       "      <td>2022-09-02 00:49:11</td>\n",
       "      <td>2022-11-27 00:49:11</td>\n",
       "      <td>2104946538</td>\n",
       "      <td>chevrolet</td>\n",
       "    </tr>\n",
       "    <tr>\n",
       "      <th>4</th>\n",
       "      <td>2022-09-02 00:49:11</td>\n",
       "      <td>2022-11-27 00:49:11</td>\n",
       "      <td>2104947077</td>\n",
       "      <td>kenworth</td>\n",
       "    </tr>\n",
       "  </tbody>\n",
       "</table>\n",
       "</div>"
      ],
      "text/plain": [
       "                  Time          t1_indexed     license vehicle-make-name\n",
       "0  2022-09-02 00:00:19 2022-11-27 00:00:19  2102015672         chevrolet\n",
       "1  2022-09-02 00:48:47 2022-11-27 00:48:47  2104921995             volvo\n",
       "2  2022-09-02 00:48:56 2022-11-27 00:48:56  2104932924              ford\n",
       "3  2022-09-02 00:49:11 2022-11-27 00:49:11  2104946538         chevrolet\n",
       "4  2022-09-02 00:49:11 2022-11-27 00:49:11  2104947077          kenworth"
      ]
     },
     "execution_count": 5,
     "metadata": {},
     "output_type": "execute_result"
    }
   ],
   "source": [
    "df_lic[['t1_indexed']] = df_lic[['t1_indexed']].apply(pd.to_datetime)\n",
    "# #.apply(lambda x: x.value)\n",
    "print(df_lic.dtypes)\n",
    "df_lic.head()"
   ]
  },
  {
   "cell_type": "code",
   "execution_count": 8,
   "id": "quiet-packaging",
   "metadata": {
    "ExecuteTime": {
     "end_time": "2022-11-28T03:36:59.211131Z",
     "start_time": "2022-11-28T03:36:59.180226Z"
    }
   },
   "outputs": [
    {
     "name": "stdout",
     "output_type": "stream",
     "text": [
      "Time                         object\n",
      "t1_indexed           datetime64[ns]\n",
      "license                       int64\n",
      "vehicle-make-name            object\n",
      "seconds                       int64\n",
      "minutes                     float64\n",
      "dtype: object\n"
     ]
    },
    {
     "data": {
      "text/html": [
       "<div>\n",
       "<style scoped>\n",
       "    .dataframe tbody tr th:only-of-type {\n",
       "        vertical-align: middle;\n",
       "    }\n",
       "\n",
       "    .dataframe tbody tr th {\n",
       "        vertical-align: top;\n",
       "    }\n",
       "\n",
       "    .dataframe thead th {\n",
       "        text-align: right;\n",
       "    }\n",
       "</style>\n",
       "<table border=\"1\" class=\"dataframe\">\n",
       "  <thead>\n",
       "    <tr style=\"text-align: right;\">\n",
       "      <th></th>\n",
       "      <th>Time</th>\n",
       "      <th>t1_indexed</th>\n",
       "      <th>license</th>\n",
       "      <th>vehicle-make-name</th>\n",
       "      <th>seconds</th>\n",
       "      <th>minutes</th>\n",
       "    </tr>\n",
       "  </thead>\n",
       "  <tbody>\n",
       "    <tr>\n",
       "      <th>0</th>\n",
       "      <td>2022-09-02 00:00:19</td>\n",
       "      <td>2022-11-27 00:00:19</td>\n",
       "      <td>2102015672</td>\n",
       "      <td>chevrolet</td>\n",
       "      <td>19</td>\n",
       "      <td>0.316667</td>\n",
       "    </tr>\n",
       "    <tr>\n",
       "      <th>1</th>\n",
       "      <td>2022-09-02 00:48:47</td>\n",
       "      <td>2022-11-27 00:48:47</td>\n",
       "      <td>2104921995</td>\n",
       "      <td>volvo</td>\n",
       "      <td>95</td>\n",
       "      <td>48.783333</td>\n",
       "    </tr>\n",
       "    <tr>\n",
       "      <th>2</th>\n",
       "      <td>2022-09-02 00:48:56</td>\n",
       "      <td>2022-11-27 00:48:56</td>\n",
       "      <td>2104932924</td>\n",
       "      <td>ford</td>\n",
       "      <td>104</td>\n",
       "      <td>48.933333</td>\n",
       "    </tr>\n",
       "    <tr>\n",
       "      <th>3</th>\n",
       "      <td>2022-09-02 00:49:11</td>\n",
       "      <td>2022-11-27 00:49:11</td>\n",
       "      <td>2104946538</td>\n",
       "      <td>chevrolet</td>\n",
       "      <td>60</td>\n",
       "      <td>49.183333</td>\n",
       "    </tr>\n",
       "    <tr>\n",
       "      <th>4</th>\n",
       "      <td>2022-09-02 00:49:11</td>\n",
       "      <td>2022-11-27 00:49:11</td>\n",
       "      <td>2104947077</td>\n",
       "      <td>kenworth</td>\n",
       "      <td>60</td>\n",
       "      <td>49.183333</td>\n",
       "    </tr>\n",
       "    <tr>\n",
       "      <th>...</th>\n",
       "      <td>...</td>\n",
       "      <td>...</td>\n",
       "      <td>...</td>\n",
       "      <td>...</td>\n",
       "      <td>...</td>\n",
       "      <td>...</td>\n",
       "    </tr>\n",
       "    <tr>\n",
       "      <th>1733</th>\n",
       "      <td>2022-09-02 23:20:55</td>\n",
       "      <td>2022-11-27 23:20:55</td>\n",
       "      <td>2186051819</td>\n",
       "      <td>dodge</td>\n",
       "      <td>1455</td>\n",
       "      <td>1400.916667</td>\n",
       "    </tr>\n",
       "    <tr>\n",
       "      <th>1734</th>\n",
       "      <td>2022-09-02 23:45:44</td>\n",
       "      <td>2022-11-27 23:45:44</td>\n",
       "      <td>2187540484</td>\n",
       "      <td>chevrolet</td>\n",
       "      <td>1469</td>\n",
       "      <td>1425.733333</td>\n",
       "    </tr>\n",
       "    <tr>\n",
       "      <th>1735</th>\n",
       "      <td>2022-09-02 23:45:56</td>\n",
       "      <td>2022-11-27 23:45:56</td>\n",
       "      <td>2187552584</td>\n",
       "      <td>kenworth</td>\n",
       "      <td>1481</td>\n",
       "      <td>1425.933333</td>\n",
       "    </tr>\n",
       "    <tr>\n",
       "      <th>1736</th>\n",
       "      <td>2022-09-02 23:46:24</td>\n",
       "      <td>2022-11-27 23:46:24</td>\n",
       "      <td>2187580106</td>\n",
       "      <td>ford</td>\n",
       "      <td>1450</td>\n",
       "      <td>1426.400000</td>\n",
       "    </tr>\n",
       "    <tr>\n",
       "      <th>1737</th>\n",
       "      <td>2022-09-02 23:46:40</td>\n",
       "      <td>2022-11-27 23:46:40</td>\n",
       "      <td>2187595624</td>\n",
       "      <td>honda</td>\n",
       "      <td>1466</td>\n",
       "      <td>1426.666667</td>\n",
       "    </tr>\n",
       "  </tbody>\n",
       "</table>\n",
       "<p>1738 rows × 6 columns</p>\n",
       "</div>"
      ],
      "text/plain": [
       "                     Time          t1_indexed     license vehicle-make-name  \\\n",
       "0     2022-09-02 00:00:19 2022-11-27 00:00:19  2102015672         chevrolet   \n",
       "1     2022-09-02 00:48:47 2022-11-27 00:48:47  2104921995             volvo   \n",
       "2     2022-09-02 00:48:56 2022-11-27 00:48:56  2104932924              ford   \n",
       "3     2022-09-02 00:49:11 2022-11-27 00:49:11  2104946538         chevrolet   \n",
       "4     2022-09-02 00:49:11 2022-11-27 00:49:11  2104947077          kenworth   \n",
       "...                   ...                 ...         ...               ...   \n",
       "1733  2022-09-02 23:20:55 2022-11-27 23:20:55  2186051819             dodge   \n",
       "1734  2022-09-02 23:45:44 2022-11-27 23:45:44  2187540484         chevrolet   \n",
       "1735  2022-09-02 23:45:56 2022-11-27 23:45:56  2187552584          kenworth   \n",
       "1736  2022-09-02 23:46:24 2022-11-27 23:46:24  2187580106              ford   \n",
       "1737  2022-09-02 23:46:40 2022-11-27 23:46:40  2187595624             honda   \n",
       "\n",
       "      seconds      minutes  \n",
       "0          19     0.316667  \n",
       "1          95    48.783333  \n",
       "2         104    48.933333  \n",
       "3          60    49.183333  \n",
       "4          60    49.183333  \n",
       "...       ...          ...  \n",
       "1733     1455  1400.916667  \n",
       "1734     1469  1425.733333  \n",
       "1735     1481  1425.933333  \n",
       "1736     1450  1426.400000  \n",
       "1737     1466  1426.666667  \n",
       "\n",
       "[1738 rows x 6 columns]"
      ]
     },
     "execution_count": 8,
     "metadata": {},
     "output_type": "execute_result"
    }
   ],
   "source": [
    "\n",
    "df_lic['t1_indexed'] = pd.to_datetime(df_lic['t1_indexed'])\n",
    "df_lic['seconds'] = df_lic['t1_indexed'].dt.hour * 60 + df_lic['t1_indexed'].dt.minute + df_lic['t1_indexed'].dt.second\n",
    "df_lic['minutes'] = df_lic['t1_indexed'].dt.hour * 60 + df_lic['t1_indexed'].dt.minute + df_lic['t1_indexed'].dt.second/60\n",
    "print(df_lic.dtypes)\n",
    "df_lic\n"
   ]
  },
  {
   "cell_type": "code",
   "execution_count": 9,
   "id": "likely-dependence",
   "metadata": {
    "ExecuteTime": {
     "end_time": "2022-11-28T03:37:16.361774Z",
     "start_time": "2022-11-28T03:37:16.340831Z"
    }
   },
   "outputs": [],
   "source": [
    "df_CO2_BC.sort_values(by='minutes', inplace=True)\n",
    "df_lic.sort_values(by='minutes', inplace=True)"
   ]
  },
  {
   "cell_type": "code",
   "execution_count": 20,
   "id": "noticed-passage",
   "metadata": {
    "ExecuteTime": {
     "end_time": "2022-11-28T05:11:37.715440Z",
     "start_time": "2022-11-28T05:11:37.690503Z"
    }
   },
   "outputs": [
    {
     "data": {
      "text/html": [
       "<div>\n",
       "<style scoped>\n",
       "    .dataframe tbody tr th:only-of-type {\n",
       "        vertical-align: middle;\n",
       "    }\n",
       "\n",
       "    .dataframe tbody tr th {\n",
       "        vertical-align: top;\n",
       "    }\n",
       "\n",
       "    .dataframe thead th {\n",
       "        text-align: right;\n",
       "    }\n",
       "</style>\n",
       "<table border=\"1\" class=\"dataframe\">\n",
       "  <thead>\n",
       "    <tr style=\"text-align: right;\">\n",
       "      <th></th>\n",
       "      <th>time2_x</th>\n",
       "      <th>BC (ug/m3)</th>\n",
       "      <th>CO2 (ug/m3)</th>\n",
       "      <th>BC/CO2 EF/kg fuel</th>\n",
       "      <th>time</th>\n",
       "      <th>seconds_x</th>\n",
       "      <th>minutes</th>\n",
       "      <th>Time</th>\n",
       "      <th>t1_indexed</th>\n",
       "      <th>license</th>\n",
       "      <th>vehicle-make-name</th>\n",
       "      <th>seconds_y</th>\n",
       "    </tr>\n",
       "  </thead>\n",
       "  <tbody>\n",
       "    <tr>\n",
       "      <th>0</th>\n",
       "      <td>0:05:40</td>\n",
       "      <td>193.393660</td>\n",
       "      <td>83812.264400</td>\n",
       "      <td>7.276122</td>\n",
       "      <td>2022-11-27 00:05:40</td>\n",
       "      <td>45</td>\n",
       "      <td>5.666667</td>\n",
       "      <td>2022-09-02 00:00:19</td>\n",
       "      <td>2022-11-27 00:00:19</td>\n",
       "      <td>2102015672</td>\n",
       "      <td>chevrolet</td>\n",
       "      <td>19</td>\n",
       "    </tr>\n",
       "    <tr>\n",
       "      <th>1</th>\n",
       "      <td>0:08:36</td>\n",
       "      <td>94.484616</td>\n",
       "      <td>25506.239870</td>\n",
       "      <td>11.680998</td>\n",
       "      <td>2022-11-27 00:08:36</td>\n",
       "      <td>44</td>\n",
       "      <td>8.600000</td>\n",
       "      <td>2022-09-02 00:00:19</td>\n",
       "      <td>2022-11-27 00:00:19</td>\n",
       "      <td>2102015672</td>\n",
       "      <td>chevrolet</td>\n",
       "      <td>19</td>\n",
       "    </tr>\n",
       "    <tr>\n",
       "      <th>2</th>\n",
       "      <td>0:10:50</td>\n",
       "      <td>159.601288</td>\n",
       "      <td>75172.331670</td>\n",
       "      <td>6.694893</td>\n",
       "      <td>2022-11-27 00:10:50</td>\n",
       "      <td>60</td>\n",
       "      <td>10.833333</td>\n",
       "      <td>2022-09-02 00:00:19</td>\n",
       "      <td>2022-11-27 00:00:19</td>\n",
       "      <td>2102015672</td>\n",
       "      <td>chevrolet</td>\n",
       "      <td>19</td>\n",
       "    </tr>\n",
       "    <tr>\n",
       "      <th>3</th>\n",
       "      <td>0:15:07</td>\n",
       "      <td>249.352208</td>\n",
       "      <td>46814.807230</td>\n",
       "      <td>16.795590</td>\n",
       "      <td>2022-11-27 00:15:07</td>\n",
       "      <td>22</td>\n",
       "      <td>15.116667</td>\n",
       "      <td>2022-09-02 00:00:19</td>\n",
       "      <td>2022-11-27 00:00:19</td>\n",
       "      <td>2102015672</td>\n",
       "      <td>chevrolet</td>\n",
       "      <td>19</td>\n",
       "    </tr>\n",
       "    <tr>\n",
       "      <th>4</th>\n",
       "      <td>0:17:18</td>\n",
       "      <td>83.091961</td>\n",
       "      <td>7618.485284</td>\n",
       "      <td>34.391860</td>\n",
       "      <td>2022-11-27 00:17:18</td>\n",
       "      <td>35</td>\n",
       "      <td>17.300000</td>\n",
       "      <td>2022-09-02 00:00:19</td>\n",
       "      <td>2022-11-27 00:00:19</td>\n",
       "      <td>2102015672</td>\n",
       "      <td>chevrolet</td>\n",
       "      <td>19</td>\n",
       "    </tr>\n",
       "  </tbody>\n",
       "</table>\n",
       "</div>"
      ],
      "text/plain": [
       "   time2_x  BC (ug/m3)   CO2 (ug/m3)  BC/CO2 EF/kg fuel                 time  \\\n",
       "0  0:05:40  193.393660  83812.264400           7.276122  2022-11-27 00:05:40   \n",
       "1  0:08:36   94.484616  25506.239870          11.680998  2022-11-27 00:08:36   \n",
       "2  0:10:50  159.601288  75172.331670           6.694893  2022-11-27 00:10:50   \n",
       "3  0:15:07  249.352208  46814.807230          16.795590  2022-11-27 00:15:07   \n",
       "4  0:17:18   83.091961   7618.485284          34.391860  2022-11-27 00:17:18   \n",
       "\n",
       "   seconds_x    minutes                 Time          t1_indexed     license  \\\n",
       "0         45   5.666667  2022-09-02 00:00:19 2022-11-27 00:00:19  2102015672   \n",
       "1         44   8.600000  2022-09-02 00:00:19 2022-11-27 00:00:19  2102015672   \n",
       "2         60  10.833333  2022-09-02 00:00:19 2022-11-27 00:00:19  2102015672   \n",
       "3         22  15.116667  2022-09-02 00:00:19 2022-11-27 00:00:19  2102015672   \n",
       "4         35  17.300000  2022-09-02 00:00:19 2022-11-27 00:00:19  2102015672   \n",
       "\n",
       "  vehicle-make-name  seconds_y  \n",
       "0         chevrolet         19  \n",
       "1         chevrolet         19  \n",
       "2         chevrolet         19  \n",
       "3         chevrolet         19  \n",
       "4         chevrolet         19  "
      ]
     },
     "execution_count": 20,
     "metadata": {},
     "output_type": "execute_result"
    }
   ],
   "source": [
    "df3= pd.merge_asof(\n",
    "    df_CO2_BC, df_lic, on=\"minutes\",direction=\"nearest\",  \n",
    "        allow_exact_matches=False)\n",
    "df3.to_csv('./Results2/merged_CO2_BC_EF_ALPR_min.csv')\n",
    "\n",
    "df3.head()"
   ]
  },
  {
   "cell_type": "code",
   "execution_count": 21,
   "id": "empty-pregnancy",
   "metadata": {
    "ExecuteTime": {
     "end_time": "2022-11-28T05:11:43.464018Z",
     "start_time": "2022-11-28T05:11:43.438100Z"
    }
   },
   "outputs": [
    {
     "data": {
      "text/html": [
       "<div>\n",
       "<style scoped>\n",
       "    .dataframe tbody tr th:only-of-type {\n",
       "        vertical-align: middle;\n",
       "    }\n",
       "\n",
       "    .dataframe tbody tr th {\n",
       "        vertical-align: top;\n",
       "    }\n",
       "\n",
       "    .dataframe thead th {\n",
       "        text-align: right;\n",
       "    }\n",
       "</style>\n",
       "<table border=\"1\" class=\"dataframe\">\n",
       "  <thead>\n",
       "    <tr style=\"text-align: right;\">\n",
       "      <th></th>\n",
       "      <th>time2_x</th>\n",
       "      <th>BC (ug/m3)</th>\n",
       "      <th>CO2 (ug/m3)</th>\n",
       "      <th>BC/CO2 EF/kg fuel</th>\n",
       "      <th>time</th>\n",
       "      <th>seconds_x</th>\n",
       "      <th>minutes</th>\n",
       "      <th>Time</th>\n",
       "      <th>t1_indexed</th>\n",
       "      <th>license</th>\n",
       "      <th>vehicle-make-name</th>\n",
       "      <th>seconds_y</th>\n",
       "    </tr>\n",
       "  </thead>\n",
       "  <tbody>\n",
       "    <tr>\n",
       "      <th>11</th>\n",
       "      <td>0:35:22</td>\n",
       "      <td>155.293722</td>\n",
       "      <td>4221.974694</td>\n",
       "      <td>115.985464</td>\n",
       "      <td>2022-11-27 00:35:22</td>\n",
       "      <td>57</td>\n",
       "      <td>35.366667</td>\n",
       "      <td>2022-09-02 00:48:47</td>\n",
       "      <td>2022-11-27 00:48:47</td>\n",
       "      <td>2104921995</td>\n",
       "      <td>volvo</td>\n",
       "      <td>95</td>\n",
       "    </tr>\n",
       "    <tr>\n",
       "      <th>15</th>\n",
       "      <td>0:42:18</td>\n",
       "      <td>132.474562</td>\n",
       "      <td>2801.542226</td>\n",
       "      <td>149.107885</td>\n",
       "      <td>2022-11-27 00:42:18</td>\n",
       "      <td>60</td>\n",
       "      <td>42.300000</td>\n",
       "      <td>2022-09-02 00:48:47</td>\n",
       "      <td>2022-11-27 00:48:47</td>\n",
       "      <td>2104921995</td>\n",
       "      <td>volvo</td>\n",
       "      <td>95</td>\n",
       "    </tr>\n",
       "    <tr>\n",
       "      <th>26</th>\n",
       "      <td>1:06:46</td>\n",
       "      <td>166.373958</td>\n",
       "      <td>710.725389</td>\n",
       "      <td>738.157115</td>\n",
       "      <td>2022-11-27 01:06:46</td>\n",
       "      <td>112</td>\n",
       "      <td>66.766667</td>\n",
       "      <td>2022-09-02 01:09:23</td>\n",
       "      <td>2022-11-27 01:09:23</td>\n",
       "      <td>2106159630</td>\n",
       "      <td>kenworth</td>\n",
       "      <td>92</td>\n",
       "    </tr>\n",
       "    <tr>\n",
       "      <th>34</th>\n",
       "      <td>1:25:41</td>\n",
       "      <td>128.097471</td>\n",
       "      <td>3876.477391</td>\n",
       "      <td>104.200210</td>\n",
       "      <td>2022-11-27 01:25:41</td>\n",
       "      <td>126</td>\n",
       "      <td>85.683333</td>\n",
       "      <td>2022-09-02 01:11:41</td>\n",
       "      <td>2022-11-27 01:11:41</td>\n",
       "      <td>2106296684</td>\n",
       "      <td>chevrolet</td>\n",
       "      <td>112</td>\n",
       "    </tr>\n",
       "    <tr>\n",
       "      <th>39</th>\n",
       "      <td>1:36:34</td>\n",
       "      <td>44.829109</td>\n",
       "      <td>1390.088980</td>\n",
       "      <td>101.691065</td>\n",
       "      <td>2022-11-27 01:36:34</td>\n",
       "      <td>130</td>\n",
       "      <td>96.566667</td>\n",
       "      <td>2022-09-02 01:45:52</td>\n",
       "      <td>2022-11-27 01:45:52</td>\n",
       "      <td>2108348827</td>\n",
       "      <td>chevrolet</td>\n",
       "      <td>157</td>\n",
       "    </tr>\n",
       "  </tbody>\n",
       "</table>\n",
       "</div>"
      ],
      "text/plain": [
       "    time2_x  BC (ug/m3)  CO2 (ug/m3)  BC/CO2 EF/kg fuel                 time  \\\n",
       "11  0:35:22  155.293722  4221.974694         115.985464  2022-11-27 00:35:22   \n",
       "15  0:42:18  132.474562  2801.542226         149.107885  2022-11-27 00:42:18   \n",
       "26  1:06:46  166.373958   710.725389         738.157115  2022-11-27 01:06:46   \n",
       "34  1:25:41  128.097471  3876.477391         104.200210  2022-11-27 01:25:41   \n",
       "39  1:36:34   44.829109  1390.088980         101.691065  2022-11-27 01:36:34   \n",
       "\n",
       "    seconds_x    minutes                 Time          t1_indexed     license  \\\n",
       "11         57  35.366667  2022-09-02 00:48:47 2022-11-27 00:48:47  2104921995   \n",
       "15         60  42.300000  2022-09-02 00:48:47 2022-11-27 00:48:47  2104921995   \n",
       "26        112  66.766667  2022-09-02 01:09:23 2022-11-27 01:09:23  2106159630   \n",
       "34        126  85.683333  2022-09-02 01:11:41 2022-11-27 01:11:41  2106296684   \n",
       "39        130  96.566667  2022-09-02 01:45:52 2022-11-27 01:45:52  2108348827   \n",
       "\n",
       "   vehicle-make-name  seconds_y  \n",
       "11             volvo         95  \n",
       "15             volvo         95  \n",
       "26          kenworth         92  \n",
       "34         chevrolet        112  \n",
       "39         chevrolet        157  "
      ]
     },
     "execution_count": 21,
     "metadata": {},
     "output_type": "execute_result"
    }
   ],
   "source": [
    "df4= df3.loc[df3['BC/CO2 EF/kg fuel'] >= 100]\n",
    "df4.to_csv('./Results2/merged_CO2_BC_EF100_min.csv')\n",
    "df4.head()"
   ]
  },
  {
   "cell_type": "code",
   "execution_count": null,
   "id": "colonial-addition",
   "metadata": {
    "ExecuteTime": {
     "end_time": "2022-11-23T23:41:44.338818Z",
     "start_time": "2022-11-23T23:41:44.309885Z"
    }
   },
   "outputs": [],
   "source": [
    "df_lic[['Time']] = df_lic[['Time']].astype(float)\n",
    "# #.apply(lambda x: x.value)\n",
    "print(df_lic.dtypes)\n",
    "df_lic.head()"
   ]
  },
  {
   "cell_type": "code",
   "execution_count": null,
   "id": "bored-retention",
   "metadata": {
    "ExecuteTime": {
     "end_time": "2022-11-23T23:37:57.971744Z",
     "start_time": "2022-11-23T23:37:57.933824Z"
    }
   },
   "outputs": [],
   "source": [
    "df['time2'] = df['Time'].astype(int).str.split().str[1]\n",
    "# df['time2'] = df['Time'].dt.strftime('%H:%M:%S')\n",
    "df.tail(5)"
   ]
  },
  {
   "cell_type": "code",
   "execution_count": null,
   "id": "arctic-queensland",
   "metadata": {
    "ExecuteTime": {
     "end_time": "2022-11-23T22:47:49.716529Z",
     "start_time": "2022-11-23T22:47:49.590778Z"
    }
   },
   "outputs": [],
   "source": [
    "time2=df_lic[\"t1_indexed\"]/pd\n",
    "time2.dtype\n",
    "# df['timedelta_column'] / pd"
   ]
  },
  {
   "cell_type": "code",
   "execution_count": null,
   "id": "quarterly-cedar",
   "metadata": {
    "ExecuteTime": {
     "end_time": "2022-11-23T22:48:03.848152Z",
     "start_time": "2022-11-23T22:48:03.822222Z"
    }
   },
   "outputs": [],
   "source": [
    "df_lic['t1_indexed'] = pd.to_datetime(df_lic['t1_indexed'].view(int) // 10 ** 9)\n",
    "# #.apply(lambda x: x.value)\n",
    "# pd.to_datetime(df['time'], unit='s')\n",
    "df_lic.dtypes"
   ]
  },
  {
   "cell_type": "code",
   "execution_count": null,
   "id": "informational-kitty",
   "metadata": {
    "ExecuteTime": {
     "end_time": "2022-11-16T23:35:12.193684Z",
     "start_time": "2022-11-16T23:35:12.172770Z"
    }
   },
   "outputs": [],
   "source": [
    "df2.head()"
   ]
  },
  {
   "cell_type": "code",
   "execution_count": null,
   "id": "photographic-meditation",
   "metadata": {
    "ExecuteTime": {
     "end_time": "2022-11-16T23:35:13.159412Z",
     "start_time": "2022-11-16T23:35:13.149453Z"
    }
   },
   "outputs": [],
   "source": [
    "df1.head()"
   ]
  },
  {
   "cell_type": "code",
   "execution_count": null,
   "id": "sapphire-sigma",
   "metadata": {
    "ExecuteTime": {
     "end_time": "2022-11-16T23:35:14.048076Z",
     "start_time": "2022-11-16T23:35:14.036688Z"
    }
   },
   "outputs": [],
   "source": [
    "print(df2.dtypes)\n",
    "# print(df1.dtypes)"
   ]
  },
  {
   "cell_type": "code",
   "execution_count": null,
   "id": "curious-latter",
   "metadata": {
    "ExecuteTime": {
     "end_time": "2022-11-16T23:35:16.585757Z",
     "start_time": "2022-11-16T23:35:16.563845Z"
    }
   },
   "outputs": [],
   "source": [
    "df1.sort_values(by='t1_indexed', inplace=True)\n",
    "df2.sort_values(by='t1_indexed', inplace=True)"
   ]
  },
  {
   "cell_type": "code",
   "execution_count": null,
   "id": "narrow-bahrain",
   "metadata": {
    "ExecuteTime": {
     "end_time": "2022-11-16T23:35:17.484717Z",
     "start_time": "2022-11-16T23:35:17.460756Z"
    }
   },
   "outputs": [],
   "source": [
    "df3= pd.merge_asof(\n",
    "    df1, df2, on=\"t1_indexed\",direction=\"nearest\",  \n",
    "        allow_exact_matches=False)\n",
    "\n",
    "df3.head()"
   ]
  },
  {
   "cell_type": "code",
   "execution_count": null,
   "id": "royal-reviewer",
   "metadata": {
    "ExecuteTime": {
     "end_time": "2022-11-16T23:35:18.403306Z",
     "start_time": "2022-11-16T23:35:18.388567Z"
    }
   },
   "outputs": [],
   "source": [
    "df3.to_csv('./Results2/merged_BC_TS_index.csv')"
   ]
  },
  {
   "cell_type": "code",
   "execution_count": null,
   "id": "assured-retention",
   "metadata": {
    "ExecuteTime": {
     "end_time": "2022-11-17T00:19:25.253440Z",
     "start_time": "2022-11-17T00:19:25.244952Z"
    }
   },
   "outputs": [],
   "source": [
    "print(df_CO2.dtypes)\n",
    "print(df_BC.dtypes)"
   ]
  },
  {
   "cell_type": "code",
   "execution_count": null,
   "id": "radical-tennessee",
   "metadata": {},
   "outputs": [],
   "source": [
    "# df_CO2.sort_values(by='t1_indexed', inplace=True)\n",
    "# df_BC.sort_values(by='t1_indexed', inplace=True)"
   ]
  },
  {
   "cell_type": "code",
   "execution_count": null,
   "id": "downtown-raise",
   "metadata": {
    "ExecuteTime": {
     "end_time": "2022-11-17T00:31:26.433393Z",
     "start_time": "2022-11-17T00:31:26.394496Z"
    }
   },
   "outputs": [],
   "source": [
    "df_BC_CO2= pd.merge_asof(\n",
    "    df_CO2, df_BC, on=\"t1_indexed\",direction=\"nearest\",  \n",
    "        allow_exact_matches=False)\n",
    "\n",
    "df_BC_CO2.head()\n",
    "\n"
   ]
  },
  {
   "cell_type": "code",
   "execution_count": null,
   "id": "beneficial-suite",
   "metadata": {
    "ExecuteTime": {
     "end_time": "2022-11-23T17:06:27.282253Z",
     "start_time": "2022-11-23T17:06:27.248184Z"
    }
   },
   "outputs": [],
   "source": [
    "df_BC_CO2.to_csv('./Results2/merged_CO2_BC_indexed.csv')"
   ]
  },
  {
   "cell_type": "code",
   "execution_count": null,
   "id": "developing-closing",
   "metadata": {},
   "outputs": [],
   "source": [
    "df_CO2 = pd.read_csv('./Results2/merged_CO2_BC_indexed.csv', index_col=0)\n",
    "df_lic = pd.read_csv('./Results2/simplified_ALPR.csv', index_col=0)\n",
    "print(df_CO2_BC.head())\n",
    "print(df_lic.head)"
   ]
  },
  {
   "cell_type": "code",
   "execution_count": null,
   "id": "assisted-butterfly",
   "metadata": {},
   "outputs": [],
   "source": [
    "\n",
    "\n"
   ]
  }
 ],
 "metadata": {
  "kernelspec": {
   "display_name": "Python 3",
   "language": "python",
   "name": "python3"
  },
  "language_info": {
   "codemirror_mode": {
    "name": "ipython",
    "version": 3
   },
   "file_extension": ".py",
   "mimetype": "text/x-python",
   "name": "python",
   "nbconvert_exporter": "python",
   "pygments_lexer": "ipython3",
   "version": "3.7.9"
  },
  "toc": {
   "base_numbering": 1,
   "nav_menu": {},
   "number_sections": true,
   "sideBar": true,
   "skip_h1_title": false,
   "title_cell": "Table of Contents",
   "title_sidebar": "Contents",
   "toc_cell": false,
   "toc_position": {},
   "toc_section_display": true,
   "toc_window_display": false
  },
  "varInspector": {
   "cols": {
    "lenName": 16,
    "lenType": 16,
    "lenVar": 40
   },
   "kernels_config": {
    "python": {
     "delete_cmd_postfix": "",
     "delete_cmd_prefix": "del ",
     "library": "var_list.py",
     "varRefreshCmd": "print(var_dic_list())"
    },
    "r": {
     "delete_cmd_postfix": ") ",
     "delete_cmd_prefix": "rm(",
     "library": "var_list.r",
     "varRefreshCmd": "cat(var_dic_list()) "
    }
   },
   "types_to_exclude": [
    "module",
    "function",
    "builtin_function_or_method",
    "instance",
    "_Feature"
   ],
   "window_display": false
  }
 },
 "nbformat": 4,
 "nbformat_minor": 5
}
